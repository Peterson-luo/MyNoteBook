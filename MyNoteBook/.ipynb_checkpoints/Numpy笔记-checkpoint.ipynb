{
 "cells": [
  {
   "cell_type": "markdown",
   "metadata": {},
   "source": [
    "# 基础操作"
   ]
  },
  {
   "cell_type": "code",
   "execution_count": 3,
   "metadata": {},
   "outputs": [],
   "source": [
    "import numpy as np\n",
    "%matplotlib inline "
   ]
  },
  {
   "cell_type": "markdown",
   "metadata": {},
   "source": [
    "%matplotlib inline 使matplotlib图表在notebook中直接显示"
   ]
  },
  {
   "cell_type": "markdown",
   "metadata": {},
   "source": [
    "## 定义数组"
   ]
  },
  {
   "cell_type": "code",
   "execution_count": 15,
   "metadata": {},
   "outputs": [
    {
     "name": "stdout",
     "output_type": "stream",
     "text": [
      "[1 2 3 4]\n",
      "[5 6 7]\n",
      "[[1 2 3]\n",
      " [1 2 4]\n",
      " [4 6 7]]\n"
     ]
    }
   ],
   "source": [
    "a=np.array([1,2,3,4]) #llist文件可以转换为怒骂\n",
    "b=np.array((5,6,7))\n",
    "c=np.array([[1,2,3],[1,2,4],[4,6,7]])#此处维数一定要相等，不然不会成为一个矩阵\n",
    "print(a)\n",
    "print(b)\n",
    "print(c)"
   ]
  },
  {
   "cell_type": "code",
   "execution_count": 14,
   "metadata": {},
   "outputs": [
    {
     "data": {
      "text/plain": [
       "(4,)"
      ]
     },
     "execution_count": 14,
     "metadata": {},
     "output_type": "execute_result"
    }
   ],
   "source": [
    "a.shape"
   ]
  },
  {
   "cell_type": "code",
   "execution_count": 12,
   "metadata": {},
   "outputs": [
    {
     "data": {
      "text/plain": [
       "(3,)"
      ]
     },
     "execution_count": 12,
     "metadata": {},
     "output_type": "execute_result"
    }
   ],
   "source": [
    "b.shape"
   ]
  },
  {
   "cell_type": "code",
   "execution_count": 16,
   "metadata": {},
   "outputs": [
    {
     "data": {
      "text/plain": [
       "(3, 3)"
      ]
     },
     "execution_count": 16,
     "metadata": {},
     "output_type": "execute_result"
    }
   ],
   "source": [
    "c.shape"
   ]
  },
  {
   "cell_type": "markdown",
   "metadata": {},
   "source": [
    "- 如何更改数组维数"
   ]
  },
  {
   "cell_type": "code",
   "execution_count": 17,
   "metadata": {},
   "outputs": [
    {
     "data": {
      "text/plain": [
       "array([[1],\n",
       "       [2],\n",
       "       [3],\n",
       "       [1],\n",
       "       [2],\n",
       "       [4],\n",
       "       [4],\n",
       "       [6],\n",
       "       [7]])"
      ]
     },
     "execution_count": 17,
     "metadata": {},
     "output_type": "execute_result"
    }
   ],
   "source": [
    "c.reshape(9,1) "
   ]
  },
  {
   "cell_type": "code",
   "execution_count": 21,
   "metadata": {},
   "outputs": [
    {
     "data": {
      "text/plain": [
       "array([[1, 2, 3, 1, 2, 4, 4, 6, 7]])"
      ]
     },
     "execution_count": 21,
     "metadata": {},
     "output_type": "execute_result"
    }
   ],
   "source": [
    "c.reshape(1,9)"
   ]
  },
  {
   "cell_type": "markdown",
   "metadata": {},
   "source": [
    "**reshape并不会单独创建一个数组，而是在原有数组的基础上共享存储空间，修改reshape数组的值，会使得原有的数组数值也发生改变**"
   ]
  },
  {
   "cell_type": "markdown",
   "metadata": {},
   "source": [
    "## 更改类型"
   ]
  },
  {
   "cell_type": "markdown",
   "metadata": {},
   "source": [
    "**使用astype()函数改变数组的数据类型**"
   ]
  },
  {
   "cell_type": "code",
   "execution_count": 23,
   "metadata": {},
   "outputs": [
    {
     "data": {
      "text/plain": [
       "dtype('int32')"
      ]
     },
     "execution_count": 23,
     "metadata": {},
     "output_type": "execute_result"
    }
   ],
   "source": [
    "c.dtype"
   ]
  },
  {
   "cell_type": "code",
   "execution_count": 24,
   "metadata": {},
   "outputs": [
    {
     "data": {
      "text/plain": [
       "array([[1., 2., 3.],\n",
       "       [1., 2., 4.],\n",
       "       [4., 6., 7.]])"
      ]
     },
     "execution_count": 24,
     "metadata": {},
     "output_type": "execute_result"
    }
   ],
   "source": [
    "c.astype(np.float)"
   ]
  },
  {
   "cell_type": "markdown",
   "metadata": {},
   "source": [
    "## 自动生成数组 "
   ]
  },
  {
   "cell_type": "markdown",
   "metadata": {},
   "source": [
    "- **使用arange（）通过指定开始值、终止值和步长来生成一个等差数列的一维数组，但是得到的结果不包括终值**"
   ]
  },
  {
   "cell_type": "code",
   "execution_count": 26,
   "metadata": {},
   "outputs": [
    {
     "name": "stdout",
     "output_type": "stream",
     "text": [
      "[0.  0.1 0.2 0.3 0.4 0.5 0.6 0.7 0.8 0.9]\n"
     ]
    }
   ],
   "source": [
    "a=np.arange(0,1,0.1)\n",
    "print(a)"
   ]
  },
  {
   "cell_type": "markdown",
   "metadata": {},
   "source": [
    "- **使用linspace（）通过指定开始值、终止值和元素个数来生成一个等差数列的一维数组，可以通过endpoint参数来指定是否包含终值，默认值为TRUE**"
   ]
  },
  {
   "cell_type": "code",
   "execution_count": 28,
   "metadata": {},
   "outputs": [
    {
     "data": {
      "text/plain": [
       "array([0.        , 0.11111111, 0.22222222, 0.33333333, 0.44444444,\n",
       "       0.55555556, 0.66666667, 0.77777778, 0.88888889, 1.        ])"
      ]
     },
     "execution_count": 28,
     "metadata": {},
     "output_type": "execute_result"
    }
   ],
   "source": [
    "np.linspace(0,1,10)"
   ]
  },
  {
   "cell_type": "code",
   "execution_count": 30,
   "metadata": {},
   "outputs": [
    {
     "data": {
      "text/plain": [
       "array([0. , 0.1, 0.2, 0.3, 0.4, 0.5, 0.6, 0.7, 0.8, 0.9])"
      ]
     },
     "execution_count": 30,
     "metadata": {},
     "output_type": "execute_result"
    }
   ],
   "source": [
    "np.linspace(0,1,10,endpoint=False)"
   ]
  },
  {
   "cell_type": "markdown",
   "metadata": {},
   "source": [
    "- **使用logspace()通过指定开始值、终止值和元素个数来生成一个以10为底数列的一维数组,通过base参数可以改变底数**"
   ]
  },
  {
   "cell_type": "code",
   "execution_count": 31,
   "metadata": {},
   "outputs": [
    {
     "data": {
      "text/plain": [
       "array([  1.        ,   3.16227766,  10.        ,  31.6227766 ,\n",
       "       100.        ])"
      ]
     },
     "execution_count": 31,
     "metadata": {},
     "output_type": "execute_result"
    }
   ],
   "source": [
    "np.logspace(0,2,5)"
   ]
  },
  {
   "cell_type": "code",
   "execution_count": 33,
   "metadata": {},
   "outputs": [
    {
     "data": {
      "text/plain": [
       "array([1.        , 1.31950791, 1.74110113, 2.29739671, 3.03143313])"
      ]
     },
     "execution_count": 33,
     "metadata": {},
     "output_type": "execute_result"
    }
   ],
   "source": [
    "np.logspace(0,2,5,base=2,endpoint=False)"
   ]
  },
  {
   "cell_type": "markdown",
   "metadata": {},
   "source": [
    "- **ones(),zeros(),empty()函数可以创建一个元素为1,0，空的数组，第一个参数可以指定数组的形状，第二个参数可以指定数组元素的类型**"
   ]
  },
  {
   "cell_type": "code",
   "execution_count": 36,
   "metadata": {},
   "outputs": [
    {
     "data": {
      "text/plain": [
       "array([1, 1, 1, 1])"
      ]
     },
     "execution_count": 36,
     "metadata": {},
     "output_type": "execute_result"
    }
   ],
   "source": [
    "np.ones(4,np.int)"
   ]
  },
  {
   "cell_type": "code",
   "execution_count": 37,
   "metadata": {},
   "outputs": [
    {
     "data": {
      "text/plain": [
       "array([[1, 1, 1, 1],\n",
       "       [1, 1, 1, 1],\n",
       "       [1, 1, 1, 1],\n",
       "       [1, 1, 1, 1]])"
      ]
     },
     "execution_count": 37,
     "metadata": {},
     "output_type": "execute_result"
    }
   ],
   "source": [
    "np.ones((4,4),np.int)"
   ]
  },
  {
   "cell_type": "markdown",
   "metadata": {},
   "source": [
    "- **使用函数来基于下标创建数组**"
   ]
  },
  {
   "cell_type": "code",
   "execution_count": 48,
   "metadata": {},
   "outputs": [
    {
     "data": {
      "text/plain": [
       "array([1., 2., 3., 4., 1., 2., 3., 4., 1., 2.])"
      ]
     },
     "execution_count": 48,
     "metadata": {},
     "output_type": "execute_result"
    }
   ],
   "source": [
    "def func(i):\n",
    "    x=i % 4 + 1\n",
    "    return x\n",
    "np.fromfunction(func,(10,))#此处应该注意，如果函数只有一个输入，那么数组就只能是一维的"
   ]
  },
  {
   "cell_type": "code",
   "execution_count": 47,
   "metadata": {},
   "outputs": [
    {
     "data": {
      "text/plain": [
       "array([[ 1.,  2.,  3.,  4.,  5.,  6.,  7.,  8.,  9.],\n",
       "       [ 2.,  4.,  6.,  8., 10., 12., 14., 16., 18.],\n",
       "       [ 3.,  6.,  9., 12., 15., 18., 21., 24., 27.],\n",
       "       [ 4.,  8., 12., 16., 20., 24., 28., 32., 36.],\n",
       "       [ 5., 10., 15., 20., 25., 30., 35., 40., 45.],\n",
       "       [ 6., 12., 18., 24., 30., 36., 42., 48., 54.],\n",
       "       [ 7., 14., 21., 28., 35., 42., 49., 56., 63.],\n",
       "       [ 8., 16., 24., 32., 40., 48., 56., 64., 72.],\n",
       "       [ 9., 18., 27., 36., 45., 54., 63., 72., 81.]])"
      ]
     },
     "execution_count": 47,
     "metadata": {},
     "output_type": "execute_result"
    }
   ],
   "source": [
    "def func2(i,j):\n",
    "    return (i+1)*(j+1)\n",
    "np.fromfunction(func2,(9,9))#下标是从0开始计数的"
   ]
  },
  {
   "cell_type": "markdown",
   "metadata": {},
   "source": [
    "**需要注意的是，这种方法创建的数组，函数有多少个参数，就只能产生多少维的数组**"
   ]
  },
  {
   "cell_type": "markdown",
   "metadata": {},
   "source": [
    "## 存取元素"
   ]
  },
  {
   "cell_type": "markdown",
   "metadata": {},
   "source": [
    "###  一维数组的存取"
   ]
  },
  {
   "cell_type": "code",
   "execution_count": 52,
   "metadata": {},
   "outputs": [],
   "source": [
    "a=np.arange(10)"
   ]
  },
  {
   "cell_type": "code",
   "execution_count": 45,
   "metadata": {},
   "outputs": [
    {
     "data": {
      "text/plain": [
       "2.792526803190927"
      ]
     },
     "execution_count": 45,
     "metadata": {},
     "output_type": "execute_result"
    }
   ],
   "source": [
    "a[4]#取一个"
   ]
  },
  {
   "cell_type": "code",
   "execution_count": 54,
   "metadata": {},
   "outputs": [
    {
     "data": {
      "text/plain": [
       "array([0, 1, 2, 3, 4])"
      ]
     },
     "execution_count": 54,
     "metadata": {},
     "output_type": "execute_result"
    }
   ],
   "source": [
    "a[0:5]#按列表取值"
   ]
  },
  {
   "cell_type": "code",
   "execution_count": 55,
   "metadata": {
    "scrolled": true
   },
   "outputs": [
    {
     "data": {
      "text/plain": [
       "array([0, 2, 4])"
      ]
     },
     "execution_count": 55,
     "metadata": {},
     "output_type": "execute_result"
    }
   ],
   "source": [
    "a[:6:2]#按固定步长取值"
   ]
  },
  {
   "cell_type": "code",
   "execution_count": 56,
   "metadata": {},
   "outputs": [
    {
     "data": {
      "text/plain": [
       "array([6, 7, 8, 9])"
      ]
     },
     "execution_count": 56,
     "metadata": {},
     "output_type": "execute_result"
    }
   ],
   "source": [
    "a[a>5]"
   ]
  },
  {
   "cell_type": "markdown",
   "metadata": {},
   "source": [
    "- **取值的时候也可对相应的位置赋值，因此上面取值的操作也可以用来进行赋值，修改数组元素**\n",
    "- **此外，通过此存取元素来赋值给另外一个对象，将产生一个新的内存空间，因此此时对新对象进行修改并不会对原数组产生影响**"
   ]
  },
  {
   "cell_type": "markdown",
   "metadata": {},
   "source": [
    "###  多维数组的存取"
   ]
  },
  {
   "cell_type": "code",
   "execution_count": 48,
   "metadata": {},
   "outputs": [
    {
     "name": "stdout",
     "output_type": "stream",
     "text": [
      "[[ 1.  2.  3.  4.  5.  6.  7.  8.  9.]\n",
      " [ 2.  4.  6.  8. 10. 12. 14. 16. 18.]\n",
      " [ 3.  6.  9. 12. 15. 18. 21. 24. 27.]\n",
      " [ 4.  8. 12. 16. 20. 24. 28. 32. 36.]\n",
      " [ 5. 10. 15. 20. 25. 30. 35. 40. 45.]\n",
      " [ 6. 12. 18. 24. 30. 36. 42. 48. 54.]\n",
      " [ 7. 14. 21. 28. 35. 42. 49. 56. 63.]\n",
      " [ 8. 16. 24. 32. 40. 48. 56. 64. 72.]\n",
      " [ 9. 18. 27. 36. 45. 54. 63. 72. 81.]] (9, 9)\n"
     ]
    }
   ],
   "source": [
    "c=np.fromfunction(func2,(9,9))\n",
    "print(c,c.shape)"
   ]
  },
  {
   "cell_type": "code",
   "execution_count": 58,
   "metadata": {},
   "outputs": [
    {
     "data": {
      "text/plain": [
       "array([ 2.,  6., 12., 20.])"
      ]
     },
     "execution_count": 58,
     "metadata": {},
     "output_type": "execute_result"
    }
   ],
   "source": [
    "c[(0,1,2,3),(1,2,3,4)]#通过两个列表来取，这样的取法列表对应元素会组合成下标"
   ]
  },
  {
   "cell_type": "code",
   "execution_count": 65,
   "metadata": {},
   "outputs": [
    {
     "data": {
      "text/plain": [
       "array([[ 7., 21., 42.],\n",
       "       [ 8., 24., 48.],\n",
       "       [ 9., 27., 54.]])"
      ]
     },
     "execution_count": 65,
     "metadata": {},
     "output_type": "execute_result"
    }
   ],
   "source": [
    "c[6::,[0,2,5]]"
   ]
  },
  {
   "cell_type": "code",
   "execution_count": 66,
   "metadata": {},
   "outputs": [
    {
     "data": {
      "text/plain": [
       "array([ 3., 12., 18., 24.])"
      ]
     },
     "execution_count": 66,
     "metadata": {},
     "output_type": "execute_result"
    }
   ],
   "source": [
    "mask=np.array([1,0,0,1,0,1,0,1,0],dtype=np.bool)#布尔列表来取值\n",
    "c[mask,2]"
   ]
  },
  {
   "cell_type": "markdown",
   "metadata": {},
   "source": [
    "# 高级操作"
   ]
  },
  {
   "cell_type": "markdown",
   "metadata": {},
   "source": [
    "## 结构数组"
   ]
  },
  {
   "cell_type": "markdown",
   "metadata": {},
   "source": [
    "### 自定义数组类型"
   ]
  },
  {
   "cell_type": "code",
   "execution_count": 73,
   "metadata": {},
   "outputs": [],
   "source": [
    "persontype=np.dtype({\n",
    "    'names':['name','weight','age'], #定义列\n",
    "    'formats':['S30','f','i']},align=True) # 定义列类型\n",
    "a=np.array([('zhang',80.0,18),('wang',70.5,25)],dtype=persontype )"
   ]
  },
  {
   "cell_type": "code",
   "execution_count": 78,
   "metadata": {},
   "outputs": [
    {
     "name": "stdout",
     "output_type": "stream",
     "text": [
      "(b'zhang', 80., 18)\n",
      "80.0\n",
      "80.0\n"
     ]
    }
   ],
   "source": [
    "print(a[0])\n",
    "print(a[0][1])\n",
    "print(a[0]['weight'])"
   ]
  },
  {
   "cell_type": "markdown",
   "metadata": {},
   "source": [
    "**需要注意的是，a[0]与a共享内存，此时修改a[0]也会对a的元素造成改变**"
   ]
  },
  {
   "cell_type": "code",
   "execution_count": 79,
   "metadata": {},
   "outputs": [],
   "source": [
    "a[0]['name']='li'"
   ]
  },
  {
   "cell_type": "code",
   "execution_count": 80,
   "metadata": {},
   "outputs": [
    {
     "data": {
      "text/plain": [
       "array([(b'li', 80. , 18), (b'wang', 70.5, 25)],\n",
       "      dtype={'names':['name','weight','age'], 'formats':['S30','<f4','<i4'], 'offsets':[0,32,36], 'itemsize':40, 'aligned':True})"
      ]
     },
     "execution_count": 80,
     "metadata": {},
     "output_type": "execute_result"
    }
   ],
   "source": [
    "a"
   ]
  },
  {
   "cell_type": "markdown",
   "metadata": {},
   "source": [
    "### 创建共享内存数组"
   ]
  },
  {
   "cell_type": "markdown",
   "metadata": {},
   "source": [
    "- 使用view()"
   ]
  },
  {
   "cell_type": "code",
   "execution_count": 84,
   "metadata": {},
   "outputs": [
    {
     "name": "stdout",
     "output_type": "stream",
     "text": [
      "[[0. 1.]\n",
      " [2. 3.]\n",
      " [4. 5.]]\n",
      "[[         0 1065353216]\n",
      " [1073741824 1077936128]\n",
      " [1082130432 1084227584]]\n",
      "[[  0   0   0   0   0   0 128  63]\n",
      " [  0   0   0  64   0   0  64  64]\n",
      " [  0   0 128  64   0   0 160  64]]\n"
     ]
    }
   ],
   "source": [
    "a=np.array([[0,1],[2,3],[4,5]],dtype=np.float32)\n",
    "b=a.view(np.uint32)\n",
    "c=a.view(np.uint8)\n",
    "print(a)\n",
    "print(b)\n",
    "print(c)"
   ]
  },
  {
   "cell_type": "code",
   "execution_count": 85,
   "metadata": {},
   "outputs": [
    {
     "name": "stdout",
     "output_type": "stream",
     "text": [
      "[[0.        1.0000038]\n",
      " [2.        3.       ]\n",
      " [4.        5.       ]]\n",
      "[[  0   0   0   0  32   0 128  63]\n",
      " [  0   0   0  64   0   0  64  64]\n",
      " [  0   0 128  64   0   0 160  64]]\n"
     ]
    }
   ],
   "source": [
    "c[0,4]=32\n",
    "print(a)\n",
    "print(c)"
   ]
  },
  {
   "cell_type": "markdown",
   "metadata": {},
   "source": [
    "- 使用as_stride()"
   ]
  },
  {
   "cell_type": "code",
   "execution_count": 1,
   "metadata": {},
   "outputs": [],
   "source": [
    "from numpy.lib.stride_tricks import as_strided #导入as_strided函数"
   ]
  },
  {
   "cell_type": "code",
   "execution_count": 65,
   "metadata": {},
   "outputs": [
    {
     "name": "stdout",
     "output_type": "stream",
     "text": [
      "(4,)\n"
     ]
    }
   ],
   "source": [
    "a=np.arange(6)\n",
    "b=as_strided(a,shape=(4,3),strides=(4,4))"
   ]
  },
  {
   "cell_type": "code",
   "execution_count": 27,
   "metadata": {},
   "outputs": [
    {
     "data": {
      "text/plain": [
       "array([[0, 1, 2],\n",
       "       [1, 2, 3],\n",
       "       [2, 3, 4],\n",
       "       [3, 4, 5]])"
      ]
     },
     "execution_count": 27,
     "metadata": {},
     "output_type": "execute_result"
    }
   ],
   "source": [
    "b\n",
    "# print(b.strides)"
   ]
  },
  {
   "cell_type": "code",
   "execution_count": 16,
   "metadata": {},
   "outputs": [
    {
     "name": "stdout",
     "output_type": "stream",
     "text": [
      "[ 0  1 20  3  4  5]\n"
     ]
    }
   ],
   "source": [
    "a[2]=20\n",
    "print(a)"
   ]
  },
  {
   "cell_type": "code",
   "execution_count": 17,
   "metadata": {},
   "outputs": [
    {
     "data": {
      "text/plain": [
       "array([[ 0,  1, 20],\n",
       "       [ 1, 20,  3],\n",
       "       [20,  3,  4],\n",
       "       [ 3,  4,  5]])"
      ]
     },
     "execution_count": 17,
     "metadata": {},
     "output_type": "execute_result"
    }
   ],
   "source": [
    "b\n"
   ]
  },
  {
   "cell_type": "markdown",
   "metadata": {},
   "source": [
    "**使用as_strided能够创建一个以某个数组为基础的，自定义形状的数组，strides参数指定了数组的stride属性**"
   ]
  },
  {
   "cell_type": "markdown",
   "metadata": {},
   "source": [
    "## ufunc函数"
   ]
  },
  {
   "cell_type": "markdown",
   "metadata": {},
   "source": [
    "### 更改numpy类型为标准型——item（）函数"
   ]
  },
  {
   "cell_type": "code",
   "execution_count": 51,
   "metadata": {},
   "outputs": [],
   "source": [
    "a=np.linspace(0,2*np.pi,10)\n",
    "b=np.sin(a)\n",
    "b=b.reshape(5,2)"
   ]
  },
  {
   "cell_type": "code",
   "execution_count": 52,
   "metadata": {},
   "outputs": [
    {
     "name": "stdout",
     "output_type": "stream",
     "text": [
      "-2.4492935982947064e-16 <class 'float'> <class 'numpy.float64'>\n"
     ]
    }
   ],
   "source": [
    "print(b[4,1],type(b.item(4,1)),type(b[4,1]))#此处将numpy数据类型更改为了标准python数据类型"
   ]
  },
  {
   "cell_type": "markdown",
   "metadata": {},
   "source": [
    "### 四则运算函数"
   ]
  },
  {
   "cell_type": "markdown",
   "metadata": {},
   "source": [
    "- 加法"
   ]
  },
  {
   "cell_type": "code",
   "execution_count": 72,
   "metadata": {},
   "outputs": [
    {
     "data": {
      "text/plain": [
       "array([ 4,  6,  8, 10, 12])"
      ]
     },
     "execution_count": 72,
     "metadata": {},
     "output_type": "execute_result"
    }
   ],
   "source": [
    "a=np.arange(0,5)\n",
    "b=np.arange(4,9)\n",
    "np.add(a,b)"
   ]
  },
  {
   "cell_type": "code",
   "execution_count": 73,
   "metadata": {},
   "outputs": [
    {
     "data": {
      "text/plain": [
       "array([ 4,  6,  8, 10, 12])"
      ]
     },
     "execution_count": 73,
     "metadata": {},
     "output_type": "execute_result"
    }
   ],
   "source": [
    "np.add(a,b,a)"
   ]
  },
  {
   "cell_type": "markdown",
   "metadata": {},
   "source": [
    "- 其他运算函数"
   ]
  },
  {
   "cell_type": "markdown",
   "metadata": {},
   "source": [
    "![](https://ws1.sinaimg.cn/large/699db930ly1fpg4pcyevdj20tk0d20vd.jpg)\n",
    "![](https://ws1.sinaimg.cn/large/699db930ly1fpg4r1xpzsj20sr09fmyl.jpg)"
   ]
  },
  {
   "cell_type": "markdown",
   "metadata": {},
   "source": [
    "## 自定义ufunc函数"
   ]
  },
  {
   "cell_type": "markdown",
   "metadata": {},
   "source": [
    "过 NumPy 提供的标准 uflinc 函数，可以组合出复杂的表达式，在 C 语言级別对数组的每个元素进行计算。但有吋这种表达式不易编写，而对每个元素进行计算的程序却很容易用Python实现，这时可以用 frompyfunc(),将计算单个元素的函数转换成ufunc()函数，这样就可以方便地用所产生的ufunc()函数对数组进行计算了"
   ]
  },
  {
   "cell_type": "code",
   "execution_count": 80,
   "metadata": {},
   "outputs": [],
   "source": [
    "def triangle_wave(x, c, c0, he):\n",
    "    x = x - int(x) # 三角波的周期为 1 ，因此只取 x 坐标的小数部分进行计算\n",
    "    if x >= c: r = 0.0\n",
    "    elif x < c0: r = x / c0 * he\n",
    "    else: r = (c-x) / (c-c0) * he\n",
    "    return r\n",
    "triangle_ufunci = np.frompyfunc(triangle_wave, 4, 1)\n",
    "x=np.linspace(0,2,100)\n",
    "y2 = triangle_ufunci(x,0.6 ,0.4 ,1.0)"
   ]
  },
  {
   "cell_type": "markdown",
   "metadata": {},
   "source": [
    "**基本步骤：**"
   ]
  },
  {
   "cell_type": "markdown",
   "metadata": {},
   "source": [
    "1. 定义python标准函数\n",
    "2. 使用frompyfunc(),将python标准函数转换为ufunc，其中frompyfunc()内的参数是python标准函数的输入变量个数和输出变量个数\n",
    "3. 将实例化的ufunc指定参数和输入"
   ]
  },
  {
   "cell_type": "markdown",
   "metadata": {},
   "source": [
    "**注意事项：**\n",
    "y2返回的类型并不是标准的numpy数据类型，因此需要astype()转换为标准的numpy数据类型"
   ]
  },
  {
   "cell_type": "markdown",
   "metadata": {},
   "source": [
    "## 广播"
   ]
  },
  {
   "cell_type": "markdown",
   "metadata": {},
   "source": [
    "当使用 uftinc 函数对两个数组进行计算时, ullinc 函数会对这两个数组的对应元素进行计算,因此它要求这两个数组的形状相同。如果形状不同，会进行如下广播(broadcasting )处理：\n",
    "1.  让所有输入数姐都向其中维数最多的数绀看齐， shape 属性中不足的部分都通过在前面加\n",
    "1补齐。\n",
    "2. 输出数组的 shape 属性是输入数组的 shape 屈性的各个轴上的最大值。\n",
    "3.  如果输入数组的某个轴的 L <:度 为 1或与输出数组的对应轴的长度相同，这个数组能够用\n",
    "来计算，否则出错。\n",
    "4. 当输入数组的某个轴的长度为1时，沿着此轴运算时都用此轴上的第一组值。"
   ]
  },
  {
   "cell_type": "markdown",
   "metadata": {},
   "source": [
    "### ogrid"
   ]
  },
  {
   "cell_type": "markdown",
   "metadata": {},
   "source": [
    "**Ogrid 是一个很有趣的对象，它像多维数组一样，用切片元组作为下标，返回的是一组可以\n",
    "用来广播计算的数组。其切片下标有两种形式：**\n",
    "- 开始值:结束值:步长，和 np.amnge (开始值,结朿值，步长)类似。\n",
    "- **幵始值:结朿值:长度 j ，当第三个参数为虚数时，它表示所返冋的数组的长度，和\n",
    "np.linspace (开始值，结朿值，长度)类似。**"
   ]
  },
  {
   "cell_type": "code",
   "execution_count": 82,
   "metadata": {},
   "outputs": [],
   "source": [
    "x, y = np.ogrid[:1:4j, :1:3j]"
   ]
  },
  {
   "cell_type": "code",
   "execution_count": 85,
   "metadata": {},
   "outputs": [
    {
     "data": {
      "text/plain": [
       "(array([[0.        ],\n",
       "        [0.33333333],\n",
       "        [0.66666667],\n",
       "        [1.        ]]), array([[0. , 0.5, 1. ]]))"
      ]
     },
     "execution_count": 85,
     "metadata": {},
     "output_type": "execute_result"
    }
   ],
   "source": [
    "x,y"
   ]
  },
  {
   "cell_type": "markdown",
   "metadata": {},
   "source": [
    "*__注意：ogrid不是函数！！！__*\n",
    "\n",
    "根据Python的语法，只有在中括号中才能使用用冒号隔开的切片语法，如果ogrid是函数的话，那么这些切片必须使用slice函数创建，这显然会增加代码的长度。"
   ]
  },
  {
   "cell_type": "code",
   "execution_count": 96,
   "metadata": {},
   "outputs": [
    {
     "data": {
      "image/png": "[encoded data removed]",
      "text/plain": [
       "<Figure size 1152x648 with 1 Axes>"
      ]
     },
     "metadata": {},
     "output_type": "display_data"
    }
   ],
   "source": [
    "import matplotlib.pyplot as plt\n",
    "from mpl_toolkits.mplot3d import Axes3D\n",
    "fig = plt.figure(figsize=(16,9))\n",
    "ax = fig.add_subplot(111, projection='3d')\n",
    "x,y=np.ogrid[-2:2:20j,-2:2:20j]\n",
    "z=x*np.exp(-x**2-y**2)\n",
    "ax.plot_surface(x,y,z,rstride=4,cstride=2,cmap=plt.cm.Blues_r)\n",
    "ax.set_xlabel('X')\n",
    "ax.set_ylabel('Y')\n",
    "ax.set_zlabel('Z')\n",
    "plt.show()"
   ]
  },
  {
   "cell_type": "markdown",
   "metadata": {},
   "source": [
    "### mgrid"
   ]
  },
  {
   "cell_type": "markdown",
   "metadata": {},
   "source": [
    "__mgrid用法和ogrid很像，但是他所返回的是进行广播之后的数组__"
   ]
  },
  {
   "cell_type": "code",
   "execution_count": 89,
   "metadata": {},
   "outputs": [],
   "source": [
    "a,b=np.mgrid[0:5,0:5]"
   ]
  },
  {
   "cell_type": "code",
   "execution_count": 91,
   "metadata": {},
   "outputs": [
    {
     "data": {
      "text/plain": [
       "array([[0, 0, 0, 0, 0],\n",
       "       [1, 1, 1, 1, 1],\n",
       "       [2, 2, 2, 2, 2],\n",
       "       [3, 3, 3, 3, 3],\n",
       "       [4, 4, 4, 4, 4]])"
      ]
     },
     "execution_count": 91,
     "metadata": {},
     "output_type": "execute_result"
    }
   ],
   "source": [
    "a"
   ]
  },
  {
   "cell_type": "code",
   "execution_count": 92,
   "metadata": {},
   "outputs": [
    {
     "data": {
      "text/plain": [
       "array([[0, 1, 2, 3, 4],\n",
       "       [0, 1, 2, 3, 4],\n",
       "       [0, 1, 2, 3, 4],\n",
       "       [0, 1, 2, 3, 4],\n",
       "       [0, 1, 2, 3, 4]])"
      ]
     },
     "execution_count": 92,
     "metadata": {},
     "output_type": "execute_result"
    }
   ],
   "source": [
    "b"
   ]
  },
  {
   "cell_type": "markdown",
   "metadata": {},
   "source": [
    "### ufunc方法"
   ]
  },
  {
   "cell_type": "markdown",
   "metadata": {},
   "source": [
    "#### - None方法"
   ]
  },
  {
   "cell_type": "code",
   "execution_count": 105,
   "metadata": {},
   "outputs": [
    {
     "data": {
      "text/plain": [
       "array([[0, 1, 2, 3]])"
      ]
     },
     "execution_count": 105,
     "metadata": {},
     "output_type": "execute_result"
    }
   ],
   "source": [
    "a=np.arange(4)\n",
    "a[None,:]"
   ]
  },
  {
   "cell_type": "code",
   "execution_count": 106,
   "metadata": {},
   "outputs": [
    {
     "data": {
      "text/plain": [
       "array([[0],\n",
       "       [1],\n",
       "       [2],\n",
       "       [3]])"
      ]
     },
     "execution_count": 106,
     "metadata": {},
     "output_type": "execute_result"
    }
   ],
   "source": [
    "a[:,None]"
   ]
  },
  {
   "cell_type": "markdown",
   "metadata": {},
   "source": [
    "**这种方法同reshape方法中的（-1,1）类似**"
   ]
  },
  {
   "cell_type": "markdown",
   "metadata": {},
   "source": [
    "#### ix_()方法"
   ]
  },
  {
   "cell_type": "code",
   "execution_count": 107,
   "metadata": {},
   "outputs": [],
   "source": [
    "x=np.arange(5)\n",
    "y=np.arange(5)\n",
    "gx,gy=np.ix_(x,y)"
   ]
  },
  {
   "cell_type": "code",
   "execution_count": 108,
   "metadata": {},
   "outputs": [
    {
     "data": {
      "text/plain": [
       "array([[0],\n",
       "       [1],\n",
       "       [2],\n",
       "       [3],\n",
       "       [4]])"
      ]
     },
     "execution_count": 108,
     "metadata": {},
     "output_type": "execute_result"
    }
   ],
   "source": [
    "gx"
   ]
  },
  {
   "cell_type": "code",
   "execution_count": 109,
   "metadata": {},
   "outputs": [
    {
     "data": {
      "text/plain": [
       "array([[0, 1, 2, 3, 4]])"
      ]
     },
     "execution_count": 109,
     "metadata": {},
     "output_type": "execute_result"
    }
   ],
   "source": [
    "gy"
   ]
  },
  {
   "cell_type": "code",
   "execution_count": 110,
   "metadata": {},
   "outputs": [
    {
     "data": {
      "text/plain": [
       "array([[0, 1, 2, 3, 4],\n",
       "       [1, 2, 3, 4, 5],\n",
       "       [2, 3, 4, 5, 6],\n",
       "       [3, 4, 5, 6, 7],\n",
       "       [4, 5, 6, 7, 8]])"
      ]
     },
     "execution_count": 110,
     "metadata": {},
     "output_type": "execute_result"
    }
   ],
   "source": [
    "gx+gy"
   ]
  },
  {
   "cell_type": "markdown",
   "metadata": {},
   "source": [
    "#### reduce方法"
   ]
  },
  {
   "cell_type": "code",
   "execution_count": 116,
   "metadata": {},
   "outputs": [
    {
     "data": {
      "text/plain": [
       "(6, array([ 6, 15]))"
      ]
     },
     "execution_count": 116,
     "metadata": {},
     "output_type": "execute_result"
    }
   ],
   "source": [
    "r1=np.add.reduce([1,2,3])\n",
    "r2=np.add.reduce([[1,2,3],[4,5,6]],axis=1)\n",
    "r1,r2"
   ]
  },
  {
   "cell_type": "markdown",
   "metadata": {},
   "source": [
    "#### accumulate方法"
   ]
  },
  {
   "cell_type": "code",
   "execution_count": 120,
   "metadata": {},
   "outputs": [
    {
     "data": {
      "text/plain": [
       "(array([1, 3, 6], dtype=int32), array([[ 1,  3,  6],\n",
       "        [ 4,  9, 15]], dtype=int32))"
      ]
     },
     "execution_count": 120,
     "metadata": {},
     "output_type": "execute_result"
    }
   ],
   "source": [
    "r1=np.add.accumulate([1,2,3])\n",
    "r2=np.add.accumulate([[1,2,3],[4,5,6]],axis=1)\n",
    "r1,r2"
   ]
  },
  {
   "cell_type": "markdown",
   "metadata": {},
   "source": [
    "#### reduceat()方法"
   ]
  },
  {
   "cell_type": "markdown",
   "metadata": {},
   "source": [
    "reduceat() 方法计算多组reduce() 的结果，通过indices参数指定一系列的起始和终止位置。它的计算有些特别，让我们通过例子详细解释一下："
   ]
  },
  {
   "cell_type": "code",
   "execution_count": 122,
   "metadata": {},
   "outputs": [
    {
     "data": {
      "text/plain": [
       "array([ 1,  2,  3,  3,  6,  4, 10], dtype=int32)"
      ]
     },
     "execution_count": 122,
     "metadata": {},
     "output_type": "execute_result"
    }
   ],
   "source": [
    "a = np.array([1 , 2, 3, 4])\n",
    "result = np.add.reduceat(a, indices=[0, 1, 0, 2, 0, 3, 0])\n",
    "result"
   ]
  },
  {
   "cell_type": "markdown",
   "metadata": {},
   "source": [
    "对于 indices参数中的每个元素都会计算出一个值，因此最终的计算结果和 indices参数的长度相同。结果数组result中除最后一个元素之外，都按照如下计算得出：\n",
    "```\n",
    "if indices[i] < indices[i+1]:\n",
    "result[i] = <op>.reduce(a[indices[i]:indices[i+1]])\n",
    "else:\n",
    "result[i] = a[indices[i]]\n",
    "而最后一个元素如下计算：\n",
    "<op>.reduce(a[indices[-1]:])\n",
    "因此在上面的例子中，数组 insult 的每个元素按照如下计算得出：\n",
    "1 : a[0] -> 1\n",
    "2 : a[l] -> 2\n",
    "3 : a[0] + a[l] -> 1 + 2\n",
    "3 : a[2] -> 3\n",
    "6 : a[0] + a[l] + a[2] ->  l + 2 + 3 = 6\n",
    "4 : a[3] -> 4\n",
    "a[0] + a[l] + a[21 + a[4l - > 1 + 2 + 3 + 4 = 1 0\n",
    "```"
   ]
  },
  {
   "cell_type": "markdown",
   "metadata": {},
   "source": [
    "## 庞大的函数库\n"
   ]
  },
  {
   "cell_type": "markdown",
   "metadata": {},
   "source": [
    "### 随机数"
   ]
  },
  {
   "cell_type": "markdown",
   "metadata": {},
   "source": [
    "![image](https://ws1.sinaimg.cn/large/699db930ly1fpgr4z5kl9j20u105r3zm.jpg)\n",
    "![image](https://ws1.sinaimg.cn/large/699db930ly1fpgr4zbm6gj20ub06hgms.jpg)"
   ]
  },
  {
   "cell_type": "code",
   "execution_count": 6,
   "metadata": {},
   "outputs": [
    {
     "name": "stdout",
     "output_type": "stream",
     "text": [
      "[[0.95 0.1  0.55]\n",
      " [0.82 0.47 0.58]\n",
      " [0.99 0.9  0.43]\n",
      " [0.57 0.69 0.97]] \n",
      " [[-1.57 -0.15 -0.64]\n",
      " [-0.77  0.72 -0.07]\n",
      " [ 0.05  0.47 -0.51]\n",
      " [-0.11 -0.89 -1.38]] \n",
      " [[6 7 5]\n",
      " [3 0 4]\n",
      " [5 7 9]\n",
      " [3 8 8]]\n"
     ]
    }
   ],
   "source": [
    "import numpy as np\n",
    "from numpy import random as nr\n",
    "np.set_printoptions(precision=2) # 为了节街篇幅，只显示小数点后两位数字\n",
    "r1 = nr.rand(4, 3)\n",
    "r2 = nr.randn(4, 3)\n",
    "n3 = nr.randint(0, 10, (4, 3))\n",
    "print(r1,'\\n',r2,'\\n',n3)"
   ]
  },
  {
   "cell_type": "markdown",
   "metadata": {},
   "source": [
    "### 随机相关函数 "
   ]
  },
  {
   "cell_type": "markdown",
   "metadata": {},
   "source": [
    "random 模块提供了许多产生符合特定随机分布的随机数的函数，它们的最后一个参数size都用于指定输出数组的形状，而其他参数都是分布函数的参数。例如\n",
    "- normal():正态分布，前两个参数分别为期望值和标准差。\n",
    "- uniform():均匀分布，前两个参数分别为区间的起始值和终值。\n",
    "- poisson():泊松分布，第一个参数指定A系数，它表示单位时间(或单位而积)内随机事件的平均发生率。由于泊松分布是一个离散分布，因此它输出的数组是一个整数数组"
   ]
  },
  {
   "cell_type": "code",
   "execution_count": 11,
   "metadata": {},
   "outputs": [
    {
     "data": {
      "text/plain": [
       "(array([[0.98, 0.17, 0.76],\n",
       "        [0.67, 0.65, 0.74],\n",
       "        [0.62, 0.84, 0.11],\n",
       "        [0.66, 0.72, 0.57]]), array([[15.01, 17.26, 13.55],\n",
       "        [13.64, 19.82, 16.09],\n",
       "        [13.78, 18.79, 19.44],\n",
       "        [12.53, 17.87, 15.52]]), array([[2, 3, 1],\n",
       "        [2, 3, 1],\n",
       "        [0, 0, 3],\n",
       "        [4, 1, 4]]))"
      ]
     },
     "execution_count": 11,
     "metadata": {},
     "output_type": "execute_result"
    }
   ],
   "source": [
    "r1 = nr.normal(100, 10, (4,3))\n",
    "r2 = nr.uniform(10, 20, (4,3))\n",
    "r3 = nr.poisson(2.0, (4, 3))\n",
    "rl,r2,r3"
   ]
  },
  {
   "cell_type": "markdown",
   "metadata": {},
   "source": [
    "permutation()可以用于产生一个乱序数组，当参数为整数n时，它返回[0， n )这n个整数的随机排列；当参数为一个序列吋，它返冋一个随机排列之后的序列："
   ]
  },
  {
   "cell_type": "code",
   "execution_count": 12,
   "metadata": {},
   "outputs": [
    {
     "name": "stdout",
     "output_type": "stream",
     "text": [
      "[7 0 5 3 6 8 4 1 2 9]\n",
      "[20 10  1 40 30]\n"
     ]
    }
   ],
   "source": [
    "a = np.array([1, 10, 20, 30, 40])\n",
    "print (nr.permutation(10))\n",
    "print (nr.permutation(a))"
   ]
  },
  {
   "cell_type": "markdown",
   "metadata": {},
   "source": [
    "permutation()返回一个新数组，而 shuffle()则直接将参数数组的顺序打乱\n",
    "\n",
    "choice()从指定的样木中随机进行抽取：\n",
    "-  size 参数用于指定输出数组的形状。\n",
    "- replace 参数为True时，可进行重复抽取，而为 False时，则进行不重复抽取，默认值为 True 。\n",
    "-  p 参数指定每个元素对应的抽収概率，如果不指定，所有的元素被抽取到的概率相同。"
   ]
  },
  {
   "cell_type": "code",
   "execution_count": 17,
   "metadata": {},
   "outputs": [
    {
     "data": {
      "text/plain": [
       "(array([[23., 19., 13.],\n",
       "        [15., 12., 14.],\n",
       "        [14., 14., 23.],\n",
       "        [23., 24., 24.]]), array([[19., 11., 21.],\n",
       "        [12., 10., 20.],\n",
       "        [23., 17., 16.],\n",
       "        [14., 22., 24.]]), array([[13., 15., 17.],\n",
       "        [21., 16., 16.],\n",
       "        [16., 23., 21.],\n",
       "        [12., 15., 15.]]))"
      ]
     },
     "execution_count": 17,
     "metadata": {},
     "output_type": "execute_result"
    }
   ],
   "source": [
    "a = np.arange(10, 25, dtype=float)\n",
    "c1 =nr.choice(a,size=(4,3))\n",
    "c2 = nr.choice(a,size=(4, 3), replace=False)\n",
    "c3 = nr.choice(a, size=(4, 3),p=a / np.sum(a))\n",
    "c1,c2,c3"
   ]
  },
  {
   "cell_type": "markdown",
   "metadata": {},
   "source": [
    "**为了保证每次运行时能重现相同的随机数，可以通过seed()函数指定随机数的种子**"
   ]
  },
  {
   "cell_type": "markdown",
   "metadata": {},
   "source": [
    "### 求和，平均数、方差\n",
    "![](https://ws1.sinaimg.cn/large/699db930ly1fpgrrj4rljj20u406s3zj.jpg)"
   ]
  },
  {
   "cell_type": "markdown",
   "metadata": {},
   "source": [
    "####  求和sum\n",
    "sum()计算数组元素之和，也可以对列表、元组等与数组类似的序列进行求和。当数组是多维时，它计算数组中所有元素的和。**如果指定axis参数，则求和运算沿着指定的轴进行**==当 axis 参数是一个轴的序列时，对指定的所有轴进行求和运算。例如下面的程序对一个形\n",
    "状为(2,3,4)的三维数组的第0 和第2 轴求和，得到的结果为一个形状为(3，)的数组。由于数组的\n",
    "所有元素都为1 , 因此求和的结果都是8:==\n",
    "有时我们希望能够保持原数组的维数，这时可以设置 keepdims 参数为 True:"
   ]
  },
  {
   "cell_type": "code",
   "execution_count": 22,
   "metadata": {},
   "outputs": [
    {
     "name": "stdout",
     "output_type": "stream",
     "text": [
      "[[6 3 7 4 6]\n",
      " [9 2 6 7 4]\n",
      " [3 7 7 2 5]\n",
      " [4 1 7 5 1]]\n",
      "[22 13 27 18 16]\n",
      "[26 28 24 18]\n"
     ]
    }
   ],
   "source": [
    "np.random.seed(42)\n",
    "a=np.random.randint(0,10,(4,5))\n",
    "print(a)\n",
    "print(np.sum(a,axis=0))\n",
    "print(np.sum(a,axis=1))"
   ]
  },
  {
   "cell_type": "markdown",
   "metadata": {},
   "source": [
    "如下面的程序对一个形\n",
    "状为(2,3,4)的三维数组的第0 和第2 轴求和，得到的结果为一个形状为(3，)的数组。由于数组的\n",
    "所有元素都为1 , 因此求和的结果都是8:==\n",
    "有时我们希望能够保持原数组的维数，这时可以设置 keepdims 参数为 True:"
   ]
  },
  {
   "cell_type": "code",
   "execution_count": 23,
   "metadata": {},
   "outputs": [
    {
     "data": {
      "text/plain": [
       "array([8., 8., 8.])"
      ]
     },
     "execution_count": 23,
     "metadata": {},
     "output_type": "execute_result"
    }
   ],
   "source": [
    "np.sum(np.ones((2,3,4)),axis=(0,2))"
   ]
  },
  {
   "cell_type": "code",
   "execution_count": 25,
   "metadata": {},
   "outputs": [
    {
     "data": {
      "text/plain": [
       "array([[26],\n",
       "       [28],\n",
       "       [24],\n",
       "       [18]])"
      ]
     },
     "execution_count": 25,
     "metadata": {},
     "output_type": "execute_result"
    }
   ],
   "source": [
    "np.sum(a,1,keepdims=True)"
   ]
  },
  {
   "cell_type": "markdown",
   "metadata": {},
   "source": [
    "#### 均值mean\n",
    "mean()求数组的平均值，它的参数与 sum()相同。和sum()不同的是：对于整数数组它使double双精度浮点数进行计算，而对于其他类型的数组，则使用和数组元素类型相同的累加变量进行计算："
   ]
  },
  {
   "cell_type": "code",
   "execution_count": 26,
   "metadata": {},
   "outputs": [
    {
     "data": {
      "text/plain": [
       "array([5.2, 5.6, 4.8, 3.6])"
      ]
     },
     "execution_count": 26,
     "metadata": {},
     "output_type": "execute_result"
    }
   ],
   "source": [
    "np.mean(a,axis=1)"
   ]
  },
  {
   "cell_type": "markdown",
   "metadata": {},
   "source": [
    "**average也可以用来对数组进行平均值计算，但是它没有out参数和dtype参数，但是有一个指定每个元素权重的weights参数，用于计算加强平均数**"
   ]
  },
  {
   "cell_type": "code",
   "execution_count": 27,
   "metadata": {},
   "outputs": [
    {
     "data": {
      "text/plain": [
       "88.9"
      ]
     },
     "execution_count": 27,
     "metadata": {},
     "output_type": "execute_result"
    }
   ],
   "source": [
    "score=np.array([83,96,87])\n",
    "weight=np.array([20,30,50])\n",
    "np.average(score,weights=weight)"
   ]
  },
  {
   "cell_type": "markdown",
   "metadata": {},
   "source": [
    "#### 标准差和方差\n",
    "![](https://ws1.sinaimg.cn/large/699db930ly1fpgs4db246j20sl0ay0uy.jpg)"
   ]
  },
  {
   "cell_type": "markdown",
   "metadata": {},
   "source": [
    "**当 ddof 参数为0时，计算偏样本方差；当 ddof为1时，计算无偏样本方差，默认值为0。**\n",
    "首先产生-•个标准差为2.0、方差为4.0的正态分布的随机数组。我们可以认为总体样本的方差为4.0。假设从总体样本中随机抽取10个样本，我们分別计算这10个样本的两种方差，里我们用一个二维数组重复上述操作10000次，然后计算所有这些方差的期望值："
   ]
  },
  {
   "cell_type": "code",
   "execution_count": 33,
   "metadata": {},
   "outputs": [
    {
     "name": "stdout",
     "output_type": "stream",
     "text": [
      "[3.9997 3.9564 4.022  4.1211 3.9718 3.9189 3.9056 4.0568 4.014  4.1131]\n",
      "[4.0001 3.9568 4.0224 4.1215 3.9722 3.9193 3.906  4.0572 4.0144 4.1135]\n"
     ]
    }
   ],
   "source": [
    "np.set_printoptions(precision=4)\n",
    "a=nr.normal(0,2.0,(10000,10))\n",
    "print(np.var(a,axis=0,ddof=0))\n",
    "print(np.var(a,axis=0,ddof=1))"
   ]
  },
  {
   "cell_type": "markdown",
   "metadata": {},
   "source": [
    "### 大小与排序\n",
    "![](https://ws1.sinaimg.cn/large/699db930ly1fpgsgmzfv9j20tv0cl77n.jpg)\n",
    "#### max 和min\n",
    "用 min()和max()可以汁算数组的最小值和最大值，它们都有 axis 、 out、keepdims 等参数\n",
    "#### argmax 和 argmin\n",
    "用 argmax()和argmin()可以求最大值和最小值的下标。如果指定axis参数，则返回平坦化之后的数组下标，例如下面的程序找到a中最大值的下标，有多个最值时得到第一个最值的下标："
   ]
  },
  {
   "cell_type": "code",
   "execution_count": 40,
   "metadata": {},
   "outputs": [
    {
     "data": {
      "text/plain": [
       "array([2, 4, 6, 7])"
      ]
     },
     "execution_count": 40,
     "metadata": {},
     "output_type": "execute_result"
    }
   ],
   "source": [
    "a=np.array([1,3,5,7])\n",
    "b=np.array([2,4,6,5])\n",
    "np.maximum(a,b)"
   ]
  },
  {
   "cell_type": "code",
   "execution_count": 52,
   "metadata": {},
   "outputs": [
    {
     "name": "stdout",
     "output_type": "stream",
     "text": [
      "[[ 0.9934 -0.2765  1.2954  3.0461 -0.4683 -0.4683  3.1584  1.5349 -0.9389\n",
      "   1.0851]\n",
      " [-0.9268 -0.9315  0.4839 -3.8266 -3.4498 -1.1246 -2.0257  0.6285 -1.816\n",
      "  -2.8246]\n",
      " [ 2.9313 -0.4516  0.1351 -2.8495 -1.0888  0.2218 -2.302   0.7514 -1.2013\n",
      "  -0.5834]\n",
      " [-1.2034  3.7046 -0.027  -2.1154  1.6451 -2.4417  0.4177 -3.9193 -2.6564\n",
      "   0.3937]\n",
      " [ 1.4769  0.3427 -0.2313 -0.6022 -2.957  -1.4397 -0.9213  2.1142  0.6872\n",
      "  -3.5261]\n",
      " [ 0.6482 -0.7702 -1.3538  1.2234  2.062   1.8626 -1.6784 -0.6184  0.6625\n",
      "   1.9511]\n",
      " [-0.9583 -0.3713 -2.2127 -2.3924  1.6251  2.7125 -0.144   2.0071  0.7233\n",
      "  -1.2902]\n",
      " [ 0.7228  3.0761 -0.0717  3.1293 -5.2395  1.6438  0.1741 -0.598   0.1835\n",
      "  -3.9751]\n",
      " [-0.4393  0.7142  2.9558 -1.0365 -1.617  -1.0035  1.8308  0.6575 -1.0595\n",
      "   1.0265]\n",
      " [ 0.1942  1.9373 -1.4041 -0.6553 -0.7842 -2.927   0.5922  0.5221  0.0102\n",
      "  -0.4692]]\n"
     ]
    },
    {
     "data": {
      "text/plain": [
       "31"
      ]
     },
     "execution_count": 52,
     "metadata": {},
     "output_type": "execute_result"
    }
   ],
   "source": [
    "np.random.seed(42)\n",
    "a=np.random.normal(0,2.0,(10,10))\n",
    "print(a)\n",
    "np.argmax(a)"
   ]
  },
  {
   "cell_type": "code",
   "execution_count": 48,
   "metadata": {},
   "outputs": [
    {
     "data": {
      "text/plain": [
       "3.7045563690178756"
      ]
     },
     "execution_count": 48,
     "metadata": {},
     "output_type": "execute_result"
    }
   ],
   "source": [
    "a.ravel()[31]"
   ]
  },
  {
   "cell_type": "code",
   "execution_count": 50,
   "metadata": {},
   "outputs": [
    {
     "data": {
      "text/plain": [
       "(3, 1)"
      ]
     },
     "execution_count": 50,
     "metadata": {},
     "output_type": "execute_result"
    }
   ],
   "source": [
    "np.unravel_index(31,a.shape)"
   ]
  },
  {
   "cell_type": "code",
   "execution_count": 51,
   "metadata": {},
   "outputs": [
    {
     "data": {
      "text/plain": [
       "3.7045563690178756"
      ]
     },
     "execution_count": 51,
     "metadata": {},
     "output_type": "execute_result"
    }
   ],
   "source": [
    "a[3,1]"
   ]
  },
  {
   "cell_type": "markdown",
   "metadata": {},
   "source": [
    "#### sort排序\n",
    "数组的 sort()方法对数组进行排序，它会改变数组的内备而 sort ()函数则返冋一个新数组，\n",
    "不改变原始数组。它们的 axis 默认值都为-1,即沿着数组的最终轴进行排序。 sort()函数的 axis\n",
    "参数可以设置为None，此时它将得到平识化之后进行排序的新数组。在下面的例子中，np.sort(a)对a中每行的数值进行排序，而np.sort(a,axis=0)对数组a每列上的数值进行排序"
   ]
  },
  {
   "cell_type": "code",
   "execution_count": 53,
   "metadata": {},
   "outputs": [
    {
     "data": {
      "text/plain": [
       "array([[-0.9389, -0.4683, -0.4683, -0.2765,  0.9934,  1.0851,  1.2954,\n",
       "         1.5349,  3.0461,  3.1584],\n",
       "       [-3.8266, -3.4498, -2.8246, -2.0257, -1.816 , -1.1246, -0.9315,\n",
       "        -0.9268,  0.4839,  0.6285],\n",
       "       [-2.8495, -2.302 , -1.2013, -1.0888, -0.5834, -0.4516,  0.1351,\n",
       "         0.2218,  0.7514,  2.9313],\n",
       "       [-3.9193, -2.6564, -2.4417, -2.1154, -1.2034, -0.027 ,  0.3937,\n",
       "         0.4177,  1.6451,  3.7046],\n",
       "       [-3.5261, -2.957 , -1.4397, -0.9213, -0.6022, -0.2313,  0.3427,\n",
       "         0.6872,  1.4769,  2.1142],\n",
       "       [-1.6784, -1.3538, -0.7702, -0.6184,  0.6482,  0.6625,  1.2234,\n",
       "         1.8626,  1.9511,  2.062 ],\n",
       "       [-2.3924, -2.2127, -1.2902, -0.9583, -0.3713, -0.144 ,  0.7233,\n",
       "         1.6251,  2.0071,  2.7125],\n",
       "       [-5.2395, -3.9751, -0.598 , -0.0717,  0.1741,  0.1835,  0.7228,\n",
       "         1.6438,  3.0761,  3.1293],\n",
       "       [-1.617 , -1.0595, -1.0365, -1.0035, -0.4393,  0.6575,  0.7142,\n",
       "         1.0265,  1.8308,  2.9558],\n",
       "       [-2.927 , -1.4041, -0.7842, -0.6553, -0.4692,  0.0102,  0.1942,\n",
       "         0.5221,  0.5922,  1.9373]])"
      ]
     },
     "execution_count": 53,
     "metadata": {},
     "output_type": "execute_result"
    }
   ],
   "source": [
    "np.sort(a)"
   ]
  },
  {
   "cell_type": "markdown",
   "metadata": {},
   "source": [
    "#### 中位数\n",
    "用 median() 可以获得数组的中值，即对数组进行排序之后，位于数组中间位置的值。当长度是偶数时，则得到正中间两个数的平均值。它也可以指定 axis 和 out 参数"
   ]
  },
  {
   "cell_type": "code",
   "execution_count": 54,
   "metadata": {},
   "outputs": [
    {
     "data": {
      "text/plain": [
       "array([ 1.0393, -1.4703, -0.5175, -0.6152, -0.4168,  0.6553, -0.2577,\n",
       "        0.1788,  0.1091, -0.2295])"
      ]
     },
     "execution_count": 54,
     "metadata": {},
     "output_type": "execute_result"
    }
   ],
   "source": [
    "np.median(a,axis=1)"
   ]
  },
  {
   "cell_type": "markdown",
   "metadata": {},
   "source": [
    "#### 百分位数\n",
    "percentile() 用于计算百分位数，即将数值从小到大排列，计算处于 p % 位置上的值。下面的\n",
    "程序计兑标准正态分布随机数的绝对值在68.3%、95.4%以及99.7%处的百分位数，它们应该约\n",
    "等于1倍、2倍和3倍的标准差"
   ]
  },
  {
   "cell_type": "code",
   "execution_count": 55,
   "metadata": {},
   "outputs": [
    {
     "data": {
      "text/plain": [
       "array([0.477 , 1.6882, 2.7339])"
      ]
     },
     "execution_count": 55,
     "metadata": {},
     "output_type": "execute_result"
    }
   ],
   "source": [
    "r=np.random.randn(100000)\n",
    "np.percentile(r,[68.3,95.4,99.7])"
   ]
  },
  {
   "cell_type": "markdown",
   "metadata": {},
   "source": [
    "### 统计函数\n",
    "![](https://ws1.sinaimg.cn/large/699db930ly1fpgt0yvvxhj20u805pmy8.jpg)\n",
    "#### unique\n",
    "返回其参数数组中所有不同的值，并且按照从小到大的顺序排列。它有两个可选\n",
    "参数：\n",
    "    - return_index:True表示同时返回原始数组中的下标。\n",
    "    - return_inverse :  True 表示返回重建原始数组用的下标数组"
   ]
  },
  {
   "cell_type": "code",
   "execution_count": 61,
   "metadata": {},
   "outputs": [
    {
     "name": "stdout",
     "output_type": "stream",
     "text": [
      "[6 3 4 6 2 7 4 4 6 1]\n"
     ]
    },
    {
     "data": {
      "text/plain": [
       "array([1, 2, 3, 4, 6, 7])"
      ]
     },
     "execution_count": 61,
     "metadata": {},
     "output_type": "execute_result"
    }
   ],
   "source": [
    "np.random.seed(42)\n",
    "a=np.random.randint(0,8,10)\n",
    "print(a)\n",
    "np.unique(a)"
   ]
  },
  {
   "cell_type": "markdown",
   "metadata": {},
   "source": [
    "#### bincount\n",
    "bincount() 对整数数组中各个元素所出现的次数进行统计，它要求数组中的所有元素都是非\n",
    "负的。其返回数组中第 i 个元素的值表示整数 i 出现的次数。==通 过 weights 参数可以指定每个数所对应的权值。当 指 定 weights 参数时， bincount ( x ，\n",
    "weights = w )返回数组x 中的每个整数所对应的 w 中的权值之和。 jjj 文字解释比较难以理解，下\n",
    "面我们看一个实例：=="
   ]
  },
  {
   "cell_type": "code",
   "execution_count": 62,
   "metadata": {},
   "outputs": [
    {
     "data": {
      "text/plain": [
       "array([0, 1, 1, 1, 3, 0, 3, 1], dtype=int64)"
      ]
     },
     "execution_count": 62,
     "metadata": {},
     "output_type": "execute_result"
    }
   ],
   "source": [
    "np.bincount(a)"
   ]
  },
  {
   "cell_type": "markdown",
   "metadata": {},
   "source": [
    "#### histogram\n",
    "histogram ()对一维数组进行直方图统计。其参数列表如下:\n",
    "histogram(a,bins=10, range=None,weights=None,density=False)\n",
    "其中 a 是保存待统计数据的数组， bins 指定统计的区间个数，即对统计范围的等分数。range是一个长度为 2的元组，表示统计范围的最小值和最大值，默认值为范围决定,即 (a.min()， a .max())。当density 参数为 False时，函数返回a中的数掘在每个区间的个数，参数为 True 则返回每个区间的概率密度。weights 参数和 bincount()的类似。\n",
    "histogram ()返回两个一维数组 —— hist和bin_edges，第一个数组是每个区间的统计结果，\n",
    "第二个数组的长度为 len ( hist )+ 1 , 每两个相邻的数值构成一个统计区间。下而我们看一个例子"
   ]
  },
  {
   "cell_type": "code",
   "execution_count": 63,
   "metadata": {},
   "outputs": [
    {
     "data": {
      "text/plain": [
       "(array([28, 18, 17, 19, 18], dtype=int64),\n",
       " array([0. , 0.2, 0.4, 0.6, 0.8, 1. ]))"
      ]
     },
     "execution_count": 63,
     "metadata": {},
     "output_type": "execute_result"
    }
   ],
   "source": [
    "a=np.random.rand(100)\n",
    "np.histogram(a,bins=5,range=(0,1))"
   ]
  },
  {
   "cell_type": "code",
   "execution_count": null,
   "metadata": {},
   "outputs": [],
   "source": []
  }
 ],
 "metadata": {
  "kernelspec": {
   "display_name": "Python 3",
   "language": "python",
   "name": "python3"
  },
  "language_info": {
   "codemirror_mode": {
    "name": "ipython",
    "version": 3
   },
   "file_extension": ".py",
   "mimetype": "text/x-python",
   "name": "python",
   "nbconvert_exporter": "python",
   "pygments_lexer": "ipython3",
   "version": "3.6.3"
  },
  "latex_envs": {
   "LaTeX_envs_menu_present": true,
   "autoclose": false,
   "autocomplete": true,
   "bibliofile": "biblio.bib",
   "cite_by": "apalike",
   "current_citInitial": 1,
   "eqLabelWithNumbers": true,
   "eqNumInitial": 1,
   "hotkeys": {
    "equation": "Ctrl-E",
    "itemize": "Ctrl-I"
   },
   "labels_anchors": false,
   "latex_user_defs": false,
   "report_style_numbering": false,
   "user_envs_cfg": false
  },
  "toc": {
   "base_numbering": 1,
   "nav_menu": {},
   "number_sections": true,
   "sideBar": true,
   "skip_h1_title": false,
   "title_cell": "Table of Contents",
   "title_sidebar": "Contents",
   "toc_cell": false,
   "toc_position": {},
   "toc_section_display": true,
   "toc_window_display": true
  }
 },
 "nbformat": 4,
 "nbformat_minor": 2
}
