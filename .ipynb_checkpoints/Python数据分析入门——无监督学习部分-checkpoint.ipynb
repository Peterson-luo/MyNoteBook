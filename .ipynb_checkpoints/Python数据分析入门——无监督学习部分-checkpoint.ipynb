{
 "cells": [
  {
   "cell_type": "markdown",
   "metadata": {},
   "source": [
    "# 基础知识准备\n",
    "## 使用字典进行词频统计"
   ]
  },
  {
   "cell_type": "code",
   "execution_count": 2,
   "metadata": {},
   "outputs": [
    {
     "name": "stdout",
     "output_type": "stream",
     "text": [
      "{'We': 1, 'tend': 1, 'to': 1, 'imagine': 1, 'that': 2, 'lightning': 1, 'looks': 1, 'like': 1, 'the': 2, 'zigzag': 1, 'you': 1, 'find': 1, 'in': 1, 'emoji.': 1, 'It’s': 1, 'rarely': 1, 'simple': 1}\n"
     ]
    }
   ],
   "source": [
    "s=\"We tend to imagine that lightning looks like the zigzag you find in the emoji. It’s rarely that simple\"\n",
    "dic={}\n",
    "for word in s.split():\n",
    "    if word not in dic:\n",
    "        dic[word]=1\n",
    "    else:\n",
    "        dic[word]+=1\n",
    "print(dic)"
   ]
  },
  {
   "cell_type": "markdown",
   "metadata": {},
   "source": [
    "## 使用集合求交集并集\n",
    "因为集合中的值是不可以重复的，所以可以查看两个句子的词语相似性"
   ]
  },
  {
   "cell_type": "code",
   "execution_count": 3,
   "metadata": {},
   "outputs": [],
   "source": [
    "st_1=\"dogs chase cats\"\n",
    "st_2=\"dogs hate cats\"\n",
    "st1_word=set(st_1.split())\n",
    "st2_word=set(st_2.split())"
   ]
  },
  {
   "cell_type": "code",
   "execution_count": 4,
   "metadata": {},
   "outputs": [
    {
     "data": {
      "text/plain": [
       "{'cats', 'dogs'}"
      ]
     },
     "execution_count": 4,
     "metadata": {},
     "output_type": "execute_result"
    }
   ],
   "source": [
    "st1_word.intersection(st2_word)#交集"
   ]
  },
  {
   "cell_type": "code",
   "execution_count": 5,
   "metadata": {},
   "outputs": [
    {
     "data": {
      "text/plain": [
       "{'cats', 'chase', 'dogs', 'hate'}"
      ]
     },
     "execution_count": 5,
     "metadata": {},
     "output_type": "execute_result"
    }
   ],
   "source": [
    "st1_word.union(st2_word)#并集"
   ]
  },
  {
   "cell_type": "code",
   "execution_count": 6,
   "metadata": {},
   "outputs": [
    {
     "data": {
      "text/plain": [
       "{'chase'}"
      ]
     },
     "execution_count": 6,
     "metadata": {},
     "output_type": "execute_result"
    }
   ],
   "source": [
    "st1_word.difference(st2_word)# 差集"
   ]
  },
  {
   "cell_type": "code",
   "execution_count": 7,
   "metadata": {},
   "outputs": [],
   "source": [
    "jaccab=len(st1_word.intersection(st2_word))/len(st1_word.union(st2_word))#计算jaccab相似度"
   ]
  },
  {
   "cell_type": "code",
   "execution_count": 8,
   "metadata": {},
   "outputs": [
    {
     "data": {
      "text/plain": [
       "0.5"
      ]
     },
     "execution_count": 8,
     "metadata": {},
     "output_type": "execute_result"
    }
   ],
   "source": [
    "jaccab"
   ]
  },
  {
   "cell_type": "markdown",
   "metadata": {},
   "source": [
    "## 使用装饰器简化步骤\n",
    "装饰器的实质是在对某个函数的功能进行辅助添加。添加装饰器时，需要将主函数在装饰器的调用并返回， 装饰器函数需要返回调用主函数的方法"
   ]
  },
  {
   "cell_type": "code",
   "execution_count": 14,
   "metadata": {},
   "outputs": [
    {
     "data": {
      "text/plain": [
       "['string.', 'with.', 'punctation']"
      ]
     },
     "execution_count": 14,
     "metadata": {},
     "output_type": "execute_result"
    }
   ],
   "source": [
    "from string import punctuation\n",
    "def pipeline_wrapper(func):\n",
    "    def to_lower(x):\n",
    "        return x.lower()\n",
    "    def punc(x):\n",
    "        for p in punctuation:\n",
    "            x.replace(p,'')\n",
    "        return x\n",
    "    def wrapper(*arg,**kargs):\n",
    "        x=to_lower(*arg,**kargs)\n",
    "        x=punc(x)\n",
    "        return func(x)\n",
    "    return wrapper\n",
    "@pipeline_wrapper\n",
    "def tokenize_whitespace(intext):\n",
    "    return intext.split()\n",
    "s=\"string. With. Punctation \"\n",
    "tokenize_whitespace(s)"
   ]
  },
  {
   "cell_type": "markdown",
   "metadata": {},
   "source": [
    "## 使用映射函数——map\n",
    "使用映射函数map()，可以迭代进行函数的参数设定，避免代码过多。map之后产生的是一个迭代器，第一次遍历会返回所有值，所有不要重复遍历，不要回返回空值，最好在第一次遍历之后将返回值赋给变量"
   ]
  },
  {
   "cell_type": "code",
   "execution_count": 32,
   "metadata": {},
   "outputs": [],
   "source": [
    "a=[10,20,30,10,30,60,100]\n",
    "b=map(lambda x:x**2,a)"
   ]
  },
  {
   "cell_type": "code",
   "execution_count": 33,
   "metadata": {},
   "outputs": [
    {
     "data": {
      "text/plain": [
       "[100, 400, 900, 100, 900, 3600, 10000]"
      ]
     },
     "execution_count": 33,
     "metadata": {},
     "output_type": "execute_result"
    }
   ],
   "source": [
    "list(b)"
   ]
  },
  {
   "cell_type": "code",
   "execution_count": 34,
   "metadata": {},
   "outputs": [
    {
     "data": {
      "text/plain": [
       "[]"
      ]
     },
     "execution_count": 34,
     "metadata": {},
     "output_type": "execute_result"
    }
   ],
   "source": [
    "list(b)"
   ]
  },
  {
   "cell_type": "markdown",
   "metadata": {},
   "source": [
    "## zip和izip—对集合进行合并\n",
    "使用zip和izip可以对长度相同的集合合并成对。其返回的也是一个迭代对象，可以使用__next__()方法迭代取值，也可以直接转换成list类型一次性取出"
   ]
  },
  {
   "cell_type": "code",
   "execution_count": 35,
   "metadata": {},
   "outputs": [],
   "source": [
    "a=range(0,5)\n",
    "b=range(5,10)"
   ]
  },
  {
   "cell_type": "code",
   "execution_count": 50,
   "metadata": {},
   "outputs": [],
   "source": [
    "b=zip(a,b)"
   ]
  },
  {
   "cell_type": "code",
   "execution_count": 51,
   "metadata": {},
   "outputs": [
    {
     "data": {
      "text/plain": [
       "(0, 5)"
      ]
     },
     "execution_count": 51,
     "metadata": {},
     "output_type": "execute_result"
    }
   ],
   "source": [
    "b.__next__()"
   ]
  },
  {
   "cell_type": "code",
   "execution_count": 52,
   "metadata": {},
   "outputs": [
    {
     "data": {
      "text/plain": [
       "(1, 6)"
      ]
     },
     "execution_count": 52,
     "metadata": {},
     "output_type": "execute_result"
    }
   ],
   "source": [
    "b.__next__()"
   ]
  },
  {
   "cell_type": "code",
   "execution_count": 53,
   "metadata": {},
   "outputs": [
    {
     "data": {
      "text/plain": [
       "(2, 7)"
      ]
     },
     "execution_count": 53,
     "metadata": {},
     "output_type": "execute_result"
    }
   ],
   "source": [
    "b.__next__()"
   ]
  },
  {
   "cell_type": "code",
   "execution_count": 56,
   "metadata": {},
   "outputs": [
    {
     "name": "stdout",
     "output_type": "stream",
     "text": [
      "(3, 8)\n",
      "(4, 9)\n"
     ]
    }
   ],
   "source": [
    "for item in b:\n",
    "    print(item)"
   ]
  },
  {
   "cell_type": "markdown",
   "metadata": {},
   "source": [
    "# 数据读取与预处理\n",
    "## 数据读取\n",
    "numpy中提供了一个genfromtext()方法可以从表格数据中创建数组。pandas中也提供了read函数。"
   ]
  },
  {
   "cell_type": "code",
   "execution_count": 65,
   "metadata": {},
   "outputs": [],
   "source": [
    "import numpy as np \n",
    "from io import StringIO\n",
    "indata=StringIO(\"10,20,30\\n56,89,90\\n33,46,89\")"
   ]
  },
  {
   "cell_type": "code",
   "execution_count": 66,
   "metadata": {},
   "outputs": [],
   "source": [
    "data=np.genfromtxt(indata,delimiter=\",\",dtype=int)"
   ]
  },
  {
   "cell_type": "code",
   "execution_count": 67,
   "metadata": {},
   "outputs": [
    {
     "data": {
      "text/plain": [
       "array([[10, 20, 30],\n",
       "       [56, 89, 90],\n",
       "       [33, 46, 89]])"
      ]
     },
     "execution_count": 67,
     "metadata": {},
     "output_type": "execute_result"
    }
   ],
   "source": [
    "data"
   ]
  },
  {
   "cell_type": "markdown",
   "metadata": {},
   "source": [
    "## 数据预处理"
   ]
  },
  {
   "cell_type": "code",
   "execution_count": 80,
   "metadata": {},
   "outputs": [],
   "source": [
    "indata=StringIO(\"30kg,inr2000,31.11,56.33,1\\n52kg,inr8000.35,12,16.7,2\")"
   ]
  },
  {
   "cell_type": "code",
   "execution_count": 77,
   "metadata": {},
   "outputs": [
    {
     "data": {
      "text/plain": [
       "<_io.StringIO at 0x20763d9b828>"
      ]
     },
     "execution_count": 77,
     "metadata": {},
     "output_type": "execute_result"
    }
   ],
   "source": [
    "indata"
   ]
  },
  {
   "cell_type": "code",
   "execution_count": 78,
   "metadata": {},
   "outputs": [
    {
     "data": {
      "text/plain": [
       "array([[  nan,   nan, 31.11, 56.33,  1.  ],\n",
       "       [  nan,   nan, 12.  , 16.7 ,  2.  ]])"
      ]
     },
     "execution_count": 78,
     "metadata": {},
     "output_type": "execute_result"
    }
   ],
   "source": [
    "np.genfromtxt(indata,delimiter=\",\")"
   ]
  },
  {
   "cell_type": "code",
   "execution_count": null,
   "metadata": {},
   "outputs": [],
   "source": [
    "indata=StringIO(\"30kg,inr2000,31.11,56.33,1\\n52kg,inr8000.35,12,16.7,2\").encoding(\"latinl\")\n",
    "strip1=lambda x : float(x.rstrip(\"kg\"))\n",
    "strip2=lambda x : float(x.lstrip(\"inr\"))\n",
    "convert_dict={0:strip1,1:strip2}\n",
    "data=np.genfromtxt(indata,delimiter=',',converters=convert_dict)"
   ]
  },
  {
   "cell_type": "markdown",
   "metadata": {},
   "source": [
    "# Numpy,matplotlib与scikit-learn\n",
    "## numpy\n",
    "### 创建对角阵"
   ]
  },
  {
   "cell_type": "code",
   "execution_count": 101,
   "metadata": {
    "scrolled": true
   },
   "outputs": [
    {
     "data": {
      "text/plain": [
       "array([[0., 0., 1.],\n",
       "       [0., 0., 0.],\n",
       "       [0., 0., 0.]])"
      ]
     },
     "execution_count": 101,
     "metadata": {},
     "output_type": "execute_result"
    }
   ],
   "source": [
    "np.eye(3,3,)"
   ]
  },
  {
   "cell_type": "code",
   "execution_count": 102,
   "metadata": {},
   "outputs": [
    {
     "data": {
      "text/plain": [
       "array([[0., 0., 0., 1.],\n",
       "       [0., 0., 0., 0.],\n",
       "       [0., 0., 0., 0.],\n",
       "       [0., 0., 0., 0.]])"
      ]
     },
     "execution_count": 102,
     "metadata": {},
     "output_type": "execute_result"
    }
   ],
   "source": [
    "np.eye(4,4,3)"
   ]
  },
  {
   "cell_type": "markdown",
   "metadata": {},
   "source": [
    "## matplotlib\n",
    "### 绘制带颜色的散点图"
   ]
  },
  {
   "cell_type": "code",
   "execution_count": 111,
   "metadata": {},
   "outputs": [
    {
     "data": {
      "image/png": "[encoded data removed]",
      "text/plain": [
       "<Figure size 432x288 with 1 Axes>"
      ]
     },
     "metadata": {},
     "output_type": "display_data"
    },
    {
     "data": {
      "image/png": "[encoded data removed]",
      "text/plain": [
       "<Figure size 432x288 with 1 Axes>"
      ]
     },
     "metadata": {},
     "output_type": "display_data"
    }
   ],
   "source": [
    "%matplotlib inline\n",
    "import matplotlib.pyplot as plt\n",
    "def simple_scatter(x,y,figure_no):\n",
    "    plt.figure(figure_no)\n",
    "    plt.scatter(x,y)\n",
    "    plt.xlabel('x values')\n",
    "    plt.ylabel('y values')\n",
    "    plt.title('Simple scatter')\n",
    "    \n",
    "\n",
    "def scatter_with_color(x,y,labels,figure_no):\n",
    "    plt.figure(figure_no)\n",
    "    plt.scatter(x,y,c=labels)\n",
    "    plt.xlabel('x values')\n",
    "    plt.ylabel('y values')\n",
    "    plt.title('Scatter with color')\n",
    "figure_no=1\n",
    "x = np.random.uniform(size=100)\n",
    "y = np.random.uniform(size=100)\n",
    "figure_no+=1\n",
    "simple_scatter(x,y,figure_no)\n",
    "figure_no+=1\n",
    "label = np.random.randint(2,size=100)\n",
    "scatter_with_color(x,y,label,figure_no)\n",
    "plt.show()"
   ]
  },
  {
   "cell_type": "markdown",
   "metadata": {},
   "source": [
    "### 绘制热力图"
   ]
  },
  {
   "cell_type": "code",
   "execution_count": 120,
   "metadata": {},
   "outputs": [
    {
     "data": {
      "image/png": "[encoded data removed]",
      "text/plain": [
       "<Figure size 432x288 with 2 Axes>"
      ]
     },
     "metadata": {},
     "output_type": "display_data"
    }
   ],
   "source": [
    "def plot_heat_map(x,figure_no):\n",
    "    plt.figure(figure_no)\n",
    "    plt.pcolor(x) #绘制热力图\n",
    "    plt.colorbar() #显示图例\n",
    "x = np.random.normal(loc=0.5,scale=0.2,size=(10,10))\n",
    "plot_heat_map(x,2)\n",
    "plt.show()\n"
   ]
  },
  {
   "cell_type": "markdown",
   "metadata": {},
   "source": [
    "## scikit-learn-机器学习\n",
    "### 加载预设数据集"
   ]
  },
  {
   "cell_type": "code",
   "execution_count": 143,
   "metadata": {},
   "outputs": [],
   "source": [
    "from sklearn.datasets import load_iris,load_boston,make_classification,make_circles"
   ]
  },
  {
   "cell_type": "code",
   "execution_count": 128,
   "metadata": {},
   "outputs": [],
   "source": [
    "data=load_iris()\n",
    "x=data[\"data\"]\n",
    "y=data['target']\n",
    "x_label=data['feature_names']\n",
    "y_label=data['target_names']"
   ]
  },
  {
   "cell_type": "code",
   "execution_count": 130,
   "metadata": {},
   "outputs": [
    {
     "data": {
      "text/plain": [
       "['sepal length (cm)',\n",
       " 'sepal width (cm)',\n",
       " 'petal length (cm)',\n",
       " 'petal width (cm)']"
      ]
     },
     "execution_count": 130,
     "metadata": {},
     "output_type": "execute_result"
    }
   ],
   "source": [
    "x_label"
   ]
  },
  {
   "cell_type": "code",
   "execution_count": 131,
   "metadata": {},
   "outputs": [
    {
     "data": {
      "text/plain": [
       "(150, 4)"
      ]
     },
     "execution_count": 131,
     "metadata": {},
     "output_type": "execute_result"
    }
   ],
   "source": [
    "x.shape"
   ]
  },
  {
   "cell_type": "code",
   "execution_count": 132,
   "metadata": {},
   "outputs": [
    {
     "data": {
      "text/plain": [
       "array(['setosa', 'versicolor', 'virginica'], dtype='<U10')"
      ]
     },
     "execution_count": 132,
     "metadata": {},
     "output_type": "execute_result"
    }
   ],
   "source": [
    "y_label"
   ]
  },
  {
   "cell_type": "code",
   "execution_count": 133,
   "metadata": {},
   "outputs": [
    {
     "data": {
      "text/plain": [
       "(150,)"
      ]
     },
     "execution_count": 133,
     "metadata": {},
     "output_type": "execute_result"
    }
   ],
   "source": [
    "y.shape"
   ]
  },
  {
   "cell_type": "code",
   "execution_count": 134,
   "metadata": {},
   "outputs": [
    {
     "data": {
      "text/plain": [
       "array([0, 0, 0, 0, 0, 0, 0, 0, 0, 0, 0, 0, 0, 0, 0, 0, 0, 0, 0, 0, 0, 0,\n",
       "       0, 0, 0, 0, 0, 0, 0, 0, 0, 0, 0, 0, 0, 0, 0, 0, 0, 0, 0, 0, 0, 0,\n",
       "       0, 0, 0, 0, 0, 0, 1, 1, 1, 1, 1, 1, 1, 1, 1, 1, 1, 1, 1, 1, 1, 1,\n",
       "       1, 1, 1, 1, 1, 1, 1, 1, 1, 1, 1, 1, 1, 1, 1, 1, 1, 1, 1, 1, 1, 1,\n",
       "       1, 1, 1, 1, 1, 1, 1, 1, 1, 1, 1, 1, 2, 2, 2, 2, 2, 2, 2, 2, 2, 2,\n",
       "       2, 2, 2, 2, 2, 2, 2, 2, 2, 2, 2, 2, 2, 2, 2, 2, 2, 2, 2, 2, 2, 2,\n",
       "       2, 2, 2, 2, 2, 2, 2, 2, 2, 2, 2, 2, 2, 2, 2, 2, 2, 2])"
      ]
     },
     "execution_count": 134,
     "metadata": {},
     "output_type": "execute_result"
    }
   ],
   "source": [
    "y"
   ]
  },
  {
   "cell_type": "markdown",
   "metadata": {},
   "source": [
    "### 产生随机分类数据集"
   ]
  },
  {
   "cell_type": "code",
   "execution_count": 138,
   "metadata": {},
   "outputs": [],
   "source": [
    "x,y=make_classification(n_samples=100,n_features=10,n_classes=2)#生成一个具有10个特征，2个类别的数据集"
   ]
  },
  {
   "cell_type": "code",
   "execution_count": 139,
   "metadata": {},
   "outputs": [
    {
     "data": {
      "text/plain": [
       "(100, 10)"
      ]
     },
     "execution_count": 139,
     "metadata": {},
     "output_type": "execute_result"
    }
   ],
   "source": [
    "x.shape"
   ]
  },
  {
   "cell_type": "code",
   "execution_count": 140,
   "metadata": {},
   "outputs": [
    {
     "data": {
      "text/plain": [
       "(100,)"
      ]
     },
     "execution_count": 140,
     "metadata": {},
     "output_type": "execute_result"
    }
   ],
   "source": [
    "y.shape"
   ]
  },
  {
   "cell_type": "markdown",
   "metadata": {},
   "source": [
    "### 产生非线性数据集"
   ]
  },
  {
   "cell_type": "code",
   "execution_count": 159,
   "metadata": {},
   "outputs": [],
   "source": [
    "x,y=make_circles()"
   ]
  },
  {
   "cell_type": "code",
   "execution_count": 160,
   "metadata": {},
   "outputs": [
    {
     "data": {
      "text/plain": [
       "<matplotlib.collections.PathCollection at 0x20769182e48>"
      ]
     },
     "execution_count": 160,
     "metadata": {},
     "output_type": "execute_result"
    },
    {
     "data": {
      "image/png": "[encoded data removed]",
      "text/plain": [
       "<Figure size 432x288 with 1 Axes>"
      ]
     },
     "metadata": {},
     "output_type": "display_data"
    }
   ],
   "source": [
    "plt.scatter(x[:,0],x[:,1],c=y)"
   ]
  },
  {
   "cell_type": "code",
   "execution_count": 156,
   "metadata": {},
   "outputs": [],
   "source": [
    "from sklearn.datasets import make_moons"
   ]
  },
  {
   "cell_type": "code",
   "execution_count": 161,
   "metadata": {},
   "outputs": [],
   "source": [
    "x,y=make_moons()"
   ]
  },
  {
   "cell_type": "code",
   "execution_count": 162,
   "metadata": {},
   "outputs": [
    {
     "data": {
      "text/plain": [
       "<matplotlib.collections.PathCollection at 0x20768a37240>"
      ]
     },
     "execution_count": 162,
     "metadata": {},
     "output_type": "execute_result"
    },
    {
     "data": {
      "image/png": "[encoded data removed]",
      "text/plain": [
       "<Figure size 432x288 with 1 Axes>"
      ]
     },
     "metadata": {},
     "output_type": "display_data"
    }
   ],
   "source": [
    "plt.scatter(x[:,0],x[:,1],c=y)"
   ]
  },
  {
   "cell_type": "markdown",
   "metadata": {},
   "source": [
    "### 计算与转换（fit and transform）"
   ]
  },
  {
   "cell_type": "code",
   "execution_count": 163,
   "metadata": {},
   "outputs": [],
   "source": [
    "from sklearn.tree import DecisionTreeClassifier\n",
    "estimator=DecisionTreeClassifier()"
   ]
  },
  {
   "cell_type": "code",
   "execution_count": 170,
   "metadata": {},
   "outputs": [],
   "source": [
    "data=load_iris()\n",
    "x=data[\"data\"]\n",
    "y=data['target']\n",
    "x_label=data['feature_names']\n",
    "y_label=data['target_names']\n",
    "estimator.fit(x,y)\n",
    "predicted_y=estimator.predict(x)\n",
    "predicted_y_prob=estimator.predict_proba(x)"
   ]
  },
  {
   "cell_type": "markdown",
   "metadata": {},
   "source": [
    "# 数据分析——探索与争鸣\n",
    "## 用图表分析单变量数据\n",
    "1.使用匿名函数预处理数据中的异常值"
   ]
  },
  {
   "cell_type": "code",
   "execution_count": 172,
   "metadata": {},
   "outputs": [],
   "source": [
    "import numpy as np\n",
    "import matplotlib.pyplot as plt\n",
    "\n",
    "fill_data=lambda x : int(x.strip() or 0)\n",
    "data=np.genfromtxt(\"president.txt\",dtype=(int,int),converters={1:fill_data},delimiter=\",\")"
   ]
  },
  {
   "cell_type": "markdown",
   "metadata": {},
   "source": [
    "2.画出图形查看特征"
   ]
  },
  {
   "cell_type": "code",
   "execution_count": 175,
   "metadata": {},
   "outputs": [
    {
     "data": {
      "text/plain": [
       "[<matplotlib.lines.Line2D at 0x20769c780b8>]"
      ]
     },
     "execution_count": 175,
     "metadata": {},
     "output_type": "execute_result"
    },
    {
     "data": {
      "image/png": "[encoded data removed]",
      "text/plain": [
       "<Figure size 432x288 with 1 Axes>"
      ]
     },
     "metadata": {},
     "output_type": "display_data"
    }
   ],
   "source": [
    "x=data[:,0]\n",
    "y=data[:,1]\n",
    "plt.plot(x,y,\"ro\")"
   ]
  },
  {
   "cell_type": "markdown",
   "metadata": {},
   "source": [
    "3.计算百分位数，并将其加入到图形中查看特征和趋势，并查看异常值\n",
    "\n",
    "```\n",
    "所谓异常值就是一个点明显落在绝大多数模式分布范围之外的点\n",
    "```"
   ]
  },
  {
   "cell_type": "code",
   "execution_count": 200,
   "metadata": {},
   "outputs": [
    {
     "data": {
      "image/png": "[encoded data removed]",
      "text/plain": [
       "<Figure size 576x432 with 1 Axes>"
      ]
     },
     "metadata": {},
     "output_type": "display_data"
    }
   ],
   "source": [
    "perc_25 = np.percentile(y,25)\n",
    "perc_50 = np.percentile(y,50)\n",
    "perc_75 = np.percentile(y,75)\n",
    "plt.figure(figsize=(8,6))\n",
    "plt.plot(x,y,\"ro\")\n",
    "plt.axhline(perc_25,label='25th perc',c='r',ls=\"dashed\")\n",
    "plt.axhline(perc_50,label='50th perc',c='g',ls=\"dashed\")\n",
    "plt.axhline(perc_75,label='75th perc',c='m',ls=\"--\")\n",
    "plt.legend(loc='best')\n",
    "plt.show()"
   ]
  },
  {
   "cell_type": "markdown",
   "metadata": {},
   "source": [
    "4.隐藏异常值，重新画图"
   ]
  },
  {
   "cell_type": "code",
   "execution_count": 203,
   "metadata": {},
   "outputs": [
    {
     "data": {
      "text/plain": [
       "<matplotlib.legend.Legend at 0x2076b682c18>"
      ]
     },
     "execution_count": 203,
     "metadata": {},
     "output_type": "execute_result"
    },
    {
     "data": {
      "image/png": "[encoded data removed]",
      "text/plain": [
       "<Figure size 432x288 with 1 Axes>"
      ]
     },
     "metadata": {},
     "output_type": "display_data"
    }
   ],
   "source": [
    "y_masked=np.ma.masked_where(y==0,y)\n",
    "plt.title(\"Masked data\")\n",
    "plt.plot(x,y_masked,'ro')\n",
    "plt.xlabel('year')\n",
    "plt.ylabel('No Presedential Request')\n",
    "plt.ylim(0,60)\n",
    "plt.axhline(perc_25,label='25th perc',c='r',ls=\"dashed\")\n",
    "plt.axhline(perc_50,label='50th perc',c='g',ls=\"dashed\")\n",
    "plt.axhline(perc_75,label='75th perc',c='m',ls=\"--\")\n",
    "plt.legend(loc='best')"
   ]
  },
  {
   "cell_type": "markdown",
   "metadata": {},
   "source": [
    "## 数据分组与使用点阵图\n",
    "为了更好地掌握数据，我们得使用EDA方法从多个角度对数据进行或深或浅的观察，换个思路，我们可以使用点阵图，所谓点阵图，就是将数据分成多个组绘制在一定范围内，我们所需要做的决定就是如何分组。**点阵图更适合小数据，大数据更适用直方图**"
   ]
  },
  {
   "cell_type": "markdown",
   "metadata": {},
   "source": [
    "1.加载相应的包"
   ]
  },
  {
   "cell_type": "code",
   "execution_count": 10,
   "metadata": {},
   "outputs": [],
   "source": [
    "import numpy as np\n",
    "import matplotlib.pyplot as plt\n",
    "from collections import Counter\n",
    "from collections import OrderedDict\n",
    "from matplotlib.pylab import frange"
   ]
  },
  {
   "cell_type": "markdown",
   "metadata": {},
   "source": [
    "2.装在数据，并处理丢失的数据"
   ]
  },
  {
   "cell_type": "code",
   "execution_count": 11,
   "metadata": {},
   "outputs": [],
   "source": [
    "fill_data=lambda x : int(x.strip() or 0)\n",
    "data=np.genfromtxt(\"president.txt\",dtype=(int,int),converters={1:fill_data},delimiter=\",\")\n",
    "x=data[:,0]\n",
    "y=data[:,1]"
   ]
  },
  {
   "cell_type": "markdown",
   "metadata": {},
   "source": [
    "3.采用频率对数据进行分组"
   ]
  },
  {
   "cell_type": "code",
   "execution_count": 12,
   "metadata": {},
   "outputs": [],
   "source": [
    "x_freq=Counter(y)\n",
    "x_=np.array(list(x_freq.keys()))\n",
    "y_=np.array(list(x_freq.values()))"
   ]
  },
  {
   "cell_type": "markdown",
   "metadata": {},
   "source": [
    "适用年份进行分组"
   ]
  },
  {
   "cell_type": "code",
   "execution_count": 13,
   "metadata": {},
   "outputs": [],
   "source": [
    "x_group = OrderedDict()\n",
    "group= 5\n",
    "group_count=1\n",
    "keys = []\n",
    "values = []\n",
    "for i,xx in enumerate(x):\n",
    "    # Individual data point is appended to list keys\n",
    "    keys.append(xx)\n",
    "    values.append(y[i])\n",
    "    # If we have processed five data points (i.e. five years)\n",
    "    if group_count == group:\n",
    "        # Convert the list of keys to a tuple\n",
    "        # use the new tuple as the ke to x_group dictionary\n",
    "        x_group[tuple(keys)] = values\n",
    "        keys= []\n",
    "        values =[]\n",
    "        group_count = 1\n",
    "        \n",
    "    group_count+=1\n",
    "# Accomodate the last batch of keys and values\n",
    "x_group[tuple(keys)] = values "
   ]
  },
  {
   "cell_type": "code",
   "execution_count": 14,
   "metadata": {
    "scrolled": true
   },
   "outputs": [
    {
     "data": {
      "text/plain": [
       "OrderedDict([((1946, 1947, 1948, 1949, 1950), [41, 23, 16, 28, 20]),\n",
       "             ((1951, 1952, 1953, 1954), [11, 19, 14, 39]),\n",
       "             ((1955, 1956, 1957, 1958), [32, 0, 14, 0]),\n",
       "             ((1959, 1960), [16, 6])])"
      ]
     },
     "execution_count": 14,
     "metadata": {},
     "output_type": "execute_result"
    }
   ],
   "source": [
    "x_group"
   ]
  },
  {
   "cell_type": "markdown",
   "metadata": {},
   "source": [
    "4.绘制点阵图"
   ]
  },
  {
   "cell_type": "code",
   "execution_count": 15,
   "metadata": {},
   "outputs": [
    {
     "data": {
      "text/plain": [
       "(0, 3)"
      ]
     },
     "execution_count": 15,
     "metadata": {},
     "output_type": "execute_result"
    },
    {
     "data": {
      "image/png": "[encoded data removed]",
      "text/plain": [
       "<Figure size 1152x648 with 1 Axes>"
      ]
     },
     "metadata": {},
     "output_type": "display_data"
    }
   ],
   "source": [
    "plt.figure(figsize=(16,9))\n",
    "plt.plot(y_,x_,'ro')\n",
    "plt.title('dot plot for frequency of requests')\n",
    "plt.xlim(min(y_)-1,max(y_)+1)"
   ]
  },
  {
   "cell_type": "code",
   "execution_count": 16,
   "metadata": {},
   "outputs": [
    {
     "data": {
      "image/png": "[encoded data removed]",
      "text/plain": [
       "<Figure size 432x288 with 1 Axes>"
      ]
     },
     "metadata": {},
     "output_type": "display_data"
    }
   ],
   "source": [
    "x_vals =[]\n",
    "x_labels =[]\n",
    "y_vals =[]\n",
    "x_tick = 1\n",
    "for k,v in x_group.items():\n",
    "    for i in range(len(k)):\n",
    "        x_vals.append(x_tick)\n",
    "        x_label = '-'.join([str(kk) if not i else str(kk)[-2:] for i,kk in enumerate(k)])\n",
    "        x_labels.append(x_label)\n",
    "    y_vals.extend(list(v))\n",
    "    x_tick+=1\n",
    "\n",
    "plt.title(\"Dot Plot by Year Grouping\")\n",
    "plt.xlabel('Year Group')\n",
    "plt.ylabel('No Presedential Request')\n",
    "try:\n",
    "    plt.plot(x_vals,y_vals,'ro')\n",
    "except ValueError:\n",
    "    print(len(x_vals),len(y_vals))\n",
    "    \n",
    "plt.xticks(x_vals,x_labels,rotation=-35)\n",
    "\n",
    "plt.show()"
   ]
  },
  {
   "cell_type": "markdown",
   "metadata": {},
   "source": [
    "## 为多变量数据绘制散点阵图\n",
    "在对变量数据进行分析时，我们更感兴趣的是这些列之间是否存在某些联系。对于两个列/变量的情形，从标准准散点图开始是最合适的，它们之间只有以下四种关系：\n",
    "- 无关联\n",
    "- 强关联\n",
    "- 简单关联\n",
    "- 多元关联"
   ]
  },
  {
   "cell_type": "markdown",
   "metadata": {},
   "source": [
    "1.加载常用包\n"
   ]
  },
  {
   "cell_type": "code",
   "execution_count": 2,
   "metadata": {},
   "outputs": [],
   "source": [
    "from sklearn.datasets import load_iris\n",
    "import numpy as np\n",
    "import matplotlib.pyplot as plt\n",
    "import itertools"
   ]
  },
  {
   "cell_type": "markdown",
   "metadata": {},
   "source": [
    "2.载入数据，并绘图"
   ]
  },
  {
   "cell_type": "code",
   "execution_count": 28,
   "metadata": {},
   "outputs": [],
   "source": [
    "data=load_iris()\n",
    "x=data['data']\n",
    "y=data['target']\n",
    "col_name=data['feature_names']\n",
    "\n",
    "subplots=321\n",
    "col_number=range(0,4)\n",
    "\n",
    "col_pairs=itertools.combinations(col_number,2)#这个方法表示将0,1，2,3四个数两两组合，并形成迭代对象"
   ]
  },
  {
   "cell_type": "code",
   "execution_count": 29,
   "metadata": {},
   "outputs": [
    {
     "data": {
      "image/png": "[encoded data removed]",
      "text/plain": [
       "<Figure size 432x288 with 6 Axes>"
      ]
     },
     "metadata": {},
     "output_type": "display_data"
    }
   ],
   "source": [
    "%matplotlib inline\n",
    "plt.subplots_adjust(wspace=0.5,hspace=1)\n",
    "for colpair in col_pairs:\n",
    "    plt.subplot(subplots)\n",
    "    plt.scatter(x[:,colpair[0]],x[:,col_pair[1]],c=y)\n",
    "    plt.xlabel(col_name[col_pair[0]])\n",
    "    plt.ylabel(col_name[col_pair[1]])\n",
    "    subplots+=1\n",
    "plt.show()\n"
   ]
  },
  {
   "cell_type": "markdown",
   "metadata": {},
   "source": [
    "## 使用热图\n",
    "热图是另一种有趣的可视化技术。在热图汇总数据的形式是矩阵，数据的属性值范围用颜色渐变来表示。"
   ]
  },
  {
   "cell_type": "markdown",
   "metadata": {},
   "source": [
    "1.加载库和数据"
   ]
  },
  {
   "cell_type": "code",
   "execution_count": 39,
   "metadata": {},
   "outputs": [],
   "source": [
    "from sklearn.datasets import load_iris\n",
    "from sklearn.preprocessing import scale\n",
    "import numpy as np\n",
    "import matplotlib.pyplot as plt\n",
    "data = load_iris()\n",
    "x = data['data']\n",
    "y = data['target']\n",
    "col_names = data['feature_names']"
   ]
  },
  {
   "cell_type": "markdown",
   "metadata": {},
   "source": [
    "2.缩放数据"
   ]
  },
  {
   "cell_type": "code",
   "execution_count": 40,
   "metadata": {},
   "outputs": [],
   "source": [
    "x=scale(x,with_std=False)#将数据进行缩放，使其更接近均值\n",
    "x_=x[1:26,]\n",
    "y_labels=range(1,26)"
   ]
  },
  {
   "cell_type": "markdown",
   "metadata": {},
   "source": [
    "3.绘制热力图"
   ]
  },
  {
   "cell_type": "code",
   "execution_count": 46,
   "metadata": {},
   "outputs": [
    {
     "data": {
      "text/plain": [
       "[Text(0,0,'1'),\n",
       " Text(0,0,'2'),\n",
       " Text(0,0,'3'),\n",
       " Text(0,0,'4'),\n",
       " Text(0,0,'5'),\n",
       " Text(0,0,'6'),\n",
       " Text(0,0,'7'),\n",
       " Text(0,0,'8'),\n",
       " Text(0,0,'9'),\n",
       " Text(0,0,'10'),\n",
       " Text(0,0,'11'),\n",
       " Text(0,0,'12'),\n",
       " Text(0,0,'13'),\n",
       " Text(0,0,'14'),\n",
       " Text(0,0,'15'),\n",
       " Text(0,0,'16'),\n",
       " Text(0,0,'17'),\n",
       " Text(0,0,'18'),\n",
       " Text(0,0,'19'),\n",
       " Text(0,0,'20'),\n",
       " Text(0,0,'21'),\n",
       " Text(0,0,'22'),\n",
       " Text(0,0,'23'),\n",
       " Text(0,0,'24'),\n",
       " Text(0,0,'25')]"
      ]
     },
     "execution_count": 46,
     "metadata": {},
     "output_type": "execute_result"
    },
    {
     "data": {
      "image/png": "[encoded data removed]",
      "text/plain": [
       "<Figure size 1152x648 with 1 Axes>"
      ]
     },
     "metadata": {},
     "output_type": "display_data"
    }
   ],
   "source": [
    "fig,ax = plt.subplots(figsize=(16,9))\n",
    "ax.pcolor(x_,cmap=plt.cm.Greens,edgecolors='k')\n",
    "ax.set_xticks(np.arange(0,x_.shape[1])+0.5)#设置刻度\n",
    "ax.set_yticks(np.arange(0,x_.shape[0])+0.5)\n",
    "ax.xaxis.tick_top()#设置坐标位置\n",
    "ax.yaxis.tick_left()\n",
    "ax.set_xticklabels(col_names,minor=False,fontsize=10)#设置标签\n",
    "ax.set_yticklabels(y_labels,minor=False,fontsize=10)\n"
   ]
  },
  {
   "cell_type": "markdown",
   "metadata": {},
   "source": [
    "另一种热图的画法——通过变量将各自的类区分开来"
   ]
  },
  {
   "cell_type": "code",
   "execution_count": 49,
   "metadata": {},
   "outputs": [
    {
     "data": {
      "text/plain": [
       "<Figure size 432x288 with 0 Axes>"
      ]
     },
     "metadata": {},
     "output_type": "display_data"
    },
    {
     "data": {
      "image/png": "[encoded data removed]",
      "text/plain": [
       "<Figure size 1152x648 with 3 Axes>"
      ]
     },
     "metadata": {},
     "output_type": "display_data"
    }
   ],
   "source": [
    "x1 = x[0:50]\n",
    "x2 = x[50:99]\n",
    "x3 = x[100:149]\n",
    "x1 = scale(x1,with_std=False)\n",
    "x2 = scale(x2,with_std=False)\n",
    "x3 = scale(x3,with_std=False)\n",
    "plt.close('all')\n",
    "plt.figure(2)\n",
    "fig,(ax1, ax2, ax3) = plt.subplots(3, sharex=True, sharey=True,figsize=(16,9))\n",
    "y_labels = range(1,51)\n",
    "ax1.set_xticks(np.arange(0,x.shape[1])+0.5)\n",
    "ax1.set_yticks(np.arange(0,50,10))\n",
    "ax1.xaxis.tick_bottom()\n",
    "ax1.set_xticklabels(col_names,minor=False,fontsize=2)\n",
    "ax1.pcolor(x1,cmap=plt.cm.Greens,edgecolors='k')\n",
    "ax1.set_title(data['target_names'][0])\n",
    "ax2.pcolor(x2,cmap=plt.cm.Greens,edgecolors='k')\n",
    "ax2.set_title(data['target_names'][1])\n",
    "ax3.pcolor(x3,cmap=plt.cm.Greens,edgecolors='k')\n",
    "ax3.set_title(data['target_names'][2])\n",
    "plt.show()   "
   ]
  },
  {
   "cell_type": "markdown",
   "metadata": {},
   "source": [
    "## 概要统计及绘图\n",
    "\n",
    "概要统计的主要目的是为了能拿个更好的理解数据的位置和分布， 我们关注的是平均值，中位数，标准差等，这些数都很容易计算。不过如果数据不是单峰而是多峰分布的，这些数据就没那么好用了。"
   ]
  },
  {
   "cell_type": "code",
   "execution_count": 2,
   "metadata": {},
   "outputs": [
    {
     "name": "stdout",
     "output_type": "stream",
     "text": [
      "col name,mean vaule\n",
      "sepal length (cm),5.84\n",
      "sepal width (cm),3.05\n",
      "petal length (cm),3.76\n",
      "petal width (cm),1.20\n"
     ]
    }
   ],
   "source": [
    "#加载库\n",
    "from sklearn.datasets import  load_iris\n",
    "import numpy as np \n",
    "import matplotlib.pyplot as plt \n",
    "from scipy.stats import trim_mean#计算截尾均值\n",
    "\n",
    "##加载数据\n",
    "data=load_iris()\n",
    "x=data['data']\n",
    "y=data['target']\n",
    "col_names=data['feature_names']\n",
    "\n",
    "# 计算平均值，截尾均值和幅度值\n",
    "print(\"col name,mean vaule\")\n",
    "for i,col_name in enumerate(col_names):\n",
    "    print (\"%s,%0.2f\" %(col_name,np.mean(x[:,i])))"
   ]
  },
  {
   "cell_type": "code",
   "execution_count": 3,
   "metadata": {},
   "outputs": [
    {
     "name": "stdout",
     "output_type": "stream",
     "text": [
      "col_name,trim_mean value\n",
      "sepal length (cm),5.81\n",
      "sepal width (cm),3.04\n",
      "petal length (cm),3.76\n",
      "petal width (cm),1.18\n"
     ]
    }
   ],
   "source": [
    "#计算截尾均值\n",
    "p=0.1\n",
    "print(\"col_name,trim_mean value\")\n",
    "for i,col_name in enumerate(col_names):\n",
    "    print(\"%s,%0.2f\" %(col_name,trim_mean(x[:,i],p)))"
   ]
  },
  {
   "cell_type": "code",
   "execution_count": 7,
   "metadata": {},
   "outputs": [
    {
     "name": "stdout",
     "output_type": "stream",
     "text": [
      "col_name,max min range\n",
      "petal width (cm),7.90,4.30,3.60\n",
      "petal width (cm),4.40,2.00,2.40\n",
      "petal width (cm),6.90,1.00,5.90\n",
      "petal width (cm),2.50,0.10,2.40\n"
     ]
    }
   ],
   "source": [
    "#数据离差，计算并显示幅度值\n",
    "print(\"col_name,max min range\")\n",
    "for i,col_nmae in enumerate(col_names):\n",
    "    print(\"%s,%0.2f,%0.2f,%0.2f\" %(col_name,max(x[:,i]),min(x[:,i]),max(x[:,i])-min(x[:,i])))"
   ]
  },
  {
   "cell_type": "code",
   "execution_count": 8,
   "metadata": {},
   "outputs": [
    {
     "name": "stdout",
     "output_type": "stream",
     "text": [
      "col_name,variance,std_dev\n",
      "sepal length (cm),5.84,0.83\n",
      "sepal width (cm),3.05,0.43\n",
      "petal length (cm),3.76,1.76\n",
      "petal width (cm),1.20,0.76\n"
     ]
    }
   ],
   "source": [
    "#计算数据离差，方差和标准差\n",
    "print(\"col_name,variance,std_dev\")\n",
    "for i,col_name in enumerate(col_names):\n",
    "    print(\"%s,%0.2f,%0.2f\" %(col_name,np.mean(x[:,i]),np.std(x[:,i])))"
   ]
  },
  {
   "cell_type": "code",
   "execution_count": 10,
   "metadata": {},
   "outputs": [
    {
     "name": "stdout",
     "output_type": "stream",
     "text": [
      "col_name,mad\n",
      "sepal length (cm),0.69\n",
      "sepal width (cm),0.33\n",
      "petal length (cm),1.56\n",
      "petal width (cm),0.66\n"
     ]
    }
   ],
   "source": [
    "#计算平均绝对离差\n",
    "def mad(x,axis=None):\n",
    "    mean=np.mean(x,axis=axis)\n",
    "    return np.sum(np.abs(x-mean))/(1.0*len(x))\n",
    "print(\"col_name,mad\")\n",
    "for i, col_name in enumerate(col_names):\n",
    "    print(\"%s,%0.2f\" %(col_name,mad(x[:,i])))"
   ]
  },
  {
   "cell_type": "code",
   "execution_count": 11,
   "metadata": {},
   "outputs": [
    {
     "name": "stdout",
     "output_type": "stream",
     "text": [
      "col_name,mdad\n",
      "sepal length (cm),0.70\n",
      "sepal width (cm),0.25\n",
      "petal length (cm),1.25\n",
      "petal width (cm),0.70\n"
     ]
    }
   ],
   "source": [
    "#计算绝对中位差\n",
    "def mdad(x,axis=None):\n",
    "    median=np.median(x,axis=None)\n",
    "    return np.median(np.abs(x-median))\n",
    "print(\"col_name,mdad\")\n",
    "for i,col_name in enumerate(col_names):\n",
    "    print(\"%s,%0.2f\" %(col_name,mdad(x[:,i])))"
   ]
  },
  {
   "cell_type": "markdown",
   "metadata": {},
   "source": [
    "## 使用箱线图\n",
    "在概要统计中，箱线图是一种好用的查看统计信息的工具，它能够高效的表达出数据的千分位数，如果数据中有异常点，它能够通过展示数据的总体结构而将其显现出来。箱线图必须具有以下特点：\n",
    "- 标出水平的中位线\n",
    "- 箱体扩展到四分位范围，用来衡量数据的分布\n",
    "- 一系列的虚线从中间的箱体或横或纵伸展，便是数据的尾部分布"
   ]
  },
  {
   "cell_type": "code",
   "execution_count": 19,
   "metadata": {},
   "outputs": [
    {
     "data": {
      "text/plain": [
       "([<matplotlib.axis.XTick at 0x1750a6df2e8>,\n",
       "  <matplotlib.axis.XTick at 0x1750a4c8c50>,\n",
       "  <matplotlib.axis.XTick at 0x1750a4c89b0>,\n",
       "  <matplotlib.axis.XTick at 0x1750a526160>,\n",
       "  <matplotlib.axis.XTick at 0x1750b1d3710>],\n",
       " <a list of 4 Text xticklabel objects>)"
      ]
     },
     "execution_count": 19,
     "metadata": {},
     "output_type": "execute_result"
    },
    {
     "data": {
      "image/png": "[encoded data removed]",
      "text/plain": [
       "<Figure size 576x432 with 1 Axes>"
      ]
     },
     "metadata": {},
     "output_type": "display_data"
    }
   ],
   "source": [
    "# 加载库\n",
    "from sklearn.datasets import load_iris\n",
    "import matplotlib.pyplot as plt\n",
    "\n",
    "# 加载数据\n",
    "data=load_iris()\n",
    "x=data['data']\n",
    "y=data['target']\n",
    "col_names=data['feature_names']\n",
    "\n",
    "#绘图\n",
    "plt.figure(figsize=(8,6))\n",
    "plt.boxplot(x)\n",
    "plt.xticks(range(1,6),col_names)"
   ]
  },
  {
   "cell_type": "markdown",
   "metadata": {},
   "source": [
    "**根据不同类别画箱线图**"
   ]
  },
  {
   "cell_type": "code",
   "execution_count": 25,
   "metadata": {},
   "outputs": [
    {
     "data": {
      "image/png": "[encoded data removed]",
      "text/plain": [
       "<Figure size 576x1080 with 3 Axes>"
      ]
     },
     "metadata": {},
     "output_type": "display_data"
    }
   ],
   "source": [
    "y_label=data['target_names']\n",
    "fig=plt.figure(figsize=(8,15))\n",
    "subcounts=311\n",
    "plt.subplots_adjust(wspace=0.5)#调整图像距离\n",
    "for i in range(0,3):\n",
    "    ax=fig.add_subplot(subcounts)\n",
    "    y_index=np.where(y==i)[0]\n",
    "    ax.boxplot(x[y_index,:])\n",
    "    ax.set_title(y_label[i])\n",
    "    ax.set_xticklabels(col_names)\n",
    "    subcounts+=1"
   ]
  },
  {
   "cell_type": "markdown",
   "metadata": {},
   "source": [
    "## 修补数据\n",
    "常见的修补技术的方法：\n",
    "- 有类别标签的情况：\n",
    "    - 结合类别标签进行处理\n",
    "- 无类别标签\n",
    "    - 一种简单的技术就是直接忽略丢失的数据，从而避免修正数据的高昂代价，不过这只能针对数据量非常丰富的情况下\n",
    "    - 一种更好的处理丢失数据的方法是对它进行拟合。当前的拟合过程可以针对数据本身，也可以结合类别标签进行。对于变量值是连续值的情形，平均值，中位数或者最为常见的数值都是可以用来被替代丢失的数据。Scikit-learn在preprocessing模块中提供了Imputer()函数来处理丢失的数据"
   ]
  },
  {
   "cell_type": "code",
   "execution_count": 26,
   "metadata": {},
   "outputs": [],
   "source": [
    "# 加载库\n",
    "from sklearn.datasets import load_iris\n",
    "import matplotlib.pyplot as plt\n",
    "import numpy as np\n",
    "import numpy.ma as ma\n",
    "from sklearn.preprocessing import Imputer\n",
    "\n",
    "# 加载数据\n",
    "data=load_iris()\n",
    "x=data['data']\n",
    "y=data['target']\n",
    "col_names=data['feature_names']\n",
    "\n",
    "#复制原始数据\n",
    "x_c=x.copy()\n",
    "\n",
    "#制造丢失值\n",
    "x_c[2,:]=np.repeat(0,x.shape[1])"
   ]
  },
  {
   "cell_type": "code",
   "execution_count": 27,
   "metadata": {},
   "outputs": [],
   "source": [
    "#进行数据修补，采用平均值策略，在丢失的数据位置上，用列的平均值来填充\n",
    "imputer=Imputer(missing_values=0,strategy='mean')\n",
    "x_imputered=imputer.fit_transform(x_c)"
   ]
  },
  {
   "cell_type": "markdown",
   "metadata": {},
   "source": [
    "## 采用随机抽样\n",
    "通常情况下，如果对整个数据集进行处理需要付出高昂的代价，那么应该对数据进行采样，只提取整体的一部分值来进行分析"
   ]
  },
  {
   "cell_type": "code",
   "execution_count": 32,
   "metadata": {},
   "outputs": [
    {
     "name": "stdout",
     "output_type": "stream",
     "text": [
      "[[5.4 3.4 1.7 0.2]\n",
      " [6.1 2.8 4.  1.3]\n",
      " [6.  2.2 5.  1.5]\n",
      " [5.1 2.5 3.  1.1]\n",
      " [5.1 3.8 1.5 0.3]\n",
      " [5.  3.5 1.6 0.6]\n",
      " [5.  3.  1.6 0.2]\n",
      " [7.1 3.  5.9 2.1]\n",
      " [5.  3.5 1.6 0.6]\n",
      " [5.8 2.7 5.1 1.9]]\n"
     ]
    }
   ],
   "source": [
    "# 加载库\n",
    "from sklearn.datasets import load_iris\n",
    "import matplotlib.pyplot as plt\n",
    "import numpy as np\n",
    "\n",
    "# 加载数据\n",
    "data=load_iris()\n",
    "x=data['data']\n",
    "y=data['target']\n",
    "col_names=data['feature_names']\n",
    "\n",
    "no_records=10\n",
    "x_sample_index=np.random.choice(range(x.shape[0]),no_records)\n",
    "x_sample=x[x_sample_index,:]\n",
    "print(x_sample)"
   ]
  },
  {
   "cell_type": "markdown",
   "metadata": {},
   "source": [
    "## 缩放数据\n",
    "缩放数据是一钟非常重要的技术手段，一般来说，对数据集进行缩放后，我们能够控制数值的范围，这些数据类型能够匹配。当数据集中有多个列时，数值较大的列对于其他列更具优势，因此我们必须对数据进行缩放以避免这种干扰"
   ]
  },
  {
   "cell_type": "code",
   "execution_count": 35,
   "metadata": {},
   "outputs": [
    {
     "data": {
      "text/plain": [
       "([18.0, 18.0, 13.0, 17.0, 17.0, 10.0, 20.0, 24.0, 14.0, 12.0],\n",
       " [0.57, 0.57, 0.21, 0.5, 0.5, 0.0, 0.71, 1.0, 0.29, 0.14])"
      ]
     },
     "execution_count": 35,
     "metadata": {},
     "output_type": "execute_result"
    }
   ],
   "source": [
    "#创建缩放数据\n",
    "import numpy as np\n",
    "np.random.seed(100)\n",
    "x=[np.random.randint(10,25)*1.0 for i in range(10)]\n",
    "\n",
    "#定义函数进行缩放\n",
    "def min_max(x):\n",
    "    return [round((xx-min(x))/(max(x)-min(x)),2) for xx in x]\n",
    "\n",
    "x,min_max(x)"
   ]
  },
  {
   "cell_type": "markdown",
   "metadata": {},
   "source": [
    "**scikit-learn中的MinMaxScaler函数提供了相同的功能**\n",
    "\n",
    "**MinMaxScaler只接受numpy的matrix对象，且运算是列运算，切忌输入行**"
   ]
  },
  {
   "cell_type": "code",
   "execution_count": 41,
   "metadata": {},
   "outputs": [
    {
     "data": {
      "text/plain": [
       "array([[0.57142857],\n",
       "       [0.57142857],\n",
       "       [0.21428571],\n",
       "       [0.5       ],\n",
       "       [0.5       ],\n",
       "       [0.        ],\n",
       "       [0.71428571],\n",
       "       [1.        ],\n",
       "       [0.28571429],\n",
       "       [0.14285714]])"
      ]
     },
     "execution_count": 41,
     "metadata": {},
     "output_type": "execute_result"
    }
   ],
   "source": [
    "from sklearn.preprocessing import MinMaxScaler\n",
    "import numpy as np\n",
    "\n",
    "x=np.matrix(x)\n",
    "##使用MinMaxScaler\n",
    "minmax=MinMaxScaler(feature_range=(0,1))\n",
    "minmax.fit_transform(x.T)"
   ]
  },
  {
   "cell_type": "markdown",
   "metadata": {},
   "source": [
    "## 数据标准化\n",
    "数据标准化将输入的数值转换为平均值为0，标准差为1的形式\n",
    "\n",
    "标准化的$$X=\\frac{x-mean(value)}{sd(X)}$$\n"
   ]
  },
  {
   "cell_type": "code",
   "execution_count": 42,
   "metadata": {},
   "outputs": [
    {
     "data": {
      "text/plain": [
       "(array([ 1.7,  1.7, -3.3,  0.7,  0.7, -6.3,  3.7,  7.7, -2.3, -4.3]),\n",
       " array([ 0.43305953,  0.43305953, -0.84064497,  0.17831863,  0.17831863,\n",
       "        -1.60486768,  0.94254133,  1.96150494, -0.58590407, -1.09538587]))"
      ]
     },
     "execution_count": 42,
     "metadata": {},
     "output_type": "execute_result"
    }
   ],
   "source": [
    "#加载包\n",
    "import numpy as np\n",
    "from sklearn.preprocessing import scale\n",
    "\n",
    "##创建数据\n",
    "np.random.seed(100)\n",
    "x=[np.random.randint(10,25)*1.0 for i in range(10)]\n",
    "\n",
    "##中心化\n",
    "x_centered=scale(x,with_mean=True,with_std=False)\n",
    "\n",
    "##标准化\n",
    "x_standared=scale(x,with_mean=True,with_std=True)\n",
    "x_centered,x_standared"
   ]
  },
  {
   "cell_type": "code",
   "execution_count": 46,
   "metadata": {},
   "outputs": [
    {
     "data": {
      "text/plain": [
       "[<matplotlib.lines.Line2D at 0x1750e752278>]"
      ]
     },
     "execution_count": 46,
     "metadata": {},
     "output_type": "execute_result"
    },
    {
     "data": {
      "image/png": "[encoded data removed]",
      "text/plain": [
       "<Figure size 432x288 with 1 Axes>"
      ]
     },
     "metadata": {},
     "output_type": "display_data"
    }
   ],
   "source": [
    "import matplotlib.pyplot as plt\n",
    "\n",
    "fig,ax=plt.subplots()\n",
    "fig.set_figure((16,9))\n",
    "ax.plot(x_centered,'o')\n",
    "ax.plot(x_standared,'o')"
   ]
  },
  {
   "cell_type": "markdown",
   "metadata": {},
   "source": [
    "# 文本数据\n",
    "## 实施分词化\n",
    "给定一些文本数据，首先要做的就是将文本进行分词化，以满足需要解决的问题的格式要求。分词化是一个比较宽泛的概念，我们可以把文本分词化为一下几个级别的粒度：\n",
    "- 段落级别\n",
    "- 词句级别\n",
    "- 词级别"
   ]
  },
  {
   "cell_type": "code",
   "execution_count": 63,
   "metadata": {},
   "outputs": [
    {
     "name": "stdout",
     "output_type": "stream",
     "text": [
      "defaultdict(<class 'list'>, {0: ['Peter', 'Piper', 'picked', 'a', 'peck', 'of', 'pickled', 'peppers', '.'], 1: ['A', 'peck', 'of', 'pickled', 'peppers', ',', 'Peter', 'Piper', 'picked', '!', '!', '!'], 2: ['If', 'Peter', 'Piper', 'picked', 'a', 'peck', 'of', 'pickled', 'peppers', ',', 'Wheres', 'the', 'peck', 'of', 'pickled', 'peppers', 'Peter', 'Piper', 'picked', '?']})\n"
     ]
    }
   ],
   "source": [
    "# 加载所需要的库\n",
    "from nltk.tokenize import sent_tokenize\n",
    "from nltk.tokenize import word_tokenize\n",
    "from collections import defaultdict\n",
    "\n",
    "## 创建一个文本\n",
    "\n",
    "sentence = \"Peter Piper picked a peck of pickled peppers. A peck of pickled \\\n",
    "peppers, Peter Piper picked !!! If Peter Piper picked a peck of pickled \\\n",
    "peppers, Wheres the peck of pickled peppers Peter Piper picked ?\"\n",
    "\n",
    "## 使用nltk分词器，将给定的文本分词成多个句子\n",
    "sent_list=sent_tokenize(sentence)\n",
    "\n",
    "## 从句子中抽取词\n",
    "word_dict=defaultdict(list)\n",
    "for i,sent in enumerate(sent_list):\n",
    "    word_dict[i].extend(word_tokenize(sent))\n",
    "print(word_dict)r', 'Piper', 'picked', 'a', 'peck', 'of"
   ]
  },
  {
   "cell_type": "markdown",
   "metadata": {},
   "source": [
    "## 删除停用词\n",
    "在文本处理过程中，我们更关注那些能够帮助我们给特定的文本和语料中的其他文本区别出来的词和短语，他们可以被称为关键短语。\n",
    "```\n",
    "有时候，一些很常见的词在帮助选择文档匹配用户需求方面几乎毫无价值，他们必须从词表中彻底清除，这些词就称为停用词\n",
    "```\n"
   ]
  },
  {
   "cell_type": "code",
   "execution_count": 81,
   "metadata": {
    "scrolled": false
   },
   "outputs": [
    {
     "name": "stdout",
     "output_type": "stream",
     "text": [
      "259\n",
      "195\n",
      "156\n"
     ]
    }
   ],
   "source": [
    "from nltk.corpus import stopwords\n",
    "from nltk.tokenize import word_tokenize\n",
    "import string\n",
    "\n",
    "text = \"Text mining, also referred to as text data mining, roughly equivalent to text analytics,\\\n",
    "refers to the process of deriving high-quality information from text. High-quality information is \\\n",
    "typically derived through the devising of patterns and trends through means such as statistical \\\n",
    "pattern learning. Text mining usually involves the process of structuring the input text \\\n",
    "(usually parsing, along with the addition of some derived linguistic features and the removal \\\n",
    "of others, and subsequent insertion into a database), deriving patterns within the structured data, \\\n",
    "and finally evaluation and interpretation of the output. 'High quality' in text mining usually \\\n",
    "refers to some combination of relevance, novelty, and interestingness. Typical text mining tasks \\\n",
    "include text categorization, text clustering, concept/entity extraction, production of granular \\\n",
    "taxonomies, sentiment analysis, document summarization, and entity relation modeling \\\n",
    "(i.e., learning relations between named entities).Text analysis involves information retrieval, \\\n",
    "lexical analysis to study word frequency distributions, pattern recognition, tagging/annotation, \\\n",
    "information extraction, data mining techniques including link and association analysis, \\\n",
    "visualization, and predictive analytics. The overarching goal is, essentially, to turn text \\\n",
    "into data for analysis, via application of natural language processing (NLP) and analytical \\\n",
    "methods.A typical application is to scan a set of documents written in a natural language and \\\n",
    "either model the document set for predictive classification purposes or populate a database \\\n",
    "or search index with the information extracted.\"\n",
    "\n",
    "## 删除停用词\n",
    "words=word_tokenize(text)\n",
    "stopword=stopwords.words(\"english\")\n",
    "print(len(words))\n",
    "new_words=[word for word in words if word not in stopword]\n",
    "print(len(new_words))\n",
    "\n",
    "## 删除标点符号\n",
    "new_words_2=[word for word in new_words if word not in string.punctuation]\n",
    "print(len(new_words_2))"
   ]
  },
  {
   "cell_type": "markdown",
   "metadata": {},
   "source": [
    "## 词提取\n",
    "文本标准哈是一个完全不同的难题，我们要研究如何将词转换成它们原本的形态，这样才能在处理过程中保持一整，我们从传统的解决方法开始，包括词提取和词形还原。\n",
    "\n",
    "python中用NLTK的stem方法来进行词提取，stem中包含了许多的函数来快速的进行词提取：\n",
    "- Porter——波特词提取器，是最常用的词提取器，它的算法在词转换回他们的词根形态时不是很激进\n",
    "- Lancaster——兰开斯特词提取器，是最激进的词提取器，使用前两种词提取器时，最终的词对于人类还是可读的，但是Lancaster则完全不可读，但是它的是三者中速度最快的\n",
    "- Snowball——雪球词提取器，是Porter的改良版，它的所需计算时间比Porter快不少"
   ]
  },
  {
   "cell_type": "code",
   "execution_count": 84,
   "metadata": {},
   "outputs": [
    {
     "data": {
      "text/plain": [
       "['movi',\n",
       " 'dog',\n",
       " 'plane',\n",
       " 'flower',\n",
       " 'fli',\n",
       " 'fri',\n",
       " 'fri',\n",
       " 'week',\n",
       " 'plant',\n",
       " 'run',\n",
       " 'throttl']"
      ]
     },
     "execution_count": 84,
     "metadata": {},
     "output_type": "execute_result"
    }
   ],
   "source": [
    "from nltk import stem\n",
    "input_words = ['movies','dogs','planes','flowers','flies','fries','fry','weeks',\n",
    "                   'planted','running','throttle']\n",
    "# Porter词提取\n",
    "porter=stem.PorterStemmer()\n",
    "[porter.stem(word) for word in input_words]"
   ]
  },
  {
   "cell_type": "code",
   "execution_count": 86,
   "metadata": {},
   "outputs": [
    {
     "data": {
      "text/plain": [
       "['movi',\n",
       " 'dog',\n",
       " 'plane',\n",
       " 'flower',\n",
       " 'fli',\n",
       " 'fri',\n",
       " 'fri',\n",
       " 'week',\n",
       " 'plant',\n",
       " 'run',\n",
       " 'throttl']"
      ]
     },
     "execution_count": 86,
     "metadata": {},
     "output_type": "execute_result"
    }
   ],
   "source": [
    "#Snowball词提取器\n",
    "snowball=stem.snowball.EnglishStemmer()\n",
    "[snowball.stem(word) for word in input_words]"
   ]
  },
  {
   "cell_type": "code",
   "execution_count": 88,
   "metadata": {},
   "outputs": [
    {
     "data": {
      "text/plain": [
       "['movy',\n",
       " 'dog',\n",
       " 'plan',\n",
       " 'flow',\n",
       " 'fli',\n",
       " 'fri',\n",
       " 'fry',\n",
       " 'week',\n",
       " 'plant',\n",
       " 'run',\n",
       " 'throttle']"
      ]
     },
     "execution_count": 88,
     "metadata": {},
     "output_type": "execute_result"
    }
   ],
   "source": [
    "#Landaster词提取器\n",
    "lancaster=stem.lancaster.LancasterStemmer()\n",
    "[lancaster.stem(word) for word in input_words]"
   ]
  },
  {
   "cell_type": "markdown",
   "metadata": {},
   "source": [
    "## 词还原\n",
    "词提取是一个启发式的过程，有时为了获得词根形态而努力探求消除词的后缀的方法。在一节中，我们发现在消减派生词缀时，有时它会将正确的词形进行删减。\n",
    "\n",
    "另一方面，词形还原使用了变形分析和词表来获得词的词元，它只对词形变化的结尾进行转换，并从字典中获得字的基本形态。在这里，我们使用NLTK的WordNetLemmatizer进行词还原"
   ]
  },
  {
   "cell_type": "code",
   "execution_count": 91,
   "metadata": {},
   "outputs": [
    {
     "data": {
      "text/plain": [
       "['movie',\n",
       " 'dog',\n",
       " 'plane',\n",
       " 'flower',\n",
       " 'fly',\n",
       " 'fry',\n",
       " 'fry',\n",
       " 'week',\n",
       " 'planted',\n",
       " 'running',\n",
       " 'throttle']"
      ]
     },
     "execution_count": 91,
     "metadata": {},
     "output_type": "execute_result"
    }
   ],
   "source": [
    "from nltk import stem\n",
    "input_words = ['movies','dogs','planes','flowers','flies','fries','fry','weeks',\n",
    "                   'planted','running','throttle']\n",
    "wordnet_lemm=stem.WordNetLemmatizer()\n",
    "[wordnet_lemm.lemmatize(word) for word in input_words]"
   ]
  },
  {
   "cell_type": "markdown",
   "metadata": {},
   "source": [
    "## 词袋模型表示文本\n",
    "为了使用机器学习来处理文本，我们必须将文本转换为数值特征的向量，本节使用词袋模型表示法，文本别转换成数值型的向量，列名是潜在的词，数值是以下之一：\n",
    "- 二进制数值，表示这个字在给定的文档中存在或不存在\n",
    "- 频率，表示这个词在文档中出现的总次数\n",
    "- TFIDF，文本评估函数值\n",
    "\n",
    "词袋模型是最常见的文本表示法，它有两个处理流程\n",
    "1. 对于训练集中的文档的每个词，我们给它分配一个整数，并保存为一个字典\n",
    "2. 对于每个文档，我们创建一个向量，向量的列是这个词本身，他们构成了特征项，这些项的数值是二进制数，评率或者TFIDF"
   ]
  },
  {
   "cell_type": "code",
   "execution_count": 2,
   "metadata": {},
   "outputs": [],
   "source": [
    "##加载库\n",
    "from nltk.tokenize import sent_tokenize\n",
    "from nltk.corpus import stopwords\n",
    "from sklearn.feature_extraction.text import CountVectorizer\n",
    "\n",
    "#加载文本\n",
    "text = \"Text mining, also referred to as text data mining, roughly equivalent to text analytics,\\\n",
    "refers to the process of deriving high-quality information from text. High-quality information is \\\n",
    "typically derived through the devising of patterns and trends through means such as statistical \\\n",
    "pattern learning. Text mining usually involves the process of structuring the input text \\\n",
    "(usually parsing, along with the addition of some derived linguistic features and the removal \\\n",
    "of others, and subsequent insertion into a database), deriving patterns within the structured data, \\\n",
    "and finally evaluation and interpretation of the output. 'High quality' in text mining usually \\\n",
    "refers to some combination of relevance, novelty, and interestingness. Typical text mining tasks \\\n",
    "include text categorization, text clustering, concept/entity extraction, production of granular \\\n",
    "taxonomies, sentiment analysis, document summarization, and entity relation modeling \\\n",
    "(i.e., learning relations between named entities).Text analysis involves information retrieval, \\\n",
    "lexical analysis to study word frequency distributions, pattern recognition, tagging/annotation, \\\n",
    "information extraction, data mining techniques including link and association analysis, \\\n",
    "visualization, and predictive analytics. The overarching goal is, essentially, to turn text \\\n",
    "into data for analysis, via application of natural language processing (NLP) and analytical \\\n",
    "methods.A typical application is to scan a set of documents written in a natural language and \\\n",
    "either model the document set for predictive classification purposes or populate a database \\\n",
    "or search index with the information extracted.\"\n",
    "\n",
    "#将给定的文本划分为句子\n",
    "sentence=sent_tokenize(text)\n",
    "\n",
    "#生成特征向量的代码\n",
    "count_v=CountVectorizer()\n",
    "tdm=count_v.fit_transform(sentence)\n",
    "\n",
    "#删除停用词\n",
    "stopwords=stopwords.words(\"english\")\n",
    "count_v_sw=CountVectorizer(stop_words=stopwords)\n",
    "sw_tdm=count_v_sw.fit_transform(sentence)\n",
    "\n",
    "## 使用ngrams方法\n",
    "count_v_ngram=CountVectorizer(stop_words=stopwords,ngram_range=(1,2))\n",
    "ngram_tdm=count_v_ngram.fit_transform(sentence)"
   ]
  },
  {
   "cell_type": "markdown",
   "metadata": {},
   "source": [
    "**使用CountVectorizer实例化之后的对象的vocabulary_方法可以获得文本的词典内容，后面的数字是与词关联的ID或特征值索引**"
   ]
  },
  {
   "cell_type": "code",
   "execution_count": 10,
   "metadata": {},
   "outputs": [
    {
     "data": {
      "text/plain": [
       "{'text': 107,\n",
       " 'mining': 60,\n",
       " 'also': 2,\n",
       " 'referred': 83,\n",
       " 'to': 110,\n",
       " 'as': 9,\n",
       " 'data': 17,\n",
       " 'roughly': 90,\n",
       " 'equivalent': 28,\n",
       " 'analytics': 5,\n",
       " 'refers': 84,\n",
       " 'the': 108,\n",
       " 'process': 77,\n",
       " 'of': 67,\n",
       " 'deriving': 20,\n",
       " 'high': 40,\n",
       " 'quality': 81,\n",
       " 'information': 45,\n",
       " 'from': 37,\n",
       " 'is': 52,\n",
       " 'typically': 114,\n",
       " 'derived': 19,\n",
       " 'through': 109,\n",
       " 'devising': 21,\n",
       " 'patterns': 74,\n",
       " 'and': 6,\n",
       " 'trends': 111,\n",
       " 'means': 58,\n",
       " 'such': 101,\n",
       " 'statistical': 96,\n",
       " 'pattern': 73,\n",
       " 'learning': 54,\n",
       " 'usually': 115,\n",
       " 'involves': 51,\n",
       " 'structuring': 98,\n",
       " 'input': 46,\n",
       " 'parsing': 72,\n",
       " 'along': 1,\n",
       " 'with': 118,\n",
       " 'addition': 0,\n",
       " 'some': 95,\n",
       " 'linguistic': 56,\n",
       " 'features': 33,\n",
       " 'removal': 88,\n",
       " 'others': 69,\n",
       " 'subsequent': 100,\n",
       " 'insertion': 47,\n",
       " 'into': 50,\n",
       " 'database': 18,\n",
       " 'within': 119,\n",
       " 'structured': 97,\n",
       " 'finally': 34,\n",
       " 'evaluation': 30,\n",
       " 'interpretation': 49,\n",
       " 'output': 70,\n",
       " 'in': 41,\n",
       " 'combination': 15,\n",
       " 'relevance': 87,\n",
       " 'novelty': 66,\n",
       " 'interestingness': 48,\n",
       " 'typical': 113,\n",
       " 'tasks': 104,\n",
       " 'include': 42,\n",
       " 'categorization': 12,\n",
       " 'clustering': 14,\n",
       " 'concept': 16,\n",
       " 'entity': 27,\n",
       " 'extraction': 32,\n",
       " 'production': 79,\n",
       " 'granular': 39,\n",
       " 'taxonomies': 105,\n",
       " 'sentiment': 93,\n",
       " 'analysis': 3,\n",
       " 'document': 23,\n",
       " 'summarization': 102,\n",
       " 'relation': 85,\n",
       " 'modeling': 62,\n",
       " 'relations': 86,\n",
       " 'between': 11,\n",
       " 'named': 63,\n",
       " 'entities': 26,\n",
       " 'retrieval': 89,\n",
       " 'lexical': 55,\n",
       " 'study': 99,\n",
       " 'word': 120,\n",
       " 'frequency': 36,\n",
       " 'distributions': 22,\n",
       " 'recognition': 82,\n",
       " 'tagging': 103,\n",
       " 'annotation': 7,\n",
       " 'techniques': 106,\n",
       " 'including': 43,\n",
       " 'link': 57,\n",
       " 'association': 10,\n",
       " 'visualization': 117,\n",
       " 'predictive': 76,\n",
       " 'overarching': 71,\n",
       " 'goal': 38,\n",
       " 'essentially': 29,\n",
       " 'turn': 112,\n",
       " 'for': 35,\n",
       " 'via': 116,\n",
       " 'application': 8,\n",
       " 'natural': 64,\n",
       " 'language': 53,\n",
       " 'processing': 78,\n",
       " 'nlp': 65,\n",
       " 'analytical': 4,\n",
       " 'methods': 59,\n",
       " 'scan': 91,\n",
       " 'set': 94,\n",
       " 'documents': 24,\n",
       " 'written': 121,\n",
       " 'either': 25,\n",
       " 'model': 61,\n",
       " 'classification': 13,\n",
       " 'purposes': 80,\n",
       " 'or': 68,\n",
       " 'populate': 75,\n",
       " 'search': 92,\n",
       " 'index': 44,\n",
       " 'extracted': 31}"
      ]
     },
     "execution_count": 10,
     "metadata": {},
     "output_type": "execute_result"
    }
   ],
   "source": [
    "count_v.vocabulary_"
   ]
  },
  {
   "cell_type": "markdown",
   "metadata": {},
   "source": [
    "**使用get_feature_names()可以获得所有的词的信息**"
   ]
  },
  {
   "cell_type": "code",
   "execution_count": 11,
   "metadata": {},
   "outputs": [
    {
     "data": {
      "text/plain": [
       "['addition',\n",
       " 'along',\n",
       " 'also',\n",
       " 'analysis',\n",
       " 'analytical',\n",
       " 'analytics',\n",
       " 'and',\n",
       " 'annotation',\n",
       " 'application',\n",
       " 'as',\n",
       " 'association',\n",
       " 'between',\n",
       " 'categorization',\n",
       " 'classification',\n",
       " 'clustering',\n",
       " 'combination',\n",
       " 'concept',\n",
       " 'data',\n",
       " 'database',\n",
       " 'derived',\n",
       " 'deriving',\n",
       " 'devising',\n",
       " 'distributions',\n",
       " 'document',\n",
       " 'documents',\n",
       " 'either',\n",
       " 'entities',\n",
       " 'entity',\n",
       " 'equivalent',\n",
       " 'essentially',\n",
       " 'evaluation',\n",
       " 'extracted',\n",
       " 'extraction',\n",
       " 'features',\n",
       " 'finally',\n",
       " 'for',\n",
       " 'frequency',\n",
       " 'from',\n",
       " 'goal',\n",
       " 'granular',\n",
       " 'high',\n",
       " 'in',\n",
       " 'include',\n",
       " 'including',\n",
       " 'index',\n",
       " 'information',\n",
       " 'input',\n",
       " 'insertion',\n",
       " 'interestingness',\n",
       " 'interpretation',\n",
       " 'into',\n",
       " 'involves',\n",
       " 'is',\n",
       " 'language',\n",
       " 'learning',\n",
       " 'lexical',\n",
       " 'linguistic',\n",
       " 'link',\n",
       " 'means',\n",
       " 'methods',\n",
       " 'mining',\n",
       " 'model',\n",
       " 'modeling',\n",
       " 'named',\n",
       " 'natural',\n",
       " 'nlp',\n",
       " 'novelty',\n",
       " 'of',\n",
       " 'or',\n",
       " 'others',\n",
       " 'output',\n",
       " 'overarching',\n",
       " 'parsing',\n",
       " 'pattern',\n",
       " 'patterns',\n",
       " 'populate',\n",
       " 'predictive',\n",
       " 'process',\n",
       " 'processing',\n",
       " 'production',\n",
       " 'purposes',\n",
       " 'quality',\n",
       " 'recognition',\n",
       " 'referred',\n",
       " 'refers',\n",
       " 'relation',\n",
       " 'relations',\n",
       " 'relevance',\n",
       " 'removal',\n",
       " 'retrieval',\n",
       " 'roughly',\n",
       " 'scan',\n",
       " 'search',\n",
       " 'sentiment',\n",
       " 'set',\n",
       " 'some',\n",
       " 'statistical',\n",
       " 'structured',\n",
       " 'structuring',\n",
       " 'study',\n",
       " 'subsequent',\n",
       " 'such',\n",
       " 'summarization',\n",
       " 'tagging',\n",
       " 'tasks',\n",
       " 'taxonomies',\n",
       " 'techniques',\n",
       " 'text',\n",
       " 'the',\n",
       " 'through',\n",
       " 'to',\n",
       " 'trends',\n",
       " 'turn',\n",
       " 'typical',\n",
       " 'typically',\n",
       " 'usually',\n",
       " 'via',\n",
       " 'visualization',\n",
       " 'with',\n",
       " 'within',\n",
       " 'word',\n",
       " 'written']"
      ]
     },
     "execution_count": 11,
     "metadata": {},
     "output_type": "execute_result"
    }
   ],
   "source": [
    "count_v.get_feature_names()"
   ]
  },
  {
   "cell_type": "markdown",
   "metadata": {},
   "source": [
    "## 计算词频和反文档频率\n",
    "出现次数可以作为很好的特征值，但也存在一些问题，假设我们有4篇不同长度的文档，在篇幅较长的文档中的词比在较短篇幅文档里的词可能获得更好的权重。因此，我们不能简单的直接采用出现次数，而是将它归一化，把一个词的出现次数除以这个文档中的所有词的总数，这样产生的度量值称为词频。词频也并非没有缺点：**一些词出现在大多数问的囊中，这些词在特征向量中占了较大的权重，但是他们的信息量不足，难以区别语料中的文档**，在引入新的度量值来避免上述问题之前，我们先来定义文档频率，和词频类似，为了体现文档在局部中的重要性，我们计算一个称为文档频率的评估值，方法是将文内出现过某个词的文档总数处理语料中的文档总数。**我们最终采用的度量值是由词频和文档频率的倒数组成的，也是就是所谓的TDIDF值**"
   ]
  },
  {
   "cell_type": "code",
   "execution_count": 12,
   "metadata": {},
   "outputs": [],
   "source": [
    "#加载库\n",
    "from nltk.tokenize import sent_tokenize\n",
    "from nltk.corpus import stopwords\n",
    "from sklearn.feature_extraction.text import TfidfTransformer,CountVectorizer\n",
    "\n",
    "#加载数据\n",
    "text = \"Text mining, also referred to as text data mining, roughly equivalent to text analytics,\\\n",
    "refers to the process of deriving high-quality information from text. High-quality information is \\\n",
    "typically derived through the devising of patterns and trends through means such as statistical \\\n",
    "pattern learning. Text mining usually involves the process of structuring the input text \\\n",
    "(usually parsing, along with the addition of some derived linguistic features and the removal \\\n",
    "of others, and subsequent insertion into a database), deriving patterns within the structured data, \\\n",
    "and finally evaluation and interpretation of the output. 'High quality' in text mining usually \\\n",
    "refers to some combination of relevance, novelty, and interestingness. Typical text mining tasks \\\n",
    "include text categorization, text clustering, concept/entity extraction, production of granular \\\n",
    "taxonomies, sentiment analysis, document summarization, and entity relation modeling \\\n",
    "(i.e., learning relations between named entities).Text analysis involves information retrieval, \\\n",
    "lexical analysis to study word frequency distributions, pattern recognition, tagging/annotation, \\\n",
    "information extraction, data mining techniques including link and association analysis, \\\n",
    "visualization, and predictive analytics. The overarching goal is, essentially, to turn text \\\n",
    "into data for analysis, via application of natural language processing (NLP) and analytical \\\n",
    "methods.A typical application is to scan a set of documents written in a natural language and \\\n",
    "either model the document set for predictive classification purposes or populate a database \\\n",
    "or search index with the information extracted.\"\n",
    "\n",
    "#抽取句子\n",
    "sentences=sent_tokenize(text)\n",
    "\n",
    "#创建一个矩阵保存词频和文档频率\n",
    "stopwords=stopwords.words(\"english\")\n",
    "\n",
    "count_v=CountVectorizer(stop_words=stopwords)\n",
    "tdm=count_v.fit_transform(sentences)\n",
    "\n",
    "#计算TFDIF值\n",
    "tfdif=TfidfTransformer()\n",
    "tdm_tfdif=tfdif.fit_transform(tdm)\n"
   ]
  },
  {
   "cell_type": "code",
   "execution_count": 14,
   "metadata": {},
   "outputs": [
    {
     "data": {
      "text/plain": [
       "array([0.54849062, 0.31756793, 0.26764689, 0.26764689, 0.15878397,\n",
       "       0.26764689, 0.26764689, 0.21947428, 0.21947428, 0.21947428,\n",
       "       0.21947428, 0.18529527, 0.18529527, 0.15878397, 0.23076769,\n",
       "       0.23076769, 0.19775038, 0.33332883, 0.27333441, 0.33332883,\n",
       "       0.27333441, 0.33332883, 0.33332883, 0.33332883, 0.27333441,\n",
       "       0.27333441, 0.20299896, 0.11753339, 0.11753339, 0.16245693,\n",
       "       0.16245693, 0.16245693, 0.16245693, 0.32491385, 0.16245693,\n",
       "       0.19811475, 0.19811475, 0.19811475, 0.19811475, 0.19811475,\n",
       "       0.19811475, 0.19811475, 0.19811475, 0.19811475, 0.19811475,\n",
       "       0.19811475, 0.16245693, 0.19811475, 0.19811475, 0.19811475,\n",
       "       0.19811475, 0.19811475, 0.19811475, 0.19478731, 0.22555792,\n",
       "       0.31177054, 0.26321811, 0.26321811, 0.31177054, 0.38020134,\n",
       "       0.38020134, 0.38020134, 0.38020134, 0.26493333, 0.15339247,\n",
       "       0.07669623, 0.10601102, 0.15339247, 0.10601102, 0.10601102,\n",
       "       0.10601102, 0.10601102, 0.12927948, 0.12927948, 0.12927948,\n",
       "       0.12927948, 0.12927948, 0.25855896, 0.25855896, 0.12927948,\n",
       "       0.12927948, 0.12927948, 0.12927948, 0.42404408, 0.10601102,\n",
       "       0.12927948, 0.12927948, 0.12927948, 0.12927948, 0.12927948,\n",
       "       0.12927948, 0.12927948, 0.12927948, 0.12927948, 0.12927948,\n",
       "       0.12927948, 0.12927948, 0.12927948, 0.12927948, 0.12927948,\n",
       "       0.12927948, 0.12927948, 0.12927948, 0.12927948, 0.12927948,\n",
       "       0.10601102, 0.08067536, 0.09341968, 0.09341968, 0.12912649,\n",
       "       0.12912649, 0.12912649, 0.12912649, 0.12912649, 0.15746858,\n",
       "       0.15746858, 0.15746858, 0.15746858, 0.15746858, 0.31493717,\n",
       "       0.31493717, 0.31493717, 0.15746858, 0.15746858, 0.15746858,\n",
       "       0.15746858, 0.15746858, 0.31493717, 0.15746858, 0.15746858,\n",
       "       0.15746858, 0.15746858, 0.15746858, 0.15746858, 0.15746858,\n",
       "       0.15746858, 0.15746858, 0.15746858])"
      ]
     },
     "execution_count": 14,
     "metadata": {},
     "output_type": "execute_result"
    }
   ],
   "source": [
    "tdm_tfdif.data"
   ]
  },
  {
   "cell_type": "code",
   "execution_count": 15,
   "metadata": {},
   "outputs": [
    {
     "data": {
      "text/plain": [
       "array([ 95,  52,   2,  73,  14,  80,  25,   5,  74,  67,  17,  35,  71,\n",
       "        39,  35,  71,  39,  99,  16,  18,  64,  96,  50,  85,  63,  46,\n",
       "        95,  52,  14,  67,  17,  16,  64, 100,  44,  87,  40,  62,   1,\n",
       "         0,  48,  30,  78,  59,  89,  41,  15, 103,  86,  31,  27,  43,\n",
       "        60,  95,  52,  74,  35,  71, 100,  12,  77,  58,  42,  95,  52,\n",
       "        14,   5,  39,  63,  46,  44,  98,  92,  36,   9,  11,  13,  24,\n",
       "        29,  69,  34,  93,  83,   3,  20,  90,  75,  54,  76,  55,  23,\n",
       "        79,  47,  88, 104,  32,  19,  72,  91,   6,  94,  37,  49,   8,\n",
       "       102,  66,  95,  14,  39,  15,  98,   3,  20,  66,  61,  33,  26,\n",
       "        97, 101,   7,  56,  45,  68,  57,   4,  51,  81,  84,  21, 105,\n",
       "        22,  53,  10,  70,  65,  82,  38,  28], dtype=int32)"
      ]
     },
     "execution_count": 15,
     "metadata": {},
     "output_type": "execute_result"
    }
   ],
   "source": [
    "tdm_tfdif.indices"
   ]
  },
  {
   "cell_type": "markdown",
   "metadata": {},
   "source": [
    "# 数据分析深入理解\n",
    "如果你当前的任务是探索数据或者给算法准备数据，超高的维度——常常被叫做维度灾难，是你的拦路虎。我们需要高效的方法来处理这些问题。降维技术在降低维度的时候要尽可能的保留数据的结构，这样在降维之后的的特征空间里，算法的运行时间将大幅度减少，仿佛我们在处理较低维度的数据，而数据的结构被保留下俩，获得的结果是原始数据空间的可靠性近似。**这里有两层含义：其一是不要篡改原始数据中的变量，其二是在新的投射空间中，保持数据向量间的距离**\n",
    "\n",
    "**矩阵分解**\n",
    "\n",
    "矩阵分解催生了多种降维技术，我们的数据一般都是矩阵，行是实例，列是特征。矩阵分解也是矩阵的一种表达式，假定A是另外两个矩阵B和C的乘积，矩阵B中包含了可以解释数据变化的向量，矩阵C包含了变化的量级，这样原来的A就可以表示为B和C的线性组合\n",
    "\n",
    "## 抽取主成分\n",
    "主成分分析（PCA）是一种无监督方法，对于多变量问题，PCA在降维的时候只有很小的信息损失。\n",
    "\n",
    "### 抽取主成分步骤\n",
    "在这里，我们用iris数据集来展示如何使用PCA进行降维。主要通过以下步骤完成目标：\n",
    "1. 将数据集标准化为均值为0\n",
    "2. 找出数据集的相关矩阵和单位标准偏差值\n",
    "3. 将相关矩阵分解成它的特征向量和值\n",
    "4. 基于降序的特征值选择Top-N特征向量\n",
    "5. 投射输入的特征向量矩阵到一个新的子空间"
   ]
  },
  {
   "cell_type": "code",
   "execution_count": 23,
   "metadata": {},
   "outputs": [
    {
     "name": "stdout",
     "output_type": "stream",
     "text": [
      "Eig_Value is  [2.91081808+0.j 0.92122093+0.j 0.14735328+0.j 0.02060771+0.j]\n",
      "Eigen vectors are:\n",
      " [[ 0.52237162 -0.37231836 -0.72101681  0.26199559]\n",
      " [-0.26335492 -0.92555649  0.24203288 -0.12413481]\n",
      " [ 0.58125401 -0.02109478  0.14089226 -0.80115427]\n",
      " [ 0.56561105 -0.06541577  0.6338014   0.52354627]]\n"
     ]
    },
    {
     "data": {
      "text/plain": [
       "<matplotlib.collections.PathCollection at 0x16d87e12cc0>"
      ]
     },
     "execution_count": 23,
     "metadata": {},
     "output_type": "execute_result"
    },
    {
     "data": {
      "image/png": "[encoded data removed]",
      "text/plain": [
       "<Figure size 432x288 with 1 Axes>"
      ]
     },
     "metadata": {},
     "output_type": "display_data"
    }
   ],
   "source": [
    "# 加载库\n",
    "from sklearn.preprocessing import scale\n",
    "from sklearn.datasets import load_iris\n",
    "import numpy as np\n",
    "import matplotlib.pyplot as plt \n",
    "import scipy \n",
    "\n",
    "## 加载数据\n",
    "data=load_iris()\n",
    "x=data['data']\n",
    "y=data['target']\n",
    "\n",
    "#数据标准化,经验告诉我们，如果数据中所有的列尺度都一致，度量单位都相同，就没有必要进行缩放\n",
    "x_d=scale(x,with_mean=True,with_std=True,axis=0)\n",
    "\n",
    "#计算相关矩阵\n",
    "x_c=np.corrcoef(x_d.T)\n",
    "\n",
    "#从相关矩阵中找到特征值和特征向量\n",
    "eig_val,r_eig_vec=scipy.linalg.eig(x_c)\n",
    "print(\"Eig_Value is \",eig_val)\n",
    "print(\"Eigen vectors are:\\n\",r_eig_vec)\n",
    "\n",
    "#选择最前两个特征向量\n",
    "w=r_eig_vec[:,0:2]\n",
    "\n",
    "# 用合适的特征向量将原来的4维的数据集降为二维\n",
    "x_rd=x_d.dot(w)#dot表示矩阵乘法，表示将原来的标准化矩阵*选择的特征向量\n",
    "\n",
    "#画出新的二维散点图\n",
    "plt.scatter(x_rd[:,0],x_rd[:,1],c=y)"
   ]
  },
  {
   "cell_type": "markdown",
   "metadata": {},
   "source": [
    "### 主成分选择标准\n",
    "1. 特征值标准：特征值为1，这意味着这个成分可以解释一个变量的变化价值。依照这个标准，一个成分硬广告至少解释一个变量的变化价值。我们必须采用值大于或等于1的特征值，你也可以根据数据集来设置这个阈值。在一个维度非常高的数据集中，如果一个成分只能够解释一个变量，那是远远不够的\n",
    "2. 变化的比例评判标准。下面代码的运行结果表示了每个特征值和特征向量所能够解释的信息的百分比"
   ]
  },
  {
   "cell_type": "code",
   "execution_count": 26,
   "metadata": {},
   "outputs": [
    {
     "name": "stdout",
     "output_type": "stream",
     "text": [
      "Component, Eigen Value, % of Variance, Cummulative %\n",
      "1, 2.91, 72.80, 72.80\n",
      "2, 0.92, 23.00, 95.80\n",
      "3, 0.15, 3.70, 99.50\n",
      "4, 0.02, 0.50, 100.00\n"
     ]
    },
    {
     "name": "stderr",
     "output_type": "stream",
     "text": [
      "C:\\Users\\Administrator\\Anaconda3\\lib\\site-packages\\ipykernel_launcher.py:7: ComplexWarning: Casting complex values to real discards the imaginary part\n",
      "  import sys\n"
     ]
    }
   ],
   "source": [
    "print( \"Component, Eigen Value, % of Variance, Cummulative %\")\n",
    "cum_per = 0\n",
    "per_var = 0\n",
    "for i,e_val in enumerate(eig_val):\n",
    "    per_var = round((e_val / len(eig_val)),3)\n",
    "    cum_per+=per_var\n",
    "    print(('%d, %0.2f, %0.2f, %0.2f')%(i+1, e_val, per_var*100,cum_per*100))"
   ]
  },
  {
   "cell_type": "markdown",
   "metadata": {},
   "source": [
    "### PCA的缺陷\n",
    "1. PCA的一个缺点是运算代价高昂。还有一点就是关于numpy里的corrcoef函数，这个函数在它的计算过程中里的内置进行数据标准化过程。\n",
    "2. PCA的另一个缺陷就是假定数据所有变化的主要方向都是直线，这对于大部分真实场景的数据集来说都是无法满足的\n",
    "\n",
    "**PCA在什么时候有效？**\n",
    "\n",
    "要求输入的数据集必须要有相关联的列，这样才能有效使用PCA，若是输入的变量间没有相关性，PCA起不到任何作用\n",
    "\n",
    "## 核PCA\n",
    "这一节所讨论的核PCA能够**帮助我们解决那些变化不是线性的数据集降维**。在核PCA过程里，所有的数据点都会被核函数所应用，这将把所有的数据转换到核空间上，然后在这个核空间上应用普通的PCA过程"
   ]
  },
  {
   "cell_type": "code",
   "execution_count": 27,
   "metadata": {},
   "outputs": [
    {
     "data": {
      "text/plain": [
       "Text(0,0.5,'$x_2$')"
      ]
     },
     "execution_count": 27,
     "metadata": {},
     "output_type": "execute_result"
    },
    {
     "data": {
      "image/png": "[encoded data removed]",
      "text/plain": [
       "<Figure size 432x288 with 1 Axes>"
      ]
     },
     "metadata": {},
     "output_type": "display_data"
    }
   ],
   "source": [
    "#加载库\n",
    "from sklearn.datasets import make_circles\n",
    "import matplotlib.pyplot as plt\n",
    "import numpy as np\n",
    "from sklearn.decomposition import PCA,KernelPCA\n",
    "\n",
    "#创建变化非线性的数据集\n",
    "np.random.seed(0)\n",
    "x,y=make_circles(n_samples=400,factor=0.2,noise=0.02)\n",
    "\n",
    "# 为生成的数据集绘制图形\n",
    "plt.title(\"origin space\")\n",
    "plt.scatter(x[:,0],x[:,1],c=y)\n",
    "plt.xlabel(\"$x_1$\")\n",
    "plt.ylabel(\"$x_2$\")"
   ]
  },
  {
   "cell_type": "code",
   "execution_count": 28,
   "metadata": {},
   "outputs": [
    {
     "data": {
      "text/plain": [
       "<matplotlib.collections.PathCollection at 0x16d88527be0>"
      ]
     },
     "execution_count": 28,
     "metadata": {},
     "output_type": "execute_result"
    },
    {
     "data": {
      "image/png": "[encoded data removed]",
      "text/plain": [
       "<Figure size 432x288 with 1 Axes>"
      ]
     },
     "metadata": {},
     "output_type": "display_data"
    }
   ],
   "source": [
    "#尝试使用普通的PCA处理这个数据集\n",
    "pca=PCA(n_components=2)\n",
    "pca.fit(x)\n",
    "x_pca=pca.transform(x)\n",
    "\n",
    "#绘制出图形\n",
    "plt.scatter(x_pca[:,0],x_pca[:,1],c=y)"
   ]
  },
  {
   "cell_type": "code",
   "execution_count": 30,
   "metadata": {},
   "outputs": [
    {
     "data": {
      "text/plain": [
       "<matplotlib.collections.PathCollection at 0x16d88508748>"
      ]
     },
     "execution_count": 30,
     "metadata": {},
     "output_type": "execute_result"
    },
    {
     "data": {
      "image/png": "[encoded data removed]",
      "text/plain": [
       "<Figure size 432x288 with 1 Axes>"
      ]
     },
     "metadata": {},
     "output_type": "display_data"
    }
   ],
   "source": [
    "# 应用普通PCA，绘制出一个主成分\n",
    "class1_index=np.where(y==0)[0]\n",
    "class2_index=np.where(y==1)[0]\n",
    "\n",
    "plt.scatter(x_pca[class1_index,0],np.zeros(len(class1_index)),color='r')\n",
    "plt.scatter(x_pca[class2_index,0],np.zeros(len(class2_index)),color='g')"
   ]
  },
  {
   "cell_type": "markdown",
   "metadata": {},
   "source": [
    "kernel的选项: \"linear\" | \"poly\" | \"rbf\" | \"sigmoid\" | \"cosine\" | \"precomputed\"\n",
    "    Kernel. Default=\"linear\".\n",
    "\n",
    "gamma的含义: float, default=1/n_features\n",
    "    Kernel coefficient for rbf, poly and sigmoid kernels. Ignored by other\n",
    "    kernels."
   ]
  },
  {
   "cell_type": "code",
   "execution_count": 32,
   "metadata": {},
   "outputs": [
    {
     "data": {
      "text/plain": [
       "Text(0,0.5,'$x_2$')"
      ]
     },
     "execution_count": 32,
     "metadata": {},
     "output_type": "execute_result"
    },
    {
     "data": {
      "image/png": "[encoded data removed]",
      "text/plain": [
       "<Figure size 432x288 with 1 Axes>"
      ]
     },
     "metadata": {},
     "output_type": "display_data"
    }
   ],
   "source": [
    "#使用核PCA\n",
    "kpca=KernelPCA(kernel='rbf',gamma=10)\n",
    "kpca.fit(x)\n",
    "x_kpca=kpca.transform(x)\n",
    "\n",
    "plt.scatter(x_kpca[:,0],x_kpca[:,1],c=y)\n",
    "plt.xlabel(\"$x_1$\")\n",
    "plt.ylabel(\"$x_2$\")"
   ]
  },
  {
   "cell_type": "markdown",
   "metadata": {},
   "source": [
    "## 使用奇异值分解抽取矩阵\n",
    "奇异值分解(SVD)是另一种矩阵分解技术，他可以解决维度问题带来的麻烦，可以用较低的维数找到原始数据的最佳近似，和PCA不同，SVD直接作用于原始数据矩阵。\n",
    "\n",
    "SVD把一个m*n的矩阵分解成三个矩阵的乘积：$$A=U*S*V^T$$\n",
    "\n",
    "这里的U是一个m\\*k的矩阵，V是n\\*k矩阵，S是k\\*k的矩阵，U的列被称为左奇异值向量，V的列则被称为右奇异值向量。矩阵S的对角线值被称为奇异值\n",
    "\n",
    "S矩阵的对角元素是从大到小排列的。这些对角元素成为奇异值（Singular Value），他们对应了原始数据集矩阵Data的奇异值。奇异值和特征值是有关系的，这里的奇异值就是矩阵Data*（Data的转置）特征值的平方根。\n",
    "\n",
    "因为矩阵的对角元素是从大到小排列的，在科学和工程中，一直存在这样一个普遍事实：在某个奇异值的数目（r个）之后，其他的奇异值都置为0。这就意味着数据集中仅有r个重要特征，而其余特征则都是噪声或者冗余特征\n",
    "\n",
    "**因此在使用SVD之后，查看S矩阵，选择最大的几个进行降维即可**"
   ]
  },
  {
   "cell_type": "code",
   "execution_count": 37,
   "metadata": {},
   "outputs": [
    {
     "data": {
      "text/plain": [
       "<matplotlib.collections.PathCollection at 0x16d897486d8>"
      ]
     },
     "execution_count": 37,
     "metadata": {},
     "output_type": "execute_result"
    },
    {
     "data": {
      "image/png": "[encoded data removed]",
      "text/plain": [
       "<Figure size 432x288 with 1 Axes>"
      ]
     },
     "metadata": {},
     "output_type": "display_data"
    }
   ],
   "source": [
    "#加载库\n",
    "from sklearn.datasets import load_iris\n",
    "import matplotlib.pyplot as plt \n",
    "import numpy as np\n",
    "from sklearn.preprocessing import scale\n",
    "from scipy.linalg import svd\n",
    "\n",
    "#加载数据集\n",
    "data=load_iris()\n",
    "x=data['data']\n",
    "y=data['target']\n",
    "\n",
    "#接着根据他的平均值进行数据缩放\n",
    "x_d=scale(x,with_mean=True,with_std=True,axis=0)\n",
    "\n",
    "# 用SVD技术分解矩阵\n",
    "U,S,V=svd(x_d,full_matrices=False)\n",
    "\n",
    "#选择最前的两个奇异值来近似原始的矩阵\n",
    "x_t=U[:,:2]\n",
    "\n",
    "#最后用降维的成分来绘制出数据集的图形\n",
    "plt.scatter(x_t[:,0],x[:,1],c=y)"
   ]
  },
  {
   "cell_type": "markdown",
   "metadata": {},
   "source": [
    "SVD是一种双模因子分析，古城是从一个具有两类试题的任意矩阵开始的，这和之前的PCA采用一个相关矩阵作为输入是不一样的，PCA是一种单模因子分析方法，因为它的输入方阵里的行和列是相同的实体。\n",
    "\n",
    "**在文本挖掘中，输入一般被表示称为词-文档矩阵（TDM）**,在TDM中，行对应词，而列对应于文档，单元格实体填充的是词频或者TFIDF分数，因此这个是一个两类实体的矩形阵：词和文档分别由行和列代表\n",
    "\n",
    "**SVD常常被用在文本挖掘应用中，用来发现词和文档，文档与文档以及词与词之间隐藏的关联**\n",
    "\n",
    "将SVD应用于一个词-文档矩阵中，我们可以将它转为一个新的语义空间，在此空间中，一些未在同一文档中共现的词之间的距离可以十分接近。SVD的目标是找到一条有效的路径，来给词和文档的关联关系建模。应用SVD之后，每个文档和词都可以用因子值构成的向量来表示。我们可以将值很低的成分忽略掉，从而避免数据集中的噪音干扰。\n",
    "\n",
    "**这种方法的一个分支对于文档查找或检索建立索引具有良好的适应性，它不再为原始的词建立反向索引，而是为输出的LSA（潜在语义分析）建立索引。这样就避免了同义词和一词多义的困扰。**\n",
    "\n",
    "## 用随机映射给数据降维\n",
    "随机映射是一种高效的降维方法，速度比前面两种都快。随机映射是Johnson-Linden Strauss定理的推论。根据这个定理，从高维到低维的欧几里得空间是存在的，这样点到点的距离被保持在一个$\\varepsilon$方差内，因此，**随机映射的目的就是保持数据中的任意两点之间的距离，同时降低数据的维度**\n",
    "\n",
    "假定在任意欧几里得空间里给定一个n维的数据，根据定理，我们可以将它映射称为一个K维的欧几里得空间，这样所有点之间的距离被保持在$(1-\\varepsilon)$和$(1+\\varepsilon)$的乘法因子之间"
   ]
  },
  {
   "cell_type": "code",
   "execution_count": 50,
   "metadata": {
    "scrolled": false
   },
   "outputs": [
    {
     "name": "stdout",
     "output_type": "stream",
     "text": [
      "(595, 16115) (595, 1000)\n"
     ]
    },
    {
     "data": {
      "text/plain": [
       "<matplotlib.colorbar.Colorbar at 0x16da9e6cac8>"
      ]
     },
     "execution_count": 50,
     "metadata": {},
     "output_type": "execute_result"
    },
    {
     "data": {
      "image/png": "[encoded data removed]",
      "text/plain": [
       "<Figure size 432x288 with 2 Axes>"
      ]
     },
     "metadata": {},
     "output_type": "display_data"
    }
   ],
   "source": [
    "#加载库\n",
    "from sklearn.datasets import fetch_20newsgroups\n",
    "from sklearn.feature_extraction.text import TfidfVectorizer\n",
    "from sklearn.metrics import euclidean_distances\n",
    "from sklearn.random_projection import GaussianRandomProjection\n",
    "import matplotlib.pyplot as plt \n",
    "import numpy as np\n",
    "\n",
    "#加载数据集\n",
    "data=fetch_20newsgroups(categories=['sci.crypt'])\n",
    "\n",
    "#创建词文档矩阵，词频作为值\n",
    "vec=TfidfVectorizer(use_idf=False)\n",
    "vec_f=vec.fit_transform(data['data'])\n",
    "\n",
    "##执行映射，将维度降到1000\n",
    "gasuss_project=GaussianRandomProjection(n_components=1000)\n",
    "gasuss_project.fit(vec_f)\n",
    "\n",
    "#将原始数据转换到新的空间\n",
    "vec_new=gasuss_project.transform(vec_f)\n",
    "\n",
    "#打印出转换后的向量形状\n",
    "print(vec_f.shape,vec_new.shape)\n",
    "\n",
    "#为了验证转换过程中是否保持了距离，我们计算新旧两点间的距离\n",
    "org_dist=euclidean_distances(vec_f)\n",
    "red_dist=euclidean_distances(vec_new)\n",
    "\n",
    "diff_dist=abs(org_dist-red_dist)\n",
    "\n",
    "#绘图\n",
    "plt.pcolor(diff_dist[0:100,0:100])\n",
    "plt.colorbar()"
   ]
  },
  {
   "cell_type": "markdown",
   "metadata": {},
   "source": [
    "## 使用NMF分解特征矩阵\n",
    "前面主要介绍了一些为数据降维而采用的矩阵分解技术，而NMF是从协同过滤的角度出发的，虽然降维是我们的追求，不过采用协同过滤算法的非负矩阵分解常常被用在推荐系统中。\n",
    "\n",
    "假定我们的输入矩阵A是m\\*n维度的，NMF将它分解称为两个矩阵$A_dash$和H，$$A=A_dash*H$$\n",
    "\n",
    "假定我们要将矩阵A的维度降为d，也就是将m\\*n矩阵分解为m\\*d，其中d远远小于n。\n",
    "\n",
    "矩阵$A_dash$是m\\*d的，矩阵H是d\\*m，NMF把它转换为一个优化问题，即最小化以下函数：$$|A-A_{dash}*H|^2$$"
   ]
  },
  {
   "cell_type": "code",
   "execution_count": 53,
   "metadata": {},
   "outputs": [
    {
     "name": "stdout",
     "output_type": "stream",
     "text": [
      "User_id=1,comp1_score=2.13,comp2_score=0.00\n",
      "User_id=2,comp1_score=1.91,comp2_score=0.00\n",
      "User_id=3,comp1_score=0.76,comp2_score=2.05\n",
      "User_id=4,comp1_score=1.94,comp2_score=0.44\n",
      "User_id=5,comp1_score=0.29,comp2_score=2.35\n",
      "User_id=6,comp1_score=1.39,comp2_score=1.30\n",
      "User_id=7,comp1_score=0.99,comp2_score=2.02\n",
      "User_id=8,comp1_score=2.01,comp2_score=0.41\n",
      "User_id=9,comp1_score=0.80,comp2_score=1.78\n",
      "User_id=10,comp1_score=1.74,comp2_score=0.58\n"
     ]
    },
    {
     "data": {
      "text/plain": [
       "<matplotlib.collections.PathCollection at 0x16db26b39b0>"
      ]
     },
     "execution_count": 53,
     "metadata": {},
     "output_type": "execute_result"
    },
    {
     "data": {
      "image/png": "[encoded data removed]",
      "text/plain": [
       "<Figure size 432x288 with 1 Axes>"
      ]
     },
     "metadata": {},
     "output_type": "display_data"
    }
   ],
   "source": [
    "# 加载库\n",
    "import numpy as np\n",
    "from collections import defaultdict\n",
    "from sklearn.decomposition import NMF\n",
    "import matplotlib.pyplot as plt\n",
    "\n",
    "# 加载评分矩阵\n",
    "ratings = [\n",
    "[5.0,\t5.0,\t4.5,\t4.5,\t5.0,\t3.0,\t2.0,\t2.0,\t0.0,\t0.0],\n",
    "[4.2,\t4.7,\t5.0,\t3.7,\t3.5,\t0.0,\t2.7,\t2.0,\t1.9,\t0.0],\n",
    "[2.5,\t0.0,\t3.3,\t3.4,\t2.2,\t4.6,\t4.0,\t4.7,\t4.2,\t3.6],\n",
    "[3.8,\t4.1,\t4.6,\t4.5,\t4.7,\t2.2,\t3.5,\t3.0,\t2.2,\t0.0],\n",
    "[2.1,\t2.6,\t0.0,\t2.1,\t0.0,\t3.8,\t4.8,\t4.1,\t4.3,\t4.7],\n",
    "[4.7,\t4.5,\t0.0,\t4.4,\t4.1,\t3.5,\t3.1,\t3.4,\t3.1,\t2.5],\n",
    "[2.8,\t2.4,\t2.1,\t3.3,\t3.4,\t3.8,\t4.4,\t4.9,\t4.0,\t4.3],\n",
    "[4.5,\t4.7,\t4.7,\t4.5,\t4.9,\t0.0,\t2.9,\t2.9,\t2.5,\t2.1],\n",
    "[0.0,\t3.3,\t2.9,\t3.6,\t3.1,\t4.0,\t4.2,\t0.0,\t4.5,\t4.6],\n",
    "[4.1,\t3.6,\t3.7,\t4.6,\t4.0,\t2.6,\t1.9,\t3.0,\t3.6,\t0.0]\n",
    "]\n",
    "\n",
    "movie_dict = {\n",
    "1:\"Star Wars\",\n",
    "2:\"Matrix\",\n",
    "3:\"Inception\",\n",
    "4:\"Harry Potter\",\n",
    "5:\"The hobbit\",\n",
    "6:\"Guns of Navarone\",\n",
    "7:\"Saving Private Ryan\",\n",
    "8:\"Enemy at the gates\",\n",
    "9:\"Where eagles dare\",\n",
    "10:\"Great Escape\"\n",
    "}\n",
    "\n",
    "A=np.asmatrix(ratings,dtype=float)\n",
    "\n",
    "## 对矩阵进行NMF转换\n",
    "nmf=NMF(n_components=2,random_state=1)\n",
    "A_dash=nmf.fit_transform(A)\n",
    "\n",
    "#检查降维的矩阵\n",
    "for i in range(A_dash.shape[0]):\n",
    "    print(\"User_id=%d,comp1_score=%0.2f,comp2_score=%0.2f\" %(i+1,A_dash[i][0],A_dash[i][1]))\n",
    "    \n",
    "# 绘图\n",
    "plt.scatter(A_dash[:,0],A_dash[:,1])"
   ]
  },
  {
   "cell_type": "code",
   "execution_count": 56,
   "metadata": {},
   "outputs": [
    {
     "data": {
      "image/png": "[encoded data removed]",
      "text/plain": [
       "<Figure size 432x288 with 1 Axes>"
      ]
     },
     "metadata": {},
     "output_type": "display_data"
    }
   ],
   "source": [
    "# 检查成分矩阵F\n",
    "F=nmf.components_\n",
    "plt.scatter(F[0,:],F[1,:])\n",
    "for i in range(F[0,:].shape[0]):\n",
    "    plt.annotate(movie_dict[i+1],(F[0,:][i],F[1,:][i]))"
   ]
  },
  {
   "cell_type": "markdown",
   "metadata": {},
   "source": [
    "# 数据挖掘\n",
    "## 使用距离度量\n",
    "在数学层面上，一系列的点定义了一个空间，一个空间的里的距离度量被定义为函数d(x,y），它把空间里的x和y两个点作为参数，返回一个实数作为输出。这个距离函数作为输出的实数，需要满足以下几点规则：\n",
    "1. 距离函数的输出必须是非负的，d(x,y)>=0\n",
    "2. 仅当x=y时，函数的输出为0\n",
    "3. 距离是对称的，即d(x,y)=d(y,x)\n",
    "4. 距离应当遵循三角不等式，即d(x,y)<=d(x,z)+d(z,y)\n",
    "\n",
    "### 欧式距离-euclidean_distance\n",
    "欧式距离的常见公式为$$d([x_1,x_2...,x_n][y_1,y_2...,y_n])=\\sqrt{\\sum_{i=1}^{n}{x_i-y_i}^2}$$"
   ]
  },
  {
   "cell_type": "code",
   "execution_count": 6,
   "metadata": {},
   "outputs": [],
   "source": [
    "import numpy as np\n",
    "def euclidean_distance(x,y):\n",
    "    if len(x)==len(y):\n",
    "        return np.sqrt(np.sum(np.power(x-y,2)))\n",
    "    else:\n",
    "        print(\"请保证x,y长度相等\")\n",
    "        return None"
   ]
  },
  {
   "cell_type": "code",
   "execution_count": 3,
   "metadata": {},
   "outputs": [
    {
     "data": {
      "text/plain": [
       "1.4142135623730951"
      ]
     },
     "execution_count": 3,
     "metadata": {},
     "output_type": "execute_result"
    }
   ],
   "source": [
    "x=np.array([1,2,4])\n",
    "y=np.array([1,3,5])\n",
    "euclidean_distance(x,y)"
   ]
  },
  {
   "cell_type": "markdown",
   "metadata": {},
   "source": [
    "### Lr-Norm距离度量\n",
    "$$d([x_1,x_2...,x_n][y_1,y_2...,y_n)=(\\sum_{i=1}^{n}{|x_i-y_i|^r})^{1/r}$$"
   ]
  },
  {
   "cell_type": "code",
   "execution_count": 5,
   "metadata": {},
   "outputs": [],
   "source": [
    "import numpy as np\n",
    "def Lr_norm_distance(x,y,power):\n",
    "    if len(x)==len(y):\n",
    "        return np.power(np.sum(np.power(x-y,power)),1/(1.0*power))\n",
    "    else:\n",
    "        print(\"请保证x,y长度相等\")\n",
    "        return None"
   ]
  },
  {
   "cell_type": "code",
   "execution_count": 15,
   "metadata": {},
   "outputs": [
    {
     "data": {
      "text/plain": [
       "1.0905077326652577"
      ]
     },
     "execution_count": 15,
     "metadata": {},
     "output_type": "execute_result"
    }
   ],
   "source": [
    "x=np.array([1,2,4])\n",
    "y=np.array([1,3,5])\n",
    "Lr_norm_distance(x,y,8)"
   ]
  },
  {
   "cell_type": "markdown",
   "metadata": {},
   "source": [
    "### 余弦距离-cosine_distance\n",
    "余弦距离返回两个向量之间夹角的余弦值。输入向量间角度的余弦值是两个向量点积与向量欧式距离乘积的比值\n"
   ]
  },
  {
   "cell_type": "code",
   "execution_count": 19,
   "metadata": {},
   "outputs": [],
   "source": [
    "def cosine_distance(x,y):\n",
    "    if len(x)==len(y):\n",
    "        return np.dot(x,y)/(np.sqrt(np.sum(np.power(x,2)))*np.sqrt(np.sum(np.power(y,2))))\n",
    "    else :\n",
    "        print(\"请确保x,y长度相等\")"
   ]
  },
  {
   "cell_type": "code",
   "execution_count": 20,
   "metadata": {},
   "outputs": [
    {
     "data": {
      "text/plain": [
       "0.9959100033104787"
      ]
     },
     "execution_count": 20,
     "metadata": {},
     "output_type": "execute_result"
    }
   ],
   "source": [
    "cosine_distance(x,y)"
   ]
  },
  {
   "cell_type": "markdown",
   "metadata": {},
   "source": [
    "### Jaccard距离\n",
    "之前涉及的是实数构成的向量，现在我们换成集合。**给定输入向量的集合，它们交集和并集大小的比值通常被称为Jaccard系数。1减去这个系数，得到的就是Jaccard距离**$$Jaccard\\_distance=1-\\frac{len(intersection(x,y)}{len(Union(x,y))}$$"
   ]
  },
  {
   "cell_type": "code",
   "execution_count": 21,
   "metadata": {},
   "outputs": [],
   "source": [
    "def jaccard_distance(x,y):\n",
    "    x=set(x)\n",
    "    y=set(y)\n",
    "    return 1-(len(x.intersection(y))/len(x.union(y)))"
   ]
  },
  {
   "cell_type": "code",
   "execution_count": 22,
   "metadata": {},
   "outputs": [
    {
     "data": {
      "text/plain": [
       "0.8"
      ]
     },
     "execution_count": 22,
     "metadata": {},
     "output_type": "execute_result"
    }
   ],
   "source": [
    "jaccard_distance(x,y)"
   ]
  },
  {
   "cell_type": "markdown",
   "metadata": {},
   "source": [
    "### Hamming距离\n",
    "Hamming距离是两个向量间不同的位的数量"
   ]
  },
  {
   "cell_type": "code",
   "execution_count": 23,
   "metadata": {},
   "outputs": [],
   "source": [
    "def hamming_distance(x,y):\n",
    "    diff=0\n",
    "    for char1,char2 in zip(x,y):\n",
    "        if char1 == char2:\n",
    "            diff+=1\n",
    "    return diff"
   ]
  },
  {
   "cell_type": "code",
   "execution_count": 24,
   "metadata": {},
   "outputs": [
    {
     "data": {
      "text/plain": [
       "1"
      ]
     },
     "execution_count": 24,
     "metadata": {},
     "output_type": "execute_result"
    }
   ],
   "source": [
    "hamming_distance(x,y)"
   ]
  },
  {
   "cell_type": "markdown",
   "metadata": {},
   "source": [
    "## 核方法\n",
    "一般而言，线性模型可以用一条直线或者一个超平面将数据分割开，是比较容易解释和理解的。数据若是非线性的话，就无法使用线性模型，但是数据能被转换成线性相关性的空间，则可以使用线性模型。然后满足上述条件需要进行高昂代价的数学运算，幸亏核函数给了我们一条便捷之道。\n",
    "\n",
    "核函数是一种相似度函数，他需要两个输入参数，这两个输入之间的相似度即核函数的输出结果。**核函数K的正式定义是一个相似度函数，k(x1,x2)表示x1与x2之间的相似度**\n",
    "\n",
    "核函数类型很多，取决于数据特征和算法的需要，我们需要做的就是选择合适的核"
   ]
  },
  {
   "cell_type": "code",
   "execution_count": 27,
   "metadata": {},
   "outputs": [
    {
     "name": "stdout",
     "output_type": "stream",
     "text": [
      "[ 1  4 25  2  5  2 10 10  5]\n",
      "784\n",
      "784\n"
     ]
    }
   ],
   "source": [
    "import numpy as np\n",
    "x=np.array([1,2,5])\n",
    "y=np.array([2,3,4])\n",
    "\n",
    "#定义映射函数\n",
    "def mapping_function(x):\n",
    "    output_list  =[]\n",
    "    for i in range(len(x)):\n",
    "        output_list.append(x[i]*x[i])\n",
    "    \n",
    "    output_list.append(x[0]*x[1])\n",
    "    output_list.append(x[0]*x[2])\n",
    "    output_list.append(x[1]*x[0])\n",
    "    output_list.append(x[1]*x[2])\n",
    "    output_list.append(x[2]*x[1])\n",
    "    output_list.append(x[2]*x[0])\n",
    "    return np.array(output_list)\n",
    "# Apply the mapping function\n",
    "tranf_x = mapping_function(x)\n",
    "tranf_y = mapping_function(y)\n",
    "# Print the output\n",
    "print(tranf_x)\n",
    "print (np.dot(tranf_x,tranf_y))\n",
    "\n",
    "# Print the equivalent kernel functions\n",
    "# transformation output.\n",
    "output = np.power((np.dot(x,y)),2)\n",
    "print(output)"
   ]
  },
  {
   "cell_type": "markdown",
   "metadata": {},
   "source": [
    "## 使用k-means进行数据聚类\n",
    "k-means算法，是一种搜寻中心的无监督算法，是一个种迭代的不确定方法。k-means需要指定簇的数量k来作为算法的输入参数，至于如何选择k的值，目前没有什么好的方法，只能通过多次运算比较结果来确定。\n",
    "\n",
    "对于任何一种聚类算法来说，输出结果的质量取决于簇内的内聚和簇间的分散：在同一个簇里的点相互靠近，而不同簇里的点相互远离。K-means产生的每个簇都可以用以下的指标进行评估：\n",
    "1. 簇的位置：簇中心的坐标。k-means初始化的时候随机选择一个点作为中心点，然后每个步骤迭代找到一个新的中心，在这个心的中心附近的点都相似，并被划分到同一个组\n",
    "2. 簇的半径：簇内的每个点到簇中心的距离的平均差\n",
    "3. 簇的规模：簇内点的总数\n",
    "4. 簇的密度：簇的规模和簇的半径的比值\n",
    "\n",
    "在这里我们用轮廓系数来评价k-means的结果，它的值介于-1-1之间，负值说明簇的半径大于簇之间的距离，也就是说簇之间有重叠，这说明聚类效果很差；而值越大，越接近1，表示聚类的效果越好。\n",
    "\n",
    "轮廓系数是定义在簇上的每一个点之上的。在每一个簇C里，x_i是点i到簇内其他点的距离的平均值。然后计算这个点i到其他簇D的所有点的距离的平均值，选择其中的最小值y_i $$S_i=\\frac{y_i-x_i}{max(x_i,y_i}$$"
   ]
  },
  {
   "cell_type": "code",
   "execution_count": 34,
   "metadata": {},
   "outputs": [
    {
     "name": "stdout",
     "output_type": "stream",
     "text": [
      "[0 0 0 0 0 0 0 0 0 0 0 0 0 0 0 0 0 0 0 0 0 0 0 0 0 0 0 0 0 0 0 0 0 0 0 0 0\n",
      " 0 0 0 0 0 0 0 0 0 0 0 0 0 0 0 0 0 0 0 0 0 0 0 0 0 0 0 0 0 0 0 0 0 0 0 0 0\n",
      " 0 0 0 0 0 0 0 0 0 0 0 0 0 0 0 0 0 0 0 0 0 0 0 0 0 0 1 1 1 1 1 1 1 1 1 1 1\n",
      " 1 1 1 1 1 1 1 1 1 1 1 1 1 1 1 1 1 1 1 1 1 1 1 1 1 1 1 1 1 1 1 1 1 1 1 1 1\n",
      " 1 1 1 1 1 1 1 1 1 1 1 1 1 1 1 1 1 1 1 1 1 1 1 1 1 1 1 1 1 1 1 1 1 1 1 1 1\n",
      " 1 1 1 1 1 1 1 1 1 1 1 1 1 1 1]\n",
      "[1 0 1 0 0 0 1 0 0 0 0 1 0 1 0 1 0 0 0 0 0 1 1 0 0 0 0 0 1 0 0 0 1 0 0 1 0\n",
      " 1 1 0 1 0 1 0 0 1 1 1 0 0 1 0 0 1 1 0 1 0 0 1 0 0 0 1 1 1 0 0 0 0 1 1 1 0\n",
      " 1 1 0 0 0 0 1 1 1 0 0 0 1 0 0 1 0 0 1 0 0 0 0 1 0 1 2 2 2 2 2 2 2 2 2 2 2\n",
      " 2 2 2 2 2 2 2 2 2 2 2 2 2 2 2 2 2 2 2 2 2 2 2 2 2 2 2 2 2 2 2 2 2 2 2 2 2\n",
      " 2 2 2 2 2 2 2 2 2 2 2 2 2 2 2 2 2 2 2 2 2 2 2 2 2 2 2 2 2 2 2 2 2 2 2 2 2\n",
      " 2 2 2 2 2 2 2 2 2 2 2 2 2 2 2]\n",
      "[3 0 1 3 3 1 3 3 1 1 1 3 3 3 3 1 3 0 3 1 1 3 3 1 3 3 3 1 1 3 1 1 1 1 3 3 1\n",
      " 3 1 3 3 3 3 1 3 1 0 1 3 3 3 3 1 3 1 1 3 1 0 1 1 1 3 3 1 3 1 1 3 3 1 3 1 1\n",
      " 1 1 1 1 3 3 1 3 1 1 3 3 3 3 3 3 3 1 3 3 0 1 3 1 1 3 2 2 2 2 2 2 2 2 2 2 2\n",
      " 2 2 2 2 2 2 2 2 2 2 2 2 2 2 2 2 2 2 2 2 2 2 2 2 2 2 2 2 2 2 2 2 2 2 2 2 2\n",
      " 2 2 2 2 2 2 2 2 2 2 2 2 2 2 2 2 2 2 2 2 2 2 2 2 2 2 2 2 2 2 2 2 2 2 2 2 2\n",
      " 2 2 2 2 2 2 2 2 2 2 2 2 2 2 2]\n",
      "[2 0 1 0 0 1 3 2 0 2 2 1 3 2 1 3 3 0 3 2 1 2 0 0 3 0 3 1 1 1 1 0 1 3 0 0 0\n",
      " 0 0 1 0 2 2 1 3 1 1 1 3 2 1 1 1 3 0 1 1 0 0 0 0 1 1 3 1 1 1 0 3 3 1 0 0 3\n",
      " 1 1 2 0 3 3 0 1 1 3 0 3 0 0 0 3 3 1 2 3 3 0 1 0 0 3 4 4 4 4 4 4 4 4 4 4 4\n",
      " 4 4 4 4 4 4 4 4 4 4 4 4 4 4 4 4 4 4 4 4 4 4 4 4 4 4 4 4 4 4 4 4 4 4 4 4 4\n",
      " 4 4 4 4 4 4 4 4 4 4 4 4 4 4 4 4 4 4 4 4 4 4 4 4 4 4 4 4 4 4 4 4 4 4 4 4 4\n",
      " 4 4 4 4 4 4 4 4 4 4 4 4 4 4 4]\n"
     ]
    },
    {
     "data": {
      "text/plain": [
       "Text(0.5,1,'cluster quality')"
      ]
     },
     "execution_count": 34,
     "metadata": {},
     "output_type": "execute_result"
    },
    {
     "data": {
      "image/png": "[encoded data removed]",
      "text/plain": [
       "<Figure size 432x288 with 1 Axes>"
      ]
     },
     "metadata": {},
     "output_type": "display_data"
    }
   ],
   "source": [
    "from sklearn.cluster import KMeans\n",
    "from sklearn.metrics import silhouette_score\n",
    "import numpy as np\n",
    "import matplotlib.pyplot as plt\n",
    "\n",
    "#生成随机数\n",
    "def get_random_data():\n",
    "    x_1 = np.random.normal(loc=0.2,scale=0.2,size=(100,100))\n",
    "    x_2 = np.random.normal(loc=0.9,scale=0.1,size=(100,100))\n",
    "    x = np.r_[x_1,x_2]\n",
    "    return x\n",
    "\n",
    "# 定义生成簇函数\n",
    "def form_clusters(x,k):\n",
    "    model=KMeans(n_clusters=k,init=\"random\")\n",
    "    model.fit(x)\n",
    "    labels=model.labels_\n",
    "    print(labels)\n",
    "    sh_scores=silhouette_score(x,labels)\n",
    "    return sh_scores\n",
    "\n",
    "#给定不同的K值调用上述函数\n",
    "x=get_random_data()\n",
    "sh_scores=[]\n",
    "for i in range(1,5):\n",
    "    sh_scores.append(form_clusters(x,i+1))\n",
    "\n",
    "#绘制不同簇时的轮廓系数图像\n",
    "no_clusters=[i+1 for i in range (1,5)]\n",
    "\n",
    "plt.plot(no_clusters,sh_scores)\n",
    "plt.title(\"cluster quality\")"
   ]
  },
  {
   "cell_type": "markdown",
   "metadata": {},
   "source": [
    "**应用k-means要注意，不能用它来对数据进行分类。如果要分类，要使用k中心点算法，它是找出一点，使得它和簇内的所有点的平均距离最小**"
   ]
  },
  {
   "cell_type": "markdown",
   "metadata": {},
   "source": [
    "## 学习向量量化\n",
    "学习向量量化(learning vector quantization)可以用来执行分类任务，使用这种技术时，很难在目标变量和预测变量之间做出合适的判断。和其他方法不同，它很难搞清楚反应变量y与预测期x之间存在的联系，因此在现实很多的场景中，是作为一个黑箱方法来加以应用的。\n",
    "\n",
    "LVQ的主要步骤如下：\n",
    "1. 为数据集中的每个类别选择K个初始的原型向量，如果是一个二分类问题，并且分类中有两个原型向量，那么我们就需要设置4个初始的原型向量，他们是从输入的数据集中随机选择的。\n",
    "2. 接着进行循环，知道$\\varepsilon$值变为0或者预设设定的阈值。\n",
    "3. 每次循环中我们都要采样一个输入点，采用欧式距离找出离它最近的原型向量，然后按下面的操作更新最邻近点的原型向量\n",
    "    - 如果它的原型向量的类别标签跟输入数据点的相同，则在原型向量上增加原型向量和数据点的差异\n",
    "    - 如果类别标签不一样，则在原型向量上减去原型向量和数据点的差异"
   ]
  },
  {
   "cell_type": "code",
   "execution_count": 48,
   "metadata": {
    "scrolled": false
   },
   "outputs": [
    {
     "name": "stdout",
     "output_type": "stream",
     "text": [
      "class id \t Final Prototype Vector\n",
      "\n",
      "0 \t [0.08606975 0.51539311 0.03503506 0.04008657]\n",
      "0 \t [0.28283579 0.7339293  0.07306485 0.08517138]\n",
      "1 \t [0.46952205 0.2284319  0.49923762 0.4210256 ]\n",
      "1 \t [0.80285622 0.54599496 0.46435806 0.28608652]\n",
      "2 \t [0.79619667 0.43380497 0.83120244 0.82730621]\n",
      "2 \t [0.53406878 0.40503651 0.72480086 0.92487993]\n"
     ]
    }
   ],
   "source": [
    "#加载库\n",
    "from sklearn.datasets import load_iris\n",
    "from sklearn.preprocessing import MinMaxScaler\n",
    "from sklearn.metrics import euclidean_distances\n",
    "\n",
    "#加载数据\n",
    "data=load_iris()\n",
    "x=data['data']\n",
    "y=data['target']\n",
    "\n",
    "# 对数据进行缩放\n",
    "maxmin=MinMaxScaler()\n",
    "x=maxmin.fit_transform(x)\n",
    "\n",
    "#LVQ参数\n",
    "R=2\n",
    "n_classes=3\n",
    "epsilon=.9\n",
    "epsion_dec_factor=0.01\n",
    "\n",
    "## 定义一个类保存原型向量\n",
    "class prototype(object):\n",
    "    def __init__(self,class_id,p_vector,eplsilon):\n",
    "        self.class_id=class_id\n",
    "        self.p_vector=p_vector\n",
    "        self.eplsilon=eplsilon\n",
    "    def update(self,u_vector,increment=True):\n",
    "        if increment:\n",
    "            self.p_vector=self.p_vector+self.eplsilon*(u_vector-self.p_vector)\n",
    "        else:\n",
    "            self.p_vector=self.p_vector-self.eplsilon*(u_vector-self.p_vector)\n",
    "            \n",
    "def find_closest(in_vector,proto_vectors):\n",
    "    closest=[]\n",
    "    closest_distance=9999\n",
    "    in_vector=in_vector.reshape(4,-1).T\n",
    "    for p_v in proto_vectors:\n",
    "        p_vs=p_v.p_vector.reshape(4,-1).T\n",
    "      \n",
    "        distance=euclidean_distances(in_vector,p_vs)\n",
    "        if distance < closest_distance:\n",
    "            closest_distance=distance\n",
    "            closest=p_v\n",
    "    return closest\n",
    "def find_closest_Id(test_vector,p_vectors):\n",
    "    return find_closest(test_vector,p_vectors).class_id\n",
    "\n",
    "#选择初始化的k*原型向量类别数,为每个类别选取俩个原型向量\n",
    "p_vectors = []\n",
    "for i in range(n_classes):\n",
    "    # Select a class\n",
    "    y_subset = np.where(y == i)\n",
    "    # Select tuples for choosen class\n",
    "    x_subset  = x[y_subset]\n",
    "    # Get R random indices between 0 and 50\n",
    "    samples = np.random.randint(0,len(x_subset),R)\n",
    "    # Select p_vectors\n",
    "    for sample in samples:\n",
    "        s = x_subset[sample]\n",
    "        p = prototype(i,s,epsilon)\n",
    "        p_vectors.append(p)\n",
    "\n",
    "#利用有的数据点，执行循环调整原型向量，对新的点进行分类/聚类\n",
    "while epsilon>=0.01:\n",
    "    #随机采样一个训练实例\n",
    "    rnd_i=np.random.randint(0,149)\n",
    "    x_test=x[rnd_i]\n",
    "    target_y=y[rnd_i]\n",
    "    \n",
    "    #为下一次循环减少epsilon\n",
    "    epsilon=epsilon-epsion_dec_factor\n",
    "    \n",
    "    #查找与测试样本最相近的原型\n",
    "    closest_prototype=find_closest(x_test,p_vectors)\n",
    "    \n",
    "    #更新最相近的原型向量\n",
    "    if target_y== closest_prototype.class_id:\n",
    "        closest_prototype.update(x_test)\n",
    "    else:\n",
    "        closest_prototype.update(x_test,False)\n",
    "    closest_prototype.eplsilon=epsilon\n",
    "    \n",
    "print(\"class id \\t Final Prototype Vector\\n\")\n",
    "for p_vector in p_vectors:\n",
    "    print(p_vector.class_id,'\\t',p_vector.p_vector)"
   ]
  },
  {
   "cell_type": "code",
   "execution_count": 49,
   "metadata": {},
   "outputs": [
    {
     "name": "stdout",
     "output_type": "stream",
     "text": [
      "                  precision    recall  f1-score   support\n",
      "\n",
      "     Iris-Setosa       1.00      1.00      1.00        50\n",
      "Iris-Versicolour       0.92      0.88      0.90        50\n",
      "  Iris-Virginica       0.88      0.92      0.90        50\n",
      "\n",
      "     avg / total       0.93      0.93      0.93       150\n",
      "\n"
     ]
    }
   ],
   "source": [
    "#生成预测报告\n",
    "predicted_y = [find_class_id(instance,p_vectors) for instance in x ]\n",
    "\n",
    "from sklearn.metrics import classification_report\n",
    "print(classification_report(y,predicted_y,target_names=['Iris-Setosa','Iris-Versicolour', 'Iris-Virginica']))"
   ]
  },
  {
   "cell_type": "markdown",
   "metadata": {},
   "source": [
    "## 在单变量数据中找出异常点\n",
    "数据集中远离大部分数据点的点就是异常点。数据科学的应用非常重视这些异常点，如算法受到它们的影响，可能会产生错误的结果或者推论。处理它们非常重要，选择合适的算法也非常重要。\n",
    "\n",
    "在单变量数据中检测异常点主要有以下几种方法：\n",
    "- 绝对中位差\n",
    "- 平均值加或减3倍标准差"
   ]
  },
  {
   "cell_type": "code",
   "execution_count": 55,
   "metadata": {},
   "outputs": [
    {
     "data": {
      "text/plain": [
       "[<matplotlib.lines.Line2D at 0x20f5de1b5c0>]"
      ]
     },
     "execution_count": 55,
     "metadata": {},
     "output_type": "execute_result"
    },
    {
     "data": {
      "image/png": "[encoded data removed]",
      "text/plain": [
       "<Figure size 432x288 with 1 Axes>"
      ]
     },
     "metadata": {},
     "output_type": "display_data"
    }
   ],
   "source": [
    "import numpy as np\n",
    "import matplotlib.pyplot as plt\n",
    "\n",
    "#产生正常数据\n",
    "normal_data=np.random.randn(90,1)\n",
    "\n",
    "#产生异常点\n",
    "outlier_data=np.random.uniform(low=-9,high=9,size=(10,1))\n",
    "\n",
    "#结合数据\n",
    "total_data=np.r_[normal_data,outlier_data]\n",
    "\n",
    "plt.plot(range(len(total_data)),total_data,'b')"
   ]
  },
  {
   "cell_type": "markdown",
   "metadata": {},
   "source": [
    "**什么是绝对中位差**\n",
    "\n",
    "绝对中位差实际求法是用原数据减去中位数后得到的新数据的绝对值的中位数。$$MAD=median_i|X_i-median(X)|$$\n",
    "\n",
    "\n",
    "但绝对中位差常用来估计标准差，估计标准差=1.4826*绝对中位差。R语言中返回的是估计的标准差"
   ]
  },
  {
   "cell_type": "code",
   "execution_count": 64,
   "metadata": {},
   "outputs": [
    {
     "data": {
      "text/plain": [
       "<matplotlib.lines.Line2D at 0x20f5db13240>"
      ]
     },
     "execution_count": 64,
     "metadata": {},
     "output_type": "execute_result"
    },
    {
     "data": {
      "image/png": "[encoded data removed]",
      "text/plain": [
       "<Figure size 432x288 with 1 Axes>"
      ]
     },
     "metadata": {},
     "output_type": "display_data"
    }
   ],
   "source": [
    "#用中位差标注异常点\n",
    "median=np.median(total_data)\n",
    "mad=1.4826*np.median(np.abs(total_data-median))\n",
    "\n",
    "## 确定上下界限\n",
    "low_limit=median-3*mad\n",
    "high_limit=median+3*mad\n",
    "outlier=[]\n",
    "outlier_index=[]\n",
    "for i in range(len(total_data)):\n",
    "    if total_data[i]<low_limit or total_data[i]>high_limit:\n",
    "        outlier.append(total_data[i])\n",
    "        outlier_index.append(i)\n",
    "plt.scatter(range(len(total_data)),total_data,c='b')\n",
    "plt.scatter(outlier_index,outlier,c='r')\n",
    "plt.axhline(low_limit,ls='--')\n",
    "plt.axhline(high_limit,ls='--')"
   ]
  },
  {
   "cell_type": "code",
   "execution_count": 71,
   "metadata": {},
   "outputs": [
    {
     "data": {
      "text/plain": [
       "<matplotlib.lines.Line2D at 0x20f5dcee3c8>"
      ]
     },
     "execution_count": 71,
     "metadata": {},
     "output_type": "execute_result"
    },
    {
     "data": {
      "image/png": "[encoded data removed]",
      "text/plain": [
       "<Figure size 432x288 with 1 Axes>"
      ]
     },
     "metadata": {},
     "output_type": "display_data"
    }
   ],
   "source": [
    "# 3倍标准差\n",
    "mean=np.mean(total_data)\n",
    "std=np.std(total_data)\n",
    "low_limit=mean-3*std\n",
    "high_limit=mean+3*std\n",
    "\n",
    "outliers=[]\n",
    "outlier_index=[]\n",
    "for i in range(len(total_data)):\n",
    "    if total_data[i]>high_limit or total_data[i]<low_limit:\n",
    "        outliers.append(total_data[i])\n",
    "        outlier_index.append(i)\n",
    "plt.scatter(range(len(total_data)),total_data,c='b')\n",
    "plt.scatter(outlier_index,outliers,c='r')\n",
    "plt.axhline(low_limit,ls='--')\n",
    "plt.axhline(high_limit,ls='--')"
   ]
  },
  {
   "cell_type": "markdown",
   "metadata": {},
   "source": [
    "## 使用局部异常因子发现异常点\n",
    "局部异常因子也是一种异常检测算法，它对数据实例的局部密度和邻居进行比较，判断这些数据是否属于相似的密度区域，**它适合那些簇个数未知，簇的密度和大小各不相同的数据中筛选异常点**，这种算法从K最近邻算法（KNN）启发而来"
   ]
  },
  {
   "cell_type": "code",
   "execution_count": 86,
   "metadata": {},
   "outputs": [
    {
     "data": {
      "image/png": "[encoded data removed]",
      "text/plain": [
       "<Figure size 432x288 with 1 Axes>"
      ]
     },
     "metadata": {},
     "output_type": "display_data"
    }
   ],
   "source": [
    "#制造异常点\n",
    "from collections import defaultdict\n",
    "import numpy as np\n",
    "\n",
    "instances = np.matrix([[0,0],[0,1],[1,1],[1,0],[5,0]])\n",
    "\n",
    "import numpy as np\n",
    "import matplotlib.pyplot as plt\n",
    "\n",
    "x = np.squeeze(np.asarray(instances[:,0]))\n",
    "y = np.squeeze(np.asarray(instances[:,1]))\n",
    "plt.scatter(x,y)\n",
    "plt.show()"
   ]
  },
  {
   "cell_type": "code",
   "execution_count": 87,
   "metadata": {},
   "outputs": [],
   "source": [
    "##计算各点两两之间的距离\n",
    "k=2\n",
    "from sklearn.metrics import pairwise_distances\n",
    "dist=pairwise_distances(instances,metric='manhattan')\n",
    "\n",
    "# 计算K距离，使用heapq来获得k最近邻\n",
    "# Calculate K distance\n",
    "import heapq\n",
    "k_distance = defaultdict(tuple)\n",
    "# For each data point\n",
    "for i in range(instances.shape[0]):\n",
    "    # Get its distance to all the other points.\n",
    "    # Convert array into list for convienience\n",
    "    distances = dist[i].tolist()\n",
    "    # Get the K nearest neighbours\n",
    "    ksmallest = heapq.nsmallest(k+1,distances)[1:][k-1]\n",
    "    # Get their indices\n",
    "    ksmallest_idx = distances.index(ksmallest)\n",
    "    # For each data point store the K th nearest neighbour and its distance\n",
    "    k_distance[i]=(ksmallest,ksmallest_idx)\n"
   ]
  },
  {
   "cell_type": "code",
   "execution_count": 90,
   "metadata": {},
   "outputs": [
    {
     "name": "stdout",
     "output_type": "stream",
     "text": [
      "k distance neighbourhood 0\n",
      "[0.0, 1.0, 2.0, 1.0, 5.0]\n",
      "[1.0, 1.0]\n",
      "{1.0}\n",
      "k distance neighbourhood 1\n",
      "[1.0, 0.0, 1.0, 2.0, 6.0]\n",
      "[1.0, 1.0]\n",
      "{1.0}\n",
      "k distance neighbourhood 2\n",
      "[2.0, 1.0, 0.0, 1.0, 5.0]\n",
      "[1.0, 1.0]\n",
      "{1.0}\n",
      "k distance neighbourhood 3\n",
      "[1.0, 2.0, 1.0, 0.0, 4.0]\n",
      "[1.0, 1.0]\n",
      "{1.0}\n",
      "k distance neighbourhood 4\n",
      "[5.0, 6.0, 5.0, 4.0, 0.0]\n",
      "[4.0, 5.0]\n",
      "{4.0, 5.0}\n"
     ]
    }
   ],
   "source": [
    "def all_indices(value, inlist):\n",
    "    out_indices = []\n",
    "    idx = -1\n",
    "    while True:\n",
    "        try:\n",
    "            idx = inlist.index(value, idx+1)#idx+1表示查找的起点位置，这样就可以避免每次查找的时候都是第一个匹配\n",
    "            out_indices.append(idx)\n",
    "        except ValueError:\n",
    "            break\n",
    "    return out_indices\n",
    "\n",
    "# Calculate K distance neighbourhood\n",
    "import heapq\n",
    "k_distance_neig = defaultdict(list)\n",
    "# For each data point\n",
    "for i in range(instances.shape[0]):\n",
    "    # Get the points distances to its neighbours\n",
    "    distances = dist[i].tolist()\n",
    "    print( \"k distance neighbourhood\",i)\n",
    "    print (distances)\n",
    "    # Get the 1 to K nearest neighbours\n",
    "    ksmallest = heapq.nsmallest(k+1,distances)[1:]\n",
    "    print (ksmallest)\n",
    "    ksmallest_set = set(ksmallest)\n",
    "    print (ksmallest_set)\n",
    "    ksmallest_idx = []\n",
    "    # Get the indices of the K smallest elements\n",
    "    for x in ksmallest_set:\n",
    "            ksmallest_idx.append(all_indices(x,distances))\n",
    "    # Change a list of list to list\n",
    "    ksmallest_idx = [item for sublist in ksmallest_idx for item in sublist]\n",
    "    # For each data pont store the K distance neighbourhood\n",
    "    k_distance_neig[i].extend(zip(ksmallest,ksmallest_idx))\n",
    "\n",
    "#计算可达距离和LRD\n",
    "local_reach_density = defaultdict(float)\n",
    "for i in range(instances.shape[0]):\n",
    "    # LRDs numerator, number of K distance neighbourhood\n",
    "    no_neighbours = len(k_distance_neig[i])\n",
    "    denom_sum = 0\n",
    "    # Reachability distance sum\n",
    "    for neigh in k_distance_neig[i]:\n",
    "        # maximum(K-Distance(P), Distance(P,Q))\n",
    "        denom_sum+=max(k_distance[neigh[1]][0],neigh[0])\n",
    "    local_reach_density[i] = no_neighbours/(1.0*denom_sum)\n",
    "\n",
    "lof_list =[]\n",
    "#Local Outlier Factor\n",
    "for i in range(instances.shape[0]):\n",
    "    lrd_sum = 0\n",
    "    rdist_sum = 0\n",
    "    for neigh in k_distance_neig[i]:\n",
    "        lrd_sum+=local_reach_density[neigh[1]]\n",
    "        rdist_sum+=max(k_distance[neigh[1]][0],neigh[0])\n",
    "    lof_list.append((i,lrd_sum*rdist_sum))\n"
   ]
  },
  {
   "cell_type": "code",
   "execution_count": null,
   "metadata": {},
   "outputs": [],
   "source": []
  }
 ],
 "metadata": {
  "kernelspec": {
   "display_name": "Python 3",
   "language": "python",
   "name": "python3"
  },
  "language_info": {
   "codemirror_mode": {
    "name": "ipython",
    "version": 3
   },
   "file_extension": ".py",
   "mimetype": "text/x-python",
   "name": "python",
   "nbconvert_exporter": "python",
   "pygments_lexer": "ipython3",
   "version": "3.6.3"
  },
  "latex_envs": {
   "LaTeX_envs_menu_present": true,
   "autoclose": false,
   "autocomplete": true,
   "bibliofile": "biblio.bib",
   "cite_by": "apalike",
   "current_citInitial": 1,
   "eqLabelWithNumbers": true,
   "eqNumInitial": 1,
   "hotkeys": {
    "equation": "Ctrl-E",
    "itemize": "Ctrl-I"
   },
   "labels_anchors": false,
   "latex_user_defs": false,
   "report_style_numbering": false,
   "user_envs_cfg": false
  },
  "toc": {
   "base_numbering": 1,
   "nav_menu": {},
   "number_sections": true,
   "sideBar": true,
   "skip_h1_title": false,
   "title_cell": "Table of Contents",
   "title_sidebar": "Contents",
   "toc_cell": false,
   "toc_position": {},
   "toc_section_display": true,
   "toc_window_display": true
  }
 },
 "nbformat": 4,
 "nbformat_minor": 2
}
