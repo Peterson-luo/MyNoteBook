{
 "cells": [
  {
   "cell_type": "markdown",
   "metadata": {},
   "source": [
    "# 常数和特殊函数"
   ]
  },
  {
   "cell_type": "markdown",
   "metadata": {},
   "source": [
    "## 物理常量 "
   ]
  },
  {
   "cell_type": "code",
   "execution_count": 2,
   "metadata": {},
   "outputs": [
    {
     "name": "stdout",
     "output_type": "stream",
     "text": [
      "光速： 299792458.0\n",
      "普朗克常数： 6.62607004e-34\n"
     ]
    }
   ],
   "source": [
    "from scipy import constants as C\n",
    "print(\"光速：\",C.c)\n",
    "print('普朗克常数：',C.h)"
   ]
  },
  {
   "cell_type": "markdown",
   "metadata": {},
   "source": [
    "## 常用单位"
   ]
  },
  {
   "cell_type": "code",
   "execution_count": 6,
   "metadata": {},
   "outputs": [
    {
     "name": "stdout",
     "output_type": "stream",
     "text": [
      "一英里： 1609.3439999999998\n",
      "一英寸 0.0254\n"
     ]
    }
   ],
   "source": [
    "print('一英里：',C.mile)\n",
    "print('一英寸',C.inch)"
   ]
  },
  {
   "cell_type": "markdown",
   "metadata": {},
   "source": [
    "## special函数库\n",
    "Scipy中的special模块是一个非常完整的函数库，其中包含了基本数学函数，特殊数学函数以及numpy中所出现的所有函数。\n",
    "伽马函数是概率统计学中经常出现的一个特殊函数，它的计算公司如下：\n",
    "$\\Gamma(z)=\\int_{0}^{\\infty}{t^{z-1}e^{-t}dt}$"
   ]
  },
  {
   "cell_type": "code",
   "execution_count": 8,
   "metadata": {},
   "outputs": [
    {
     "name": "stdout",
     "output_type": "stream",
     "text": [
      "6.0\n"
     ]
    }
   ],
   "source": [
    "from scipy import special as S\n",
    "print(S.gamma(4))"
   ]
  },
  {
   "cell_type": "markdown",
   "metadata": {},
   "source": [
    "# 拟合与优化-optimize\n",
    "optimize模块提供了许多数值优化算法，这里主要对其中的非线性方程组求解、数值拟合和函数最小值进行介绍"
   ]
  },
  {
   "cell_type": "markdown",
   "metadata": {},
   "source": [
    "## 非线性方程组求解\n",
    "fsolve()可以对非线性方程组进行求解，它的基本调用形式为fsolve(func,x0),其中func是计算方程组误差的函数，它的参数x是一个数组，其值为方程组的一组可能的解。func返回将x代入方程组之后得到的每个方程的误差，x0为未知数的一组初始解"
   ]
  },
  {
   "cell_type": "code",
   "execution_count": 17,
   "metadata": {},
   "outputs": [
    {
     "name": "stdout",
     "output_type": "stream",
     "text": [
      "[ 0.70622057 -0.6        -2.5       ]\n",
      "[0.0, -8.881784197001252e-16, 0.0]\n"
     ]
    }
   ],
   "source": [
    "from math import sin,cos\n",
    "from scipy import optimize\n",
    "def f(x):\n",
    "    x0,x1,x2=x.tolist()\n",
    "    return [\n",
    "        5*x1+3,\n",
    "        4*x0*x0-2*sin(x1*x2),\n",
    "        x1*x2-1.5\n",
    "    ]\n",
    "result=optimize.fsolve(f,[1,-1,1])\n",
    "print(result)\n",
    "print(f(result))"
   ]
  },
  {
   "cell_type": "markdown",
   "metadata": {},
   "source": [
    "在对方程组进行求解时，fsolve()会自动计算方程组在某点对各个未知变量的偏导数，这些偏导数组成一个二维数组，数学上称之为雅阁比矩阵。如果方程组中的未知数很多，而与每个方程有关联的未知数较少，即雅各比矩阵比较稀疏的时候，将计算雅各比矩阵的函数最为参数传递给fsolve（），这能大幅度提高运算速度"
   ]
  },
  {
   "cell_type": "code",
   "execution_count": 20,
   "metadata": {},
   "outputs": [
    {
     "name": "stdout",
     "output_type": "stream",
     "text": [
      "[ 0.70622057 -0.6        -2.5       ]\n",
      "[0.0, -8.881784197001252e-16, 0.0]\n"
     ]
    }
   ],
   "source": [
    "def j(x):\n",
    "    x0,x1,x2=x.tolist()\n",
    "    return [\n",
    "        [0,5,0],\n",
    "        [8*x0,-2*x2*cos(x1*x2),-2*x1*cos(x1*x2)],\n",
    "        [0,x2,x1]\n",
    "    ]\n",
    "result=optimize.fsolve(f,[1,-1,1],fprime=j)\n",
    "print(result)\n",
    "print(f(result))"
   ]
  },
  {
   "cell_type": "markdown",
   "metadata": {},
   "source": [
    "## 最小二乘拟合\n",
    "在optimize模块中，可以使用leastsq()对数据进行最小二乘拟合。只需要将计算误差的函数和待确定参数的初始值传递给它即可。"
   ]
  },
  {
   "cell_type": "code",
   "execution_count": 22,
   "metadata": {},
   "outputs": [
    {
     "name": "stdout",
     "output_type": "stream",
     "text": [
      "(array([0.61349535, 1.79409255]), 3)\n"
     ]
    }
   ],
   "source": [
    "import numpy as np\n",
    "from scipy import optimize\n",
    "x= np.array([8.19,2.72,6.39,8.71,4.7,2.66,3.78])\n",
    "y=np.array([7.01,2.78,6.47,6.71,4.1,4.23,4.05])\n",
    "\n",
    "def residuals(p):\n",
    "    k,b=p\n",
    "    return y-(k*x+b)\n",
    "r=optimize.leastsq(residuals,[1,1])\n",
    "print(r)\n",
    "    "
   ]
  },
  {
   "cell_type": "markdown",
   "metadata": {},
   "source": [
    "接下来是一个拟合正弦波函数的例子"
   ]
  },
  {
   "cell_type": "code",
   "execution_count": 36,
   "metadata": {},
   "outputs": [
    {
     "name": "stdout",
     "output_type": "stream",
     "text": [
      "真实参数： 10 0.34 0.5235987755982988\n",
      "拟合参数： [9.81307133 0.34167968 0.4651311 ]\n"
     ]
    },
    {
     "data": {
      "image/png": "[encoded data removed]",
      "text/plain": [
       "<Figure size 432x288 with 1 Axes>"
      ]
     },
     "metadata": {},
     "output_type": "display_data"
    }
   ],
   "source": [
    "import matplotlib.pyplot as pl \n",
    "def func(x,p):\n",
    "    a,k,theta=p\n",
    "    return a*np.sin(2*np.pi*k*x+theta)\n",
    "def residuals(p,y,x):\n",
    "    return y-func(x,p)\n",
    "x=np.linspace(0,2*np.pi,100)\n",
    "a,k,theta=10,0.34,np.pi/6 #真实参数\n",
    "y0=func(x,[a,k,theta])\n",
    "y1=y0+2*np.random.randn(len(x))#随机噪声\n",
    "p0=[7,0.4,0]#第一次试错参数\n",
    "plsq=optimize.leastsq(residuals,p0,args=(y1,x))\n",
    "print('真实参数：',a,k,theta)\n",
    "print('拟合参数：',plsq[0])\n",
    "pl.plot(x,y1,'o',label=u'带噪声的实验数据')\n",
    "pl.plot(x,y0,'o',label=u'真实数据')\n",
    "pl.plot(x,func(x,plsq[0]),label=u'拟合数据')\n",
    "pl.legend(loc='best')\n",
    "pl.show()"
   ]
  },
  {
   "cell_type": "markdown",
   "metadata": {},
   "source": [
    " 对于这种一维曲线拟合，optimize库还提供了一个curve_fit()函数，她的目标函数与leastsq稍有不同，各个待优化参数直接作为函数的参数传入"
   ]
  },
  {
   "cell_type": "code",
   "execution_count": 37,
   "metadata": {},
   "outputs": [
    {
     "name": "stdout",
     "output_type": "stream",
     "text": [
      "[9.81307133 0.34167968 0.46513111]\n"
     ]
    }
   ],
   "source": [
    "def func2(x,A,k,theta):\n",
    "    return A*np.sin(2*np.pi*k*x+theta)\n",
    "popt,_=optimize.curve_fit(func2,x,y1,p0=p0)\n",
    "print(popt)"
   ]
  },
  {
   "cell_type": "markdown",
   "metadata": {},
   "source": [
    "## 计算函数局域最小值\n",
    "optimize库还提供了许多求函数最小值的算法：Nelder-Mead,Powell,CG,BFGS,Newton-CG,L-BFGS-B等。下面将使用$f(x,y)={(1-x)}^2+100{(y-x^2)}^2$来实现各个算法\n"
   ]
  },
  {
   "cell_type": "code",
   "execution_count": 11,
   "metadata": {},
   "outputs": [
    {
     "name": "stdout",
     "output_type": "stream",
     "text": [
      "Nelder-Mead 3.9257142525324585e-10 88 0 0\n",
      "Powell 1.3065508742723008e-29 178 0 0\n",
      "CG 0.34126318409689027 16 4 0\n",
      "BFGS 0.3618490736691562 59 48 0\n",
      "Newton-CG 0.8729598762728193 25 14 2\n",
      "L-BFGS-B 0.007274931919728303 108 108 0\n"
     ]
    },
    {
     "name": "stderr",
     "output_type": "stream",
     "text": [
      "C:\\Users\\Administrator\\Anaconda3\\lib\\site-packages\\scipy\\optimize\\_minimize.py:381: RuntimeWarning: Method Nelder-Mead does not use gradient information (jac).\n",
      "  RuntimeWarning)\n",
      "C:\\Users\\Administrator\\Anaconda3\\lib\\site-packages\\scipy\\optimize\\_minimize.py:385: RuntimeWarning: Method Nelder-Mead does not use Hessian information (hess).\n",
      "  RuntimeWarning)\n",
      "C:\\Users\\Administrator\\Anaconda3\\lib\\site-packages\\scipy\\optimize\\_minimize.py:381: RuntimeWarning: Method Powell does not use gradient information (jac).\n",
      "  RuntimeWarning)\n",
      "C:\\Users\\Administrator\\Anaconda3\\lib\\site-packages\\scipy\\optimize\\_minimize.py:385: RuntimeWarning: Method Powell does not use Hessian information (hess).\n",
      "  RuntimeWarning)\n",
      "C:\\Users\\Administrator\\Anaconda3\\lib\\site-packages\\scipy\\optimize\\_minimize.py:385: RuntimeWarning: Method CG does not use Hessian information (hess).\n",
      "  RuntimeWarning)\n",
      "C:\\Users\\Administrator\\Anaconda3\\lib\\site-packages\\scipy\\optimize\\_minimize.py:385: RuntimeWarning: Method BFGS does not use Hessian information (hess).\n",
      "  RuntimeWarning)\n",
      "C:\\Users\\Administrator\\Anaconda3\\lib\\site-packages\\scipy\\optimize\\_minimize.py:385: RuntimeWarning: Method L-BFGS-B does not use Hessian information (hess).\n",
      "  RuntimeWarning)\n"
     ]
    }
   ],
   "source": [
    "import numpy as np\n",
    "from scipy import optimize\n",
    "def target_func(x,y):\n",
    "    return (1-x)**2+(y-x**2)**2\n",
    "class Target_function(object):\n",
    "    def __init__(self):\n",
    "        self.f_points=[]\n",
    "        self.fprime_points=[]\n",
    "        self.fhess_points=[]\n",
    "        \n",
    "    def f(self,p):\n",
    "        x,y=p.tolist()\n",
    "        z=target_func(x,y)\n",
    "        self.f_points.append((x,y))\n",
    "        return z\n",
    "    def fprime(self,p):\n",
    "        x,y=p.tolist()\n",
    "        self.fprime_points.append((x,y))\n",
    "        dx=-2+2*x-100*x*(y-x**2)\n",
    "        dy=200*y-200*x**2\n",
    "        return np.array([dx,dy])\n",
    "    def fhess(self,p):\n",
    "        x,y=p.tolist()\n",
    "        self.fhess_points.append((x,y))\n",
    "        return np.array([[2*(600*x**2-200*y+1),-400*x],[-400*x,200]])\n",
    "def fmin_demo(meathod):\n",
    "    target=Target_function()\n",
    "    init_point=(1,-1)\n",
    "    res=optimize.minimize(target.f,init_point,method=meathod,jac=target.fprime,hess=target.fhess)\n",
    "    return res,[np.array(points) for points in (target.f_points,target.fprime_points,target.fhess_points)]\n",
    "meathods=('Nelder-Mead',\"Powell\",\"CG\",\"BFGS\",\"Newton-CG\",\"L-BFGS-B\")\n",
    "for meathod in meathods:\n",
    "    res,(f_points,fprime_points,fhess_points)=fmin_demo(meathod)\n",
    "    print(meathod,float(res['fun']),len(f_points),len(fprime_points),len(fhess_points))"
   ]
  },
  {
   "cell_type": "markdown",
   "metadata": {},
   "source": [
    "## 计算全域最小值\n",
    "前面的几种算法，只能计算局域的最小值，optimize还提供了几种能进行全局优化的算法，"
   ]
  },
  {
   "cell_type": "code",
   "execution_count": 15,
   "metadata": {},
   "outputs": [
    {
     "name": "stdout",
     "output_type": "stream",
     "text": [
      "                        fun: 349.13579066361183\n",
      " lowest_optimization_result:       fun: 349.13579066361183\n",
      " hess_inv: <3x3 LbfgsInvHessProduct with dtype=float64>\n",
      "      jac: array([-2.27373675e-05,  6.53699317e-03,  2.16004992e-04])\n",
      "  message: b'CONVERGENCE: REL_REDUCTION_OF_F_<=_FACTR*EPSMCH'\n",
      "     nfev: 212\n",
      "      nit: 31\n",
      "   status: 0\n",
      "  success: True\n",
      "        x: array([ 9.70865421, -0.34042705,  2.60072193])\n",
      "                    message: ['requested number of basinhopping iterations completed successfully']\n",
      "      minimization_failures: 0\n",
      "                       nfev: 4876\n",
      "                        nit: 30\n",
      "                          x: array([ 9.70865421, -0.34042705,  2.60072193])\n"
     ]
    },
    {
     "name": "stderr",
     "output_type": "stream",
     "text": [
      "C:\\Users\\Administrator\\Anaconda3\\lib\\site-packages\\scipy\\optimize\\_basinhopping.py:299: RuntimeWarning: overflow encountered in exp\n",
      "  w = min(1.0, np.exp(-(energy_new - energy_old) * self.beta))\n"
     ]
    }
   ],
   "source": [
    "import matplotlib.pyplot as pl \n",
    "def func(x,p):\n",
    "    a,k,theta=p\n",
    "    return a*np.sin(2*np.pi*k*x+theta)\n",
    "def sum_erro(p,y,x):\n",
    "    return np.sum((y-func(x,p))**2)\n",
    "x=np.linspace(0,2*np.pi,100)\n",
    "a,k,theta=10,0.34,np.pi/6 #真实参数\n",
    "y0=func(x,[a,k,theta])\n",
    "y1=y0+2*np.random.randn(len(x))#随机噪声\n",
    "result=optimize.basinhopping(sum_erro,(1,1,2),niter=30,minimizer_kwargs={'method':'L-BFGS-B',\n",
    "                                                                         'args':(y1,x)})\n",
    "print(result)"
   ]
  },
  {
   "cell_type": "markdown",
   "metadata": {},
   "source": [
    "# 线性代数 \n",
    "numpy和scipy都提供了线性代数函数库linalg，但是SciPy的线性代数库比numpy更全面\n",
    "## 解线性方程组\n",
    "numpy.linalg.solve(A,b)和scipy.linalg(A,b)都可以用来解线性方程组Ax=b"
   ]
  },
  {
   "cell_type": "code",
   "execution_count": 22,
   "metadata": {},
   "outputs": [
    {
     "name": "stdout",
     "output_type": "stream",
     "text": [
      "[[-2.45127873 -0.13882212  1.26994732 ... -0.07598084  0.5579381\n",
      "   0.11674061]\n",
      " [-0.48192061 -0.50430038  0.44186608 ... -0.03831083  0.32654131\n",
      "  -0.39466819]\n",
      " [ 2.75605805 -0.18499216 -2.68391499 ... -0.04944263 -1.2672175\n",
      "   1.49844271]\n",
      " ...\n",
      " [-1.18737097 -0.11455363  1.63027891 ... -0.10635036  1.05193909\n",
      "  -1.18149741]\n",
      " [-0.57979299 -0.71344473 -0.21270016 ... -0.12685799 -0.16155777\n",
      "  -0.26904821]\n",
      " [ 3.87852776  0.89917524 -2.85888188 ...  0.49715813 -0.84375228\n",
      "   0.59423434]]\n",
      "True\n",
      "16 ms ± 630 µs per loop (mean ± std. dev. of 7 runs, 100 loops each)\n",
      "125 ms ± 2.54 ms per loop (mean ± std. dev. of 7 runs, 10 loops each)\n"
     ]
    }
   ],
   "source": [
    "from scipy import linalg\n",
    "m,n=500,50\n",
    "A=np.random.rand(m,m)\n",
    "B=np.random.rand(m,n)\n",
    "X1=np.dot(linalg.inv(A),B)\n",
    "X2=linalg.solve(A,B)\n",
    "print(X2)\n",
    "print(np.allclose(X1,X2))\n",
    "%timeit np.dot(linalg.inv(A),B)\n",
    "%timeit linalg.solve(A,B)"
   ]
  },
  {
   "cell_type": "markdown",
   "metadata": {},
   "source": [
    "## 最小二乘解\n",
    "lstsq()比solve()更一般化，他不要求矩阵A是正方形，也就是说方程的个数可以少于未知数的个数。它找到一组解使得||b-Ax||最小。我们称得到的结果为最小二乘解，即它使得所有的等式的误差的平方和最小。"
   ]
  },
  {
   "cell_type": "code",
   "execution_count": 26,
   "metadata": {},
   "outputs": [
    {
     "name": "stdout",
     "output_type": "stream",
     "text": [
      "[ 1.02122711  1.12065143 -0.22757846 -1.01482501  1.31553835  0.53934731\n",
      "  1.31544876  0.93354187  1.27032238 -1.04168272  1.39750754  0.22519527\n",
      "  1.65410631 -0.96828011  1.79938629  0.11834929 -1.04443277 -0.68345965\n",
      "  0.04055329  0.7373408   0.26798303 -0.35391692  0.43032291  2.54117049\n",
      "  1.5931832  -0.47924337 -0.09995263 -0.34079478  0.42672859 -0.57032596\n",
      " -0.5692853  -1.33584647  0.67352005  1.15372941 -0.29870762  1.27445328\n",
      " -1.31249404 -0.82773274  0.18633994  1.28741445  1.38310911 -0.72534511\n",
      "  1.63964897  0.20082523 -0.47593153  0.58676419  0.85587444 -1.18609796\n",
      "  1.33102096  1.4884538  -0.72843958  0.41312483  0.39393151 -0.30053536\n",
      " -1.30768415  0.21844389  0.00721972  1.58552414  0.48198959 -1.35023746\n",
      "  0.95909454 -3.71653816  1.37521461 -2.30624762 -0.34215011 -0.66428877\n",
      " -1.79324755  1.43632782  0.39008346  0.4303981  -0.16790823  0.24939367\n",
      "  0.03675145 -0.94940883  0.67301812 -0.4547047  -1.39794423 -0.81050119\n",
      "  1.4524133   1.04121964 -0.75267186 -0.63258586 -0.45911214  2.11669412\n",
      "  0.40868679  0.53877741  0.80653726  0.71999221 -0.51239799 -0.20112018\n",
      " -0.71409175 -0.75806901  0.5769544  -0.34864085  0.25527214  0.09671489\n",
      " -0.04065381 -2.54555059  0.86283462  0.26381314  0.3739484  -0.2581965\n",
      "  0.0916473  -0.39948138  0.46340919 -0.56208375  0.61496994  0.31602602\n",
      " -0.07288319  0.58254865  0.36038835 -0.3290176  -0.26704998 -0.30263886\n",
      "  0.17307369 -0.16058557 -0.41234224 -0.36123138 -0.57788693  0.30877377]\n",
      "\n",
      "\n",
      "[ 0.96773811  1.12646313 -0.30935837 -1.00509498  1.2201378   0.67971688\n",
      "  1.02739602  0.89526009  1.37648044 -0.85252762  1.44601678  0.25236444\n",
      "  1.72078754 -0.9927266   1.88968057  0.06650502 -1.00347387 -0.53370158\n",
      " -0.0379239   0.71894608  0.27874111 -0.66537211  0.33213193  2.55632089\n",
      "  1.49701153 -0.26306165  0.08649175 -0.2826383   0.57646337 -0.71425788\n",
      " -0.67594548 -1.33111543  0.54923527  1.0362481  -0.08508374  1.10258261\n",
      " -1.38818785 -0.91201096  0.34062721  1.17273205  1.34629229 -0.60255703\n",
      "  1.74184096  0.13687935 -0.39040247  0.80540905  1.01834963 -1.26912905\n",
      "  1.29109522  1.38615364 -0.82248199  0.25405713  0.5205031  -0.41546992\n",
      " -1.18200963 -0.01033187  0.05177474  1.54314201  0.32479266 -1.22399043\n",
      "  1.12254575 -3.43895907  1.36536803 -2.41062701 -0.26560136 -0.51458247\n",
      " -1.8375391   1.30052796  0.49158457  0.36672221 -0.24684166  0.19931159\n",
      "  0.06812972 -0.77958986  0.69666545 -0.47117273 -1.33281541 -0.6192343\n",
      "  1.6301638   0.83173623]\n"
     ]
    }
   ],
   "source": [
    "from numpy.lib.stride_tricks import as_strided\n",
    "def make_data(m,n,noise_scale):\n",
    "    np.random.seed(42)\n",
    "    x=np.random.standard_normal(m)\n",
    "    h=np.random.standard_normal(n)\n",
    "    y=np.convolve(x,h)\n",
    "    yn=y+np.random.standard_normal(len(y))*noise_scale*np.max(y)\n",
    "    return x,yn,h\n",
    "def solve_h(x,y,n):\n",
    "    X=as_strided(x,shape=(len(x)-n+1,n),strides=(x.itemsize,x.itemsize))\n",
    "    Y=y[n-1:len(x)]\n",
    "    h=linalg.lstsq(X,Y)\n",
    "    return print(h[0][::-1])\n",
    "x,yn,h=make_data(1000,100,0.4)\n",
    "H1=solve_h(x,yn,120)\n",
    "print('\\n')\n",
    "H1=solve_h(x,yn,80)"
   ]
  },
  {
   "cell_type": "markdown",
   "metadata": {},
   "source": [
    "## 特征值和特征向量 "
   ]
  },
  {
   "cell_type": "code",
   "execution_count": 27,
   "metadata": {},
   "outputs": [
    {
     "data": {
      "text/plain": [
       "(array([1.13027756+0.j, 0.76972244+0.j]), array([[ 0.91724574, -0.79325185],\n",
       "        [ 0.3983218 ,  0.60889368]]))"
      ]
     },
     "execution_count": 27,
     "metadata": {},
     "output_type": "execute_result"
    }
   ],
   "source": [
    "a=np.array([[1,0.3],[0.1,0.9]])\n",
    "linalg.eig(a)#第一个元组是特征值，第二个是特征向量"
   ]
  },
  {
   "cell_type": "markdown",
   "metadata": {},
   "source": [
    "# 统计—stats\n",
    "## 连续概率分布\n",
    "连续随机变量对象都有如下方法：\n",
    "- rvs: 对随机变量进行随机取值，可以通过size参数指定输出的数组大小\n",
    "- pdf: 随机变量的概率密度函数\n",
    "- cdf: 随机变量的累积分布函数，她是概率密度函数的积分\n",
    "- sf: 随机变量的生存函数，它的值是1-cdf(t)\n",
    "- ppf: 累积分布函数的反函数\n",
    "- stat: 计算随机变量的期望值和方差\n",
    "- fit: 对一组随机取样进行拟合，找出最适合取样数据的概率密度函数的系数\n",
    "\n",
    "以下是随机概率分布的所有方法："
   ]
  },
  {
   "cell_type": "code",
   "execution_count": 44,
   "metadata": {},
   "outputs": [
    {
     "data": {
      "text/plain": [
       "['ksone',\n",
       " 'kstwobign',\n",
       " 'norm',\n",
       " 'alpha',\n",
       " 'anglit',\n",
       " 'arcsine',\n",
       " 'beta',\n",
       " 'betaprime',\n",
       " 'bradford',\n",
       " 'burr',\n",
       " 'burr12',\n",
       " 'fisk',\n",
       " 'cauchy',\n",
       " 'chi',\n",
       " 'chi2',\n",
       " 'cosine',\n",
       " 'dgamma',\n",
       " 'dweibull',\n",
       " 'expon',\n",
       " 'exponnorm',\n",
       " 'exponweib',\n",
       " 'exponpow',\n",
       " 'fatiguelife',\n",
       " 'foldcauchy',\n",
       " 'f',\n",
       " 'foldnorm',\n",
       " 'frechet_r',\n",
       " 'weibull_min',\n",
       " 'frechet_l',\n",
       " 'weibull_max',\n",
       " 'genlogistic',\n",
       " 'genpareto',\n",
       " 'genexpon',\n",
       " 'genextreme',\n",
       " 'gamma',\n",
       " 'erlang',\n",
       " 'gengamma',\n",
       " 'genhalflogistic',\n",
       " 'gompertz',\n",
       " 'gumbel_r',\n",
       " 'gumbel_l',\n",
       " 'halfcauchy',\n",
       " 'halflogistic',\n",
       " 'halfnorm',\n",
       " 'hypsecant',\n",
       " 'gausshyper',\n",
       " 'invgamma',\n",
       " 'invgauss',\n",
       " 'invweibull',\n",
       " 'johnsonsb',\n",
       " 'johnsonsu',\n",
       " 'laplace',\n",
       " 'levy',\n",
       " 'levy_l',\n",
       " 'levy_stable',\n",
       " 'logistic',\n",
       " 'loggamma',\n",
       " 'loglaplace',\n",
       " 'lognorm',\n",
       " 'gilbrat',\n",
       " 'maxwell',\n",
       " 'mielke',\n",
       " 'kappa4',\n",
       " 'kappa3',\n",
       " 'nakagami',\n",
       " 'ncx2',\n",
       " 'ncf',\n",
       " 't',\n",
       " 'nct',\n",
       " 'pareto',\n",
       " 'lomax',\n",
       " 'pearson3',\n",
       " 'powerlaw',\n",
       " 'powerlognorm',\n",
       " 'powernorm',\n",
       " 'rdist',\n",
       " 'rayleigh',\n",
       " 'reciprocal',\n",
       " 'rice',\n",
       " 'recipinvgauss',\n",
       " 'semicircular',\n",
       " 'skewnorm',\n",
       " 'trapz',\n",
       " 'triang',\n",
       " 'truncexpon',\n",
       " 'truncnorm',\n",
       " 'tukeylambda',\n",
       " 'uniform',\n",
       " 'vonmises',\n",
       " 'vonmises_line',\n",
       " 'wald',\n",
       " 'wrapcauchy',\n",
       " 'gennorm',\n",
       " 'halfgennorm',\n",
       " 'argus']"
      ]
     },
     "execution_count": 44,
     "metadata": {},
     "output_type": "execute_result"
    }
   ],
   "source": [
    "from scipy import stats\n",
    "[k for k,v in stats.__dict__.items() if isinstance(v,stats.rv_continuous)]"
   ]
  },
  {
   "cell_type": "markdown",
   "metadata": {},
   "source": [
    "以下以正态分布为例，展示相关函数"
   ]
  },
  {
   "cell_type": "code",
   "execution_count": 30,
   "metadata": {},
   "outputs": [
    {
     "data": {
      "text/plain": [
       "(array(1.), array(4.))"
      ]
     },
     "execution_count": 30,
     "metadata": {},
     "output_type": "execute_result"
    }
   ],
   "source": [
    "from scipy import stats\n",
    "x=stats.norm(loc=1,scale=2)#loc参数指定期望，scale指定标准差\n",
    "x.stats()"
   ]
  },
  {
   "cell_type": "code",
   "execution_count": 32,
   "metadata": {},
   "outputs": [
    {
     "data": {
      "text/plain": [
       "(1.0312783366175413, 4.022155545295567)"
      ]
     },
     "execution_count": 32,
     "metadata": {},
     "output_type": "execute_result"
    }
   ],
   "source": [
    "y=x.rvs(size=10000)#对随机变量取10000个值\n",
    "np.mean(y),np.var(y)"
   ]
  },
  {
   "cell_type": "markdown",
   "metadata": {},
   "source": [
    "有些随机分布除了loc和scale参数之外，还需要额外的形状参数。例如伽马分布可用于描述等待K个独立随机事件发生所需要的时间，k就是伽马分布的形状参数"
   ]
  },
  {
   "cell_type": "code",
   "execution_count": 37,
   "metadata": {},
   "outputs": [
    {
     "name": "stdout",
     "output_type": "stream",
     "text": [
      "(array(1.), array(1.))\n",
      "(array(2.), array(2.))\n"
     ]
    }
   ],
   "source": [
    "print(stats.gamma.stats(1))\n",
    "print(stats.gamma.stats(2.0))"
   ]
  },
  {
   "cell_type": "markdown",
   "metadata": {},
   "source": [
    "伽马分布的尺度参数$\\theta$和随机事件发生的频率有关，由scale参数指定："
   ]
  },
  {
   "cell_type": "code",
   "execution_count": 39,
   "metadata": {},
   "outputs": [
    {
     "data": {
      "text/plain": [
       "(array(4.), array(8.))"
      ]
     },
     "execution_count": 39,
     "metadata": {},
     "output_type": "execute_result"
    }
   ],
   "source": [
    "stats.gamma.stats(2.0,scale=2.0)"
   ]
  },
  {
   "cell_type": "markdown",
   "metadata": {},
   "source": [
    "当随机分布有额外的形状参数时，它所对应的rvs()和pdf()等方法都会增加额外的参数来接收形状参数。"
   ]
  },
  {
   "cell_type": "code",
   "execution_count": 42,
   "metadata": {},
   "outputs": [
    {
     "data": {
      "text/plain": [
       "array([0.16915721, 0.17582402, 0.17898158, 0.12960963])"
      ]
     },
     "execution_count": 42,
     "metadata": {},
     "output_type": "execute_result"
    }
   ],
   "source": [
    "x=stats.gamma.rvs(2,scale=2,size=4)\n",
    "stats.gamma.pdf(x,2,scale=2)"
   ]
  },
  {
   "cell_type": "code",
   "execution_count": 43,
   "metadata": {},
   "outputs": [
    {
     "data": {
      "text/plain": [
       "array([0.16915721, 0.17582402, 0.17898158, 0.12960963])"
      ]
     },
     "execution_count": 43,
     "metadata": {},
     "output_type": "execute_result"
    }
   ],
   "source": [
    "X=stats.gamma(2,scale=2)\n",
    "X.pdf(x)"
   ]
  },
  {
   "cell_type": "markdown",
   "metadata": {},
   "source": [
    "## 离散概率分布\n",
    "以下是离散概率分布的所有方法"
   ]
  },
  {
   "cell_type": "code",
   "execution_count": 45,
   "metadata": {},
   "outputs": [
    {
     "data": {
      "text/plain": [
       "['binom',\n",
       " 'bernoulli',\n",
       " 'nbinom',\n",
       " 'geom',\n",
       " 'hypergeom',\n",
       " 'logser',\n",
       " 'poisson',\n",
       " 'planck',\n",
       " 'boltzmann',\n",
       " 'randint',\n",
       " 'zipf',\n",
       " 'dlaplace',\n",
       " 'skellam']"
      ]
     },
     "execution_count": 45,
     "metadata": {},
     "output_type": "execute_result"
    }
   ],
   "source": [
    "[k for k,v in stats.__dict__.items() if isinstance(v,stats.rv_discrete)]"
   ]
  },
  {
   "cell_type": "code",
   "execution_count": 46,
   "metadata": {},
   "outputs": [
    {
     "data": {
      "text/plain": [
       "array([1, 2, 6, 1, 2, 1, 2, 2, 2, 5, 1, 2, 1, 4, 1, 5, 1, 1, 1, 6])"
      ]
     },
     "execution_count": 46,
     "metadata": {},
     "output_type": "execute_result"
    }
   ],
   "source": [
    "x=range(1,7)\n",
    "p=[0.4,0.2,0.1,0.1,0.1,0.1]\n",
    "dice=stats.rv_discrete(values=(x,p))\n",
    "dice.rvs(size=20)"
   ]
  },
  {
   "cell_type": "code",
   "execution_count": 58,
   "metadata": {},
   "outputs": [],
   "source": [
    "sample=dice.rvs(size=(20000,50))\n",
    "sample_mean=np.mean(sample,axis=1)"
   ]
  },
  {
   "cell_type": "markdown",
   "metadata": {},
   "source": [
    "## 核密度函数 "
   ]
  },
  {
   "cell_type": "code",
   "execution_count": 61,
   "metadata": {},
   "outputs": [
    {
     "name": "stderr",
     "output_type": "stream",
     "text": [
      "C:\\Users\\Administrator\\Anaconda3\\lib\\site-packages\\matplotlib\\axes\\_axes.py:6462: UserWarning: The 'normed' kwarg is deprecated, and has been replaced by the 'density' kwarg.\n",
      "  warnings.warn(\"The 'normed' kwarg is deprecated, and has been \"\n"
     ]
    },
    {
     "data": {
      "text/plain": [
       "<matplotlib.legend.Legend at 0x1b84fe2ada0>"
      ]
     },
     "execution_count": 61,
     "metadata": {},
     "output_type": "execute_result"
    },
    {
     "data": {
      "image/png": "[encoded data removed]",
      "text/plain": [
       "<Figure size 432x288 with 1 Axes>"
      ]
     },
     "metadata": {},
     "output_type": "display_data"
    }
   ],
   "source": [
    "_,bins,step=pl.hist(sample_mean,bins=100,normed=True,histtype='step',label=u'直方统计图')\n",
    "kde=stats.kde.gaussian_kde(sample_mean)\n",
    "x=np.linspace(bins[0],bins[-1],100)\n",
    "pl.plot(x,kde(x),label=u'核密度估计')\n",
    "mean,std=stats.norm.fit(sample_mean)\n",
    "pl.plot(x,stats.norm(mean,std).pdf(x),alpha=0.8,label=u'正态分布拟合')\n",
    "pl.legend()"
   ]
  },
  {
   "cell_type": "markdown",
   "metadata": {},
   "source": [
    "核密度估计算法是每个数据点放置一条核函数曲线，最终的核密度估计就是所有这些核函数曲线的叠加，gaussian_kde()的核函数为高斯曲线，其中bw_method参数决定了核函数的宽度，即高斯曲线的方差。bw_method参数可以是以下几种情形：\n",
    "- 当为'scott','silverman'时将采用相应的公式根据数据个数和维数决定核函数的宽度系数\n",
    "- 当为函数时，将调用此函数计算曲线宽度系数，函数的参数为gaussian_kde对象\n",
    "- 当为数值时，将直接使用该数值作为宽度系数\n",
    "\n",
    "核函数的方差由数据的方差和宽度系数决定"
   ]
  },
  {
   "cell_type": "code",
   "execution_count": 72,
   "metadata": {},
   "outputs": [
    {
     "data": {
      "text/plain": [
       "<matplotlib.legend.Legend at 0x1b85032b6d8>"
      ]
     },
     "execution_count": 72,
     "metadata": {},
     "output_type": "execute_result"
    },
    {
     "data": {
      "image/png": "[encoded data removed]",
      "text/plain": [
       "<Figure size 432x288 with 1 Axes>"
      ]
     },
     "metadata": {},
     "output_type": "display_data"
    }
   ],
   "source": [
    "for bw in [0.2,0.1]:\n",
    "    kde=stats.gaussian_kde([-1,0,1],bw_method=bw)\n",
    "    x=np.linspace(-5,5,1000)\n",
    "    y=kde(x)\n",
    "    pl.plot(x,y,lw=2,label='bw={}'.format(bw),alpha=0.6)\n",
    "pl.legend(loc='best')"
   ]
  },
  {
   "cell_type": "markdown",
   "metadata": {},
   "source": [
    "## 二项分布，泊松分布，伽马分布\n",
    "### 二项分布"
   ]
  },
  {
   "cell_type": "code",
   "execution_count": 1,
   "metadata": {},
   "outputs": [
    {
     "data": {
      "text/plain": [
       "array([4.01877572e-01, 4.01877572e-01, 1.60751029e-01, 3.21502058e-02,\n",
       "       3.21502058e-03, 1.28600823e-04])"
      ]
     },
     "execution_count": 1,
     "metadata": {},
     "output_type": "execute_result"
    }
   ],
   "source": [
    "from scipy import stats\n",
    "stats.binom.pmf(range(6),5,1/6.0)"
   ]
  },
  {
   "cell_type": "markdown",
   "metadata": {},
   "source": [
    "该结果分别表示出现每个数1-5次的概率"
   ]
  },
  {
   "cell_type": "markdown",
   "metadata": {},
   "source": [
    "### 泊松分布"
   ]
  },
  {
   "cell_type": "code",
   "execution_count": 7,
   "metadata": {},
   "outputs": [
    {
     "data": {
      "text/plain": [
       "<matplotlib.legend.Legend at 0x1ee9e67f860>"
      ]
     },
     "execution_count": 7,
     "metadata": {},
     "output_type": "execute_result"
    },
    {
     "data": {
      "image/png": "[encoded data removed]",
      "text/plain": [
       "<Figure size 432x288 with 1 Axes>"
      ]
     },
     "metadata": {},
     "output_type": "display_data"
    }
   ],
   "source": [
    "import numpy as np\n",
    "import matplotlib.pyplot as pl\n",
    "lambda_=10.0\n",
    "x=np.arange(20)\n",
    "n1,n2=100,1000\n",
    "y_binom_n1=stats.binom.pmf(x,n1,lambda_/n1)\n",
    "y_binom_n2=stats.binom.pmf(x,n2,lambda_/n2)\n",
    "y_possion=stats.poisson.pmf(x,lambda_)\n",
    "pl.plot(x,y_binom_n1,label='n=100')\n",
    "pl.plot(x,y_binom_n2,label='n=1000')\n",
    "pl.plot(x,y_possion,label='possion')\n",
    "pl.legend(loc=\"best\")"
   ]
  },
  {
   "cell_type": "markdown",
   "metadata": {},
   "source": [
    "二项分布足够大时，将会无限接近泊松分布"
   ]
  },
  {
   "cell_type": "markdown",
   "metadata": {},
   "source": [
    "### 伽马分布\n",
    "观察相邻两个事件之间的时间间隔的分布情况，或者隔k个时间的时间间隔的分布情况，根据概率论，事件之间的间隔应该符合伽马分布，由于时间间隔可以是任意数值的，因此伽马分布是连续分布。"
   ]
  },
  {
   "cell_type": "code",
   "execution_count": 8,
   "metadata": {},
   "outputs": [],
   "source": [
    "def sim_gamma(lambda_,time,k):\n",
    "    t=np.random.uniform(0,time,size=time*lambda_)\n",
    "    t.sort()\n",
    "    interval=t[k:]-t[:-k]\n",
    "    dist,interval_edges=np.histogram(interval,bins=100,density=True)\n",
    "    x=(interval_edges[1:]+interval_edges[:-1])/2\n",
    "    gamma=stats.gamma.pdf(x,k,scale=1.0/lambda_)\n",
    "    return x,gamma,dist\n",
    "lambda_=10\n",
    "time=1000\n",
    "ks=1,2\n",
    "x1,gamma1,dist1=sim_gamma(lambda_,time,ks[0])\n",
    "x2,gamma2,dist2=sim_gamma(lambda_,time,ks[1])"
   ]
  },
  {
   "cell_type": "markdown",
   "metadata": {},
   "source": [
    "### 学生分布（t-分布）和t检验\n",
    "从均值为$\\mu$的正态分布中，抽取有n个值的样本，计算样本均值$\\overline{x}$和样本方差s\n",
    "$$\\overline{x}=\\frac{x_1+x_2+...x_n}{n},s^2=\\frac{1}{n-1}\\sum_{i=1}^{n}{(x_i-\\overline{x})^2}$$\n",
    "则$t=\\frac{\\overline{x}-\\mu}{s/\\sqrt{n}}$符合df=n-1的学生t分布，t值是抽选的样本的平均值与整体样本的期望值之差经过正规化之后的数值，可以用来描述抽取的样本与整体样本之间的差异"
   ]
  },
  {
   "cell_type": "code",
   "execution_count": 10,
   "metadata": {},
   "outputs": [
    {
     "name": "stdout",
     "output_type": "stream",
     "text": [
      "max_error: 0.03503995452176545\n"
     ]
    }
   ],
   "source": [
    "mu=0.0\n",
    "n=10\n",
    "samples=stats.norm(mu).rvs(size=(10000,n))\n",
    "t_samples=(np.mean(samples,axis=1)-mu)/np.std(samples,ddof=1,axis=1)*n**0.5\n",
    "sample_dist,x=np.histogram(t_samples,bins=100,density=True)\n",
    "x=0.5*(x[:-1]+x[1:])\n",
    "t_dist=stats.t(n-1).pdf(x)\n",
    "print(\"max_error:\",np.max(np.abs(sample_dist-t_dist)))"
   ]
  },
  {
   "cell_type": "markdown",
   "metadata": {},
   "source": [
    "使用t检验来检验零假设"
   ]
  },
  {
   "cell_type": "code",
   "execution_count": 11,
   "metadata": {},
   "outputs": [
    {
     "name": "stdout",
     "output_type": "stream",
     "text": [
      "2.658584340882224 Ttest_1sampResult(statistic=2.658584340882224, pvalue=0.01263770225709123)\n"
     ]
    }
   ],
   "source": [
    "n=30\n",
    "np.random.seed(42)\n",
    "s=stats.norm.rvs(loc=1,scale=0.8,size=n)\n",
    "t=(np.mean(s)-0.5)/np.std(s,ddof=1)*n**0.5\n",
    "print(t,stats.ttest_1samp(s,0.5))"
   ]
  },
  {
   "cell_type": "markdown",
   "metadata": {},
   "source": [
    "ttest_lsamp返回的第一个是t值，第二个是p值"
   ]
  },
  {
   "cell_type": "markdown",
   "metadata": {},
   "source": [
    "### 卡方分布和卡方检验\n",
    "卡方分布是概率论和统计学中常用的一种概率分布，K个独立的标准正态分布变量的平方和服从自由度为k的卡方分布。"
   ]
  },
  {
   "cell_type": "code",
   "execution_count": 13,
   "metadata": {},
   "outputs": [
    {
     "name": "stdout",
     "output_type": "stream",
     "text": [
      "max_error: 0.0026251381501953552\n"
     ]
    }
   ],
   "source": [
    "a=np.random.normal(size=(300000,4))\n",
    "cs=np.sum(a**2,axis=1)\n",
    "sample_dist,bins=np.histogram(cs,bins=100,range=(0,20),density=True)\n",
    "x=0.5*(bins[:-1]+bins[1:])#求分组区间的均值\n",
    "chi2_dist=stats.chi2.pdf(x,4)\n",
    "print(\"max_error:\",np.max(np.max(sample_dist-chi2_dist)))"
   ]
  },
  {
   "cell_type": "markdown",
   "metadata": {},
   "source": [
    "卡方检验"
   ]
  },
  {
   "cell_type": "code",
   "execution_count": 25,
   "metadata": {},
   "outputs": [
    {
     "name": "stdout",
     "output_type": "stream",
     "text": [
      "chi1=11.375,p1=0.022657601239769634\n",
      "chi2=2.55,p2=0.6357054527037017\n"
     ]
    }
   ],
   "source": [
    "def choose_ball(ps,size):\n",
    "    r=stats.rv_discrete(values=(range(len(ps)),ps))\n",
    "    s=r.rvs(size=size)\n",
    "    counts=np.bincount(s)\n",
    "    return counts\n",
    "np.random.seed(42)\n",
    "counts1=choose_ball([0.18,0.24,0.25,0.16,0.17],400)\n",
    "counts2=choose_ball([0.2]*5,400)\n",
    "\n",
    "chi1,p1=stats.chisquare(counts1)\n",
    "chi2,p2=stats.chisquare(counts2)\n",
    "print('chi1={},p1={}'.format(chi1,p1))\n",
    "print('chi2={},p2={}'.format(chi2,p2))"
   ]
  },
  {
   "cell_type": "markdown",
   "metadata": {},
   "source": [
    "## 数值积分\n",
    "### 球的体积"
   ]
  },
  {
   "cell_type": "code",
   "execution_count": 33,
   "metadata": {},
   "outputs": [
    {
     "name": "stdout",
     "output_type": "stream",
     "text": [
      "圆面积为： 3.141592653589797\n",
      "体积为 2.094395102393199\n"
     ]
    }
   ],
   "source": [
    "def half_circle(x):\n",
    "    return (1-x**2)**0.5\n",
    "def half_sphere(x,y):\n",
    "    return (1-x**2-y**2)**0.5\n",
    "from scipy import integrate\n",
    "pi_half,err=integrate.quad(half_circle,-1,1)\n",
    "s=pi_half*2\n",
    "print('圆面积为：',s)\n",
    "\n",
    "volume,err=integrate.dblquad(half_sphere,-1,1,lambda x:-half_circle(x),lambda x:half_circle(x))#后面两个lambda函数指定y的取值范围\n",
    "print(\"体积为\",volume)"
   ]
  },
  {
   "cell_type": "markdown",
   "metadata": {},
   "source": [
    "### 解常微分方程\n",
    "integrate模块还提供了对常微分方程组进行积分的函数odeint()，下面讲解如果用odeint()计算洛伦茨吸引子的轨迹，洛伦茨吸引子由下面的三个微分方程定义\n",
    "$$\\frac{dx}{dt}=\\sigma(y-x),\\frac{dy}{dt}=x(\\rho-z)-y,\\frac{dz}{dt}=xy-\\beta*z$$\n",
    "\n",
    "odeint()有许多的参数，这里用到的4个参数主要是：\n",
    "- lorenz:它是计算某个位置上的各个方向的速度的函数\n",
    "- （x,y,z）：位置初始值，他是计算常微分方程所需的各个变量的初始值\n",
    "- t:表示时间的数组，odeint()对此数组中的每个时间点进行求解，得出所有时间点的位置\n",
    "- args:这些参数直接传递给lorenz，因此他们在整个积分过程中都是常量"
   ]
  },
  {
   "cell_type": "code",
   "execution_count": 34,
   "metadata": {},
   "outputs": [],
   "source": [
    "from scipy.integrate import odeint\n",
    "def lorenz(w,t,p,r,b):\n",
    "    #给出位置矢量w和三个参数p,r,b\n",
    "    #计算出dx/dt,dy/dt,dz/dt的值\n",
    "    x,y,z=w.tolist()\n",
    "    #直接与洛伦兹公式对应\n",
    "    return p*(y-x),x*(r-z)-y,x*y-b*z\n",
    "t=np.arange(0,30,0.02)#创建时间点\n",
    "#调用ode对lorenz求解\n",
    "track1=odeint(lorenz,(0.0,1.00,0.0),t,args=(10.0,28.0,3.0))\n",
    "track2=odeint(lorenz,(0.0,1.01,0.0),t,args=(10.0,28.0,3.0))"
   ]
  },
  {
   "cell_type": "markdown",
   "metadata": {},
   "source": [
    "### ode类\n",
    "使用odeint(）可以很方便的计算微分方程组的数值解，只需要调用一次odeint（）就能计算出一组时间点上的系统状态。"
   ]
  },
  {
   "cell_type": "code",
   "execution_count": 36,
   "metadata": {},
   "outputs": [],
   "source": [
    "def mass_spring_damper(xu,t,m,k,b,F):\n",
    "    x,u=xu.tolist()\n",
    "    dx=u\n",
    "    du=(F-k*x-b*u)/m\n",
    "    return dx,du\n",
    "m,b,k,F=1.0,10.0,20.0,1.0\n",
    "args=m,b,k,F\n",
    "init_status=0.0,0.0\n",
    "t=np.arange(0,2,0.02)\n",
    "result=odeint(mass_spring_damper,init_status,t,args)"
   ]
  }
 ],
 "metadata": {
  "kernelspec": {
   "display_name": "Python 3",
   "language": "python",
   "name": "python3"
  },
  "language_info": {
   "codemirror_mode": {
    "name": "ipython",
    "version": 3
   },
   "file_extension": ".py",
   "mimetype": "text/x-python",
   "name": "python",
   "nbconvert_exporter": "python",
   "pygments_lexer": "ipython3",
   "version": "3.6.3"
  },
  "latex_envs": {
   "LaTeX_envs_menu_present": true,
   "autoclose": false,
   "autocomplete": true,
   "bibliofile": "biblio.bib",
   "cite_by": "apalike",
   "current_citInitial": 1,
   "eqLabelWithNumbers": true,
   "eqNumInitial": 1,
   "hotkeys": {
    "equation": "Ctrl-E",
    "itemize": "Ctrl-I"
   },
   "labels_anchors": false,
   "latex_user_defs": false,
   "report_style_numbering": false,
   "user_envs_cfg": false
  },
  "toc": {
   "base_numbering": 1,
   "nav_menu": {},
   "number_sections": true,
   "sideBar": true,
   "skip_h1_title": false,
   "title_cell": "Table of Contents",
   "title_sidebar": "Contents",
   "toc_cell": false,
   "toc_position": {},
   "toc_section_display": true,
   "toc_window_display": true
  }
 },
 "nbformat": 4,
 "nbformat_minor": 2
}
