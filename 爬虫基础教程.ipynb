{
 "cells": [
  {
   "cell_type": "markdown",
   "metadata": {
    "slideshow": {
     "slide_type": "slide"
    }
   },
   "source": [
    "# Python基础教程"
   ]
  },
  {
   "cell_type": "markdown",
   "metadata": {},
   "source": [
    "## Python环境搭建\n",
    "\n",
    "1. 可以到1 可以到 www.python.org 下载安装包，然后通过configure、make、make install进行安装。\n",
    "\n",
    "2.  也可以到www.activestate.com 去下载ActivePython组件包。(ActivePython是对Python核心和常用模块的二进制包装，它是ActiveState公司发布的Python开发环境。ActivePython使得Python的安装更加容易，并且可以应用在各种操作系统上。ActivePython包含了一些常用的Python扩展，以及Windows环境的编程接口)。对ActivePython来说，如果你是windows用户，下载msi包安装即可；如果你是Unix用户，下载tar.gz包直接解压即可。\n",
    "\n",
    "3.  Python的IDE，包括PythonWin、Eclipse+PyDev插件、Komodo、EditPlus\n",
    "\n"
   ]
  },
  {
   "cell_type": "markdown",
   "metadata": {
    "collapsed": true
   },
   "source": [
    "## Python 基础操作"
   ]
  },
  {
   "cell_type": "markdown",
   "metadata": {},
   "source": [
    "Python是一种动态解释型的编程语言。Python可以在Windows、UNIX、MAC等多种操作系统上使用，也可以在Java、.NET开发平台上使用。"
   ]
  },
  {
   "cell_type": "markdown",
   "metadata": {
    "scrolled": true
   },
   "source": [
    "1.  python中的变量不需要声明，变量的赋值操作即使变量声明和定义的过程。\n",
    "\n",
    "2. python中一次新的赋值，将创建一个新的变量。即使变量的名称相同，变量的标识并不相同。用id()函数可以获取变量标识："
   ]
  },
  {
   "cell_type": "code",
   "execution_count": null,
   "metadata": {},
   "outputs": [],
   "source": [
    "x = 1\n",
    "print(id(x))\n",
    "x = 2\n",
    "print(id(x))"
   ]
  },
  {
   "cell_type": "markdown",
   "metadata": {
    "collapsed": true
   },
   "source": [
    "<span class=\"burk\">3. 如果变量没有赋值，则python认为该变量不存在</span>\n",
    "\n",
    "4 在函数之外定义的变量都可以称为全局变量。全局变量可以被文件内部的任何函数和外部文件访问。\n",
    "\n",
    "5 全局变量建议在文件的开头定义。\n",
    "\n",
    "6 也可以把全局变量放到一个专门的文件中，然后通过import来引用：\n"
   ]
  },
  {
   "cell_type": "markdown",
   "metadata": {},
   "source": [
    "## 数据类型"
   ]
  },
  {
   "cell_type": "markdown",
   "metadata": {},
   "source": [
    "1 python的数字类型分为整型、长整型、浮点型、布尔型、复数类型。\n",
    "\n",
    "2 python没有字符类型\n",
    "\n",
    "3 python内部没有普通类型，任何类型都是对象。\n",
    "\n",
    "4 如果需要查看变量的类型，可以使用type类，该类可以返回变量的类型或创建一个新的类型。\n",
    "\n",
    "5 python有3种表示字符串类型的方式，即单引号、双引号、三引号。单引号和双引号的作用是相同的。python程序员更喜欢用单引号，C/Java程序员则习惯使用双引号表示字符串。三引号中可以输入单引号、双引号或换行等字符。"
   ]
  },
  {
   "cell_type": "code",
   "execution_count": 2,
   "metadata": {},
   "outputs": [
    {
     "name": "stdout",
     "output_type": "stream",
     "text": [
      "<class 'complex'>\n",
      "<class 'str'>\n"
     ]
    }
   ],
   "source": [
    "x=10+5j #定义复数类型\n",
    "print(type(x))\n",
    "x='爬虫'\n",
    "print(type(x))\n",
    "y=True #定义布尔类型"
   ]
  },
  {
   "cell_type": "markdown",
   "metadata": {},
   "source": [
    "##  运算符和表达式"
   ]
  },
  {
   "cell_type": "markdown",
   "metadata": {},
   "source": [
    "1 python不支持自增运算符和自减运算符。例如i++/i-是错误的，但i+=1是可以的。\n",
    "\n",
    "2 1/2在python2.5之前会等于0.5，在python2.5之后会等于0。\n",
    "\n",
    "3 不等于为!=或<>\n",
    "\n",
    "4 等于用==表示\n",
    "\n",
    "5 逻辑表达式中and表示逻辑与，or表示逻辑或，not表示逻辑非"
   ]
  },
  {
   "cell_type": "code",
   "execution_count": 6,
   "metadata": {},
   "outputs": [
    {
     "name": "stdout",
     "output_type": "stream",
     "text": [
      "爬虫\n"
     ]
    }
   ],
   "source": [
    "a='爬'+'虫'\n",
    "print(a)"
   ]
  },
  {
   "cell_type": "markdown",
   "metadata": {},
   "source": [
    "## 控制语句"
   ]
  },
  {
   "cell_type": "markdown",
   "metadata": {},
   "source": [
    "1 条件语句："
   ]
  },
  {
   "cell_type": "code",
   "execution_count": null,
   "metadata": {},
   "outputs": [],
   "source": [
    "if (表达式) :\n",
    "    语句1\n",
    "else :\n",
    "    语句2\n",
    "----------------------------\n",
    "if (表达式) :\n",
    "  语句1\n",
    "elif (表达式) :\n",
    "  语句2\n",
    "…\n",
    "elif (表达式) :\n",
    "  语句n\n",
    "else :b\n",
    "  语句m"
   ]
  },
  {
   "cell_type": "code",
   "execution_count": null,
   "metadata": {},
   "outputs": [],
   "source": []
  },
  {
   "cell_type": "markdown",
   "metadata": {},
   "source": [
    "2.while循环"
   ]
  },
  {
   "cell_type": "code",
   "execution_count": null,
   "metadata": {},
   "outputs": [],
   "source": [
    "while True :\n",
    "   …\n",
    "else :\n",
    "   …"
   ]
  },
  {
   "cell_type": "markdown",
   "metadata": {},
   "source": [
    "3.for循环"
   ]
  },
  {
   "cell_type": "code",
   "execution_count": null,
   "metadata": {},
   "outputs": [],
   "source": [
    "for 变量 in 集合 :\n",
    "   …\n",
    "else :\n",
    "   …"
   ]
  },
  {
   "cell_type": "markdown",
   "metadata": {},
   "source": [
    "## 数组相关"
   ]
  },
  {
   "cell_type": "markdown",
   "metadata": {},
   "source": [
    "1 元组(tuple)：python中一种内置的数据结构。元组由不同的元素组成，每个元素可以存储不同类型的数据，如字符串、数字甚至元素。元组是写保护的，即元组创建之后不能再修改。元组往往代表一行数据，而元组中的元素代表不同的数据项。可以把元组看做不可修改的数组。创建元组示例如下："
   ]
  },
  {
   "cell_type": "code",
   "execution_count": 23,
   "metadata": {},
   "outputs": [
    {
     "name": "stdout",
     "output_type": "stream",
     "text": [
      "('a1', 'a2')\n",
      "('a1', 'a2', 'a3') <class 'tuple'>\n"
     ]
    }
   ],
   "source": [
    "array1=('a1','a2','a3')\n",
    "print(array1[0:2])\n",
    "print(array1,type(array1))"
   ]
  },
  {
   "cell_type": "markdown",
   "metadata": {},
   "source": [
    "2 列表(list)：列表和元组相似，也由一组元素组成，列表可以实现添加、删除和查找操作，元素的值可以被修改。列表是传统意义上的数组。列表创建示例如下："
   ]
  },
  {
   "cell_type": "code",
   "execution_count": 21,
   "metadata": {},
   "outputs": [
    {
     "name": "stdout",
     "output_type": "stream",
     "text": [
      "['apple', 'banana']\n",
      "['apple', 'banana', 'grage', 'orange'] <class 'list'>\n"
     ]
    }
   ],
   "source": [
    "list1=['apple','banana','grage','orange']\n",
    "print(list1[0:2])\n",
    "print(list1,type(list1))"
   ]
  },
  {
   "cell_type": "markdown",
   "metadata": {},
   "source": [
    "3 字典(dictionary)：由键-值对组成的集合，字典中的值通过键来引用。键和值之间用冒号隔开，键-值对之间用逗号隔开，并且被包含在一对花括号中。创建示例如下"
   ]
  },
  {
   "cell_type": "code",
   "execution_count": 13,
   "metadata": {},
   "outputs": [
    {
     "name": "stdout",
     "output_type": "stream",
     "text": [
      "{'a': 'apple', 'b': 'banana', 'g': 'grage', 'o': 'orange'} \n",
      " <class 'dict'>\n",
      "banana\n",
      "dict_keys(['a', 'b', 'g', 'o'])\n",
      "dict_values(['apple', 'banana', 'grage', 'orange'])\n",
      "dict_items([('a', 'apple'), ('b', 'banana'), ('g', 'grage'), ('o', 'orange')])\n"
     ]
    }
   ],
   "source": [
    "dict1={'a':'apple', 'b':'banana', 'g':'grage', 'o':'orange'}\n",
    "print(dict1,'\\n',type(dict1))\n",
    "print(dict1['b'])\n",
    "print(dict1.keys())\n",
    "print(dict1.values())\n",
    "print(dict1.items())"
   ]
  },
  {
   "cell_type": "markdown",
   "metadata": {},
   "source": [
    "## 函数相关"
   ]
  },
  {
   "cell_type": "markdown",
   "metadata": {},
   "source": [
    "1 python程序由包(package)、模块(module)和函数组成。包是由一系列模块组成的集合。模块是处理某一类问题的函数和类的集合。\n",
    "\n",
    "2 包就是一个完成特定任务的工具箱。\n",
    "\n",
    "3 包必须含有一个\\__init__.py文件，它用于标识当前文件夹是一个包。\n",
    "\n",
    "4 python的程序是由一个个模块组成的。模块把一组相关的函数或代码组织到一个文件中，一个文件即是一个模块。模块由代码、\n",
    "函数和类组成。导入模块使用import语句。\n",
    "\n",
    "5 包的作用是实现程序的重用。\n",
    "\n",
    "6 函数是一段可以重复多次调用的代码，函数定义示例如下："
   ]
  },
  {
   "cell_type": "code",
   "execution_count": 18,
   "metadata": {},
   "outputs": [
    {
     "name": "stdout",
     "output_type": "stream",
     "text": [
      "<class 'str'>\n",
      "17\n"
     ]
    }
   ],
   "source": [
    "def arithmetic(x,y,operator):\n",
    "    print(type(operator))\n",
    "    operator=str(operator)\n",
    "    result={\n",
    "      '+':x+y,\n",
    "      '-':x-y,\n",
    "      '*':x*y,\n",
    "      '/':x/y\n",
    "   }\n",
    "    return result[operator]\n",
    "print(arithmetic(8,9,'+'))"
   ]
  },
  {
   "cell_type": "code",
   "execution_count": 17,
   "metadata": {},
   "outputs": [
    {
     "name": "stdout",
     "output_type": "stream",
     "text": [
      "17\n"
     ]
    }
   ],
   "source": [
    "def arm(x,y):\n",
    "    z=x+y\n",
    "    return z\n",
    "print(arm(8,9))"
   ]
  },
  {
   "cell_type": "markdown",
   "metadata": {},
   "source": [
    "## 字符串相关"
   ]
  },
  {
   "cell_type": "markdown",
   "metadata": {},
   "source": [
    "1.格式化输出"
   ]
  },
  {
   "cell_type": "code",
   "execution_count": 14,
   "metadata": {},
   "outputs": [
    {
     "name": "stdout",
     "output_type": "stream",
     "text": [
      "Hello 2018\n"
     ]
    }
   ],
   "source": [
    "str1='Hello'\n",
    "num=2018\n",
    "format='%s %d' % (str1,num)\n",
    "print(format)"
   ]
  },
  {
   "cell_type": "markdown",
   "metadata": {},
   "source": [
    "2.运用字符串进行合并"
   ]
  },
  {
   "cell_type": "code",
   "execution_count": 19,
   "metadata": {},
   "outputs": [
    {
     "name": "stdout",
     "output_type": "stream",
     "text": [
      "helloworld\n"
     ]
    }
   ],
   "source": [
    "str1='hello'\n",
    "str2='world'\n",
    "result=str1+str2\n",
    "print(result)"
   ]
  },
  {
   "cell_type": "markdown",
   "metadata": {},
   "source": [
    "3 字符串截取可以通过索引/切片，也可以通过split函数。\n",
    "4 通过切片截取字符串："
   ]
  },
  {
   "cell_type": "code",
   "execution_count": 24,
   "metadata": {},
   "outputs": [
    {
     "name": "stdout",
     "output_type": "stream",
     "text": [
      "['wo', 'ld']\n",
      "wor\n"
     ]
    }
   ],
   "source": [
    "word='world'\n",
    "print(word.split('r'))\n",
    "print(word[0:3])"
   ]
  },
  {
   "cell_type": "markdown",
   "metadata": {},
   "source": [
    "## 文件处理"
   ]
  },
  {
   "cell_type": "markdown",
   "metadata": {},
   "source": [
    "1.文件的简单处理"
   ]
  },
  {
   "cell_type": "code",
   "execution_count": 25,
   "metadata": {},
   "outputs": [],
   "source": [
    "context=\"hello,world\"\n",
    "f=open('hello.txt',\"w\")\n",
    "f.write(context)\n",
    "f.close()"
   ]
  },
  {
   "cell_type": "markdown",
   "metadata": {},
   "source": [
    "2 读取文件可以使用readline()函数、readlines()函数和read函数。\n",
    "\n",
    "3 写入文件可以使用write()、writelines()函数"
   ]
  },
  {
   "cell_type": "code",
   "execution_count": 26,
   "metadata": {},
   "outputs": [
    {
     "name": "stdout",
     "output_type": "stream",
     "text": [
      "阿的事发时的发送到发撒地方\n"
     ]
    }
   ],
   "source": [
    "f=open('example.txt',\"r\")\n",
    "content=f.read()\n",
    "print(content)\n",
    "f.close()"
   ]
  },
  {
   "cell_type": "markdown",
   "metadata": {},
   "source": []
  },
  {
   "cell_type": "markdown",
   "metadata": {},
   "source": [
    "# 爬虫"
   ]
  },
  {
   "cell_type": "markdown",
   "metadata": {},
   "source": [
    "首先，我们要知道，每一个网页都是一份 HTML文档，全称叫 hypertext markup language，是一种文本标记语言，他长的就像这样：\n",
    "```html\n",
    "<html>\n",
    "    <head>\n",
    "        <title>首页</title>\n",
    "    </head>\n",
    "    <body>\n",
    "        <h1>我是标题</h1>\n",
    "        <img src=\"xxx\">\n",
    "    </body>\n",
    "</html>\n",
    "```\n",
    "由上，我们可以看出，这是一份很有规则的文档b写法\n",
    "\n",
    "我们打开一个网页，即是通过了 HTTP协议，对一个资源进行了请求，如何他返还你一份 HTML文档，然后浏览器进行文档的渲染，这样，你就看到一份美丽的网页啦\n",
    "\n",
    "所以，我们只需要模拟浏览器，发送一份请求，获得这份文档，再抽取出我们需要的内容就好"
   ]
  },
  {
   "cell_type": "markdown",
   "metadata": {},
   "source": [
    "## 相关库 "
   ]
  },
  {
   "cell_type": "markdown",
   "metadata": {},
   "source": [
    "1. urllib库\n",
    "2. requests库\n",
    "3. json库\n",
    "4. sys库\n",
    "5. thread库"
   ]
  },
  {
   "cell_type": "code",
   "execution_count": 36,
   "metadata": {},
   "outputs": [
    {
     "ename": "TypeError",
     "evalue": "'int' object is not callable",
     "output_type": "error",
     "traceback": [
      "\u001b[1;31m---------------------------------------------------------------------------\u001b[0m",
      "\u001b[1;31mTypeError\u001b[0m                                 Traceback (most recent call last)",
      "\u001b[1;32m<ipython-input-36-53281fa91f78>\u001b[0m in \u001b[0;36m<module>\u001b[1;34m()\u001b[0m\n\u001b[0;32m      2\u001b[0m \u001b[1;33m\u001b[0m\u001b[0m\n\u001b[0;32m      3\u001b[0m \u001b[0mresponse\u001b[0m\u001b[1;33m=\u001b[0m\u001b[0mrequests\u001b[0m\u001b[1;33m.\u001b[0m\u001b[0mget\u001b[0m\u001b[1;33m(\u001b[0m\u001b[1;34m'https://www.baidu.com'\u001b[0m\u001b[1;33m)\u001b[0m\u001b[1;33m\u001b[0m\u001b[0m\n\u001b[1;32m----> 4\u001b[1;33m \u001b[0mprint\u001b[0m\u001b[1;33m(\u001b[0m\u001b[0mresponse\u001b[0m\u001b[1;33m.\u001b[0m\u001b[0mstatus_code\u001b[0m\u001b[1;33m(\u001b[0m\u001b[1;33m)\u001b[0m\u001b[1;33m)\u001b[0m\u001b[1;33m\u001b[0m\u001b[0m\n\u001b[0m\u001b[0;32m      5\u001b[0m \u001b[0mcontent\u001b[0m\u001b[1;33m=\u001b[0m\u001b[0mresponse\u001b[0m\u001b[1;33m.\u001b[0m\u001b[0mtext\u001b[0m\u001b[1;33m(\u001b[0m\u001b[1;33m)\u001b[0m\u001b[1;33m\u001b[0m\u001b[0m\n\u001b[0;32m      6\u001b[0m \u001b[0mprint\u001b[0m\u001b[1;33m(\u001b[0m\u001b[0mtype\u001b[0m\u001b[1;33m(\u001b[0m\u001b[0mcontent\u001b[0m\u001b[1;33m)\u001b[0m\u001b[1;33m)\u001b[0m\u001b[1;33m\u001b[0m\u001b[0m\n",
      "\u001b[1;31mTypeError\u001b[0m: 'int' object is not callable"
     ]
    }
   ],
   "source": [
    "import requests\n",
    "\n",
    "response=requests.get('https://www.baidu.com')\n",
    "content=response.text()\n",
    "print(type(content))\n",
    "print(content)"
   ]
  },
  {
   "cell_type": "markdown",
   "metadata": {},
   "source": [
    "## requests库"
   ]
  },
  {
   "cell_type": "markdown",
   "metadata": {},
   "source": [
    "Requests是用python语言基于urllib编写的，采用的是Apache2 Licensed开源协议的HTTP库\n",
    "如果你看过上篇文章关于urllib库的使用，你会发现，其实urllib还是非常不方便的，而Requests它会比urllib更加方便，可以节约我们大量的工作。（用了requests之后，你基本都不愿意用urllib了）一句话，requests是python实现的最简单易用的HTTP库，建议爬虫使用requests库。\n",
    "\n",
    "默认安装好python之后，是没有安装requests模块的，需要单独通过pip安装"
   ]
  },
  {
   "cell_type": "markdown",
   "metadata": {},
   "source": [
    "## 总体功能演示"
   ]
  },
  {
   "cell_type": "code",
   "execution_count": null,
   "metadata": {},
   "outputs": [],
   "source": [
    "import requests\n",
    "\n",
    "response  = requests.get(\"https://www.baidu.com\")\n",
    "print(type(response))\n",
    "print(response.status_code)\n",
    "print(type(response.text))\n",
    "print(response.text)\n",
    "print(response.cookies)\n",
    "print(response.content)\n",
    "print(response.content.decode(\"utf-8\"))"
   ]
  },
  {
   "cell_type": "markdown",
   "metadata": {},
   "source": [
    "我们可以看出response使用起来确实非常方便，这里有个问题需要注意一下：\n",
    "很多情况下的网站如果直接response.text会出现乱码的问题，所以这个使用response.content\n",
    "这样返回的数据格式其实是二进制格式，然后通过decode()转换为utf-8，这样就解决了通过response.text直接返回显示乱码的问题.\n",
    "\n",
    "请求发出后，Requests 会基于 HTTP 头部对响应的编码作出有根据的推测。当你访问 response.text 之时，Requests 会使用其推测的文本编码。你可以找出 Requests 使用了什么编码，并且能够使用 response.encoding 属性来改变它.如：\n"
   ]
  },
  {
   "cell_type": "code",
   "execution_count": 37,
   "metadata": {},
   "outputs": [
    {
     "name": "stdout",
     "output_type": "stream",
     "text": [
      "<!DOCTYPE html>\r\n",
      "<!--STATUS OK--><html> <head><meta http-equiv=content-type content=text/html;charset=utf-8><meta http-equiv=X-UA-Compatible content=IE=Edge><meta content=always name=referrer><link rel=stylesheet type=text/css href=http://s1.bdstatic.com/r/www/cache/bdorz/baidu.min.css><title>百度一下，你就知道</title></head> <body link=#0000cc> <div id=wrapper> <div id=head> <div class=head_wrapper> <div class=s_form> <div class=s_form_wrapper> <div id=lg> <img hidefocus=true src=//www.baidu.com/img/bd_logo1.png width=270 height=129> </div> <form id=form name=f action=//www.baidu.com/s class=fm> <input type=hidden name=bdorz_come value=1> <input type=hidden name=ie value=utf-8> <input type=hidden name=f value=8> <input type=hidden name=rsv_bp value=1> <input type=hidden name=rsv_idx value=1> <input type=hidden name=tn value=baidu><span class=\"bg s_ipt_wr\"><input id=kw name=wd class=s_ipt value maxlength=255 autocomplete=off autofocus></span><span class=\"bg s_btn_wr\"><input type=submit id=su value=百度一下 class=\"bg s_btn\"></span> </form> </div> </div> <div id=u1> <a href=http://news.baidu.com name=tj_trnews class=mnav>新闻</a> <a href=http://www.hao123.com name=tj_trhao123 class=mnav>hao123</a> <a href=http://map.baidu.com name=tj_trmap class=mnav>地图</a> <a href=http://v.baidu.com name=tj_trvideo class=mnav>视频</a> <a href=http://tieba.baidu.com name=tj_trtieba class=mnav>贴吧</a> <noscript> <a href=http://www.baidu.com/bdorz/login.gif?login&amp;tpl=mn&amp;u=http%3A%2F%2Fwww.baidu.com%2f%3fbdorz_come%3d1 name=tj_login class=lb>登录</a> </noscript> <script>document.write('<a href=\"http://www.baidu.com/bdorz/login.gif?login&tpl=mn&u='+ encodeURIComponent(window.location.href+ (window.location.search === \"\" ? \"?\" : \"&\")+ \"bdorz_come=1\")+ '\" name=\"tj_login\" class=\"lb\">登录</a>');</script> <a href=//www.baidu.com/more/ name=tj_briicon class=bri style=\"display: block;\">更多产品</a> </div> </div> </div> <div id=ftCon> <div id=ftConw> <p id=lh> <a href=http://home.baidu.com>关于百度</a> <a href=http://ir.baidu.com>About Baidu</a> </p> <p id=cp>&copy;2017&nbsp;Baidu&nbsp;<a href=http://www.baidu.com/duty/>使用百度前必读</a>&nbsp; <a href=http://jianyi.baidu.com/ class=cp-feedback>意见反馈</a>&nbsp;京ICP证030173号&nbsp; <img src=//www.baidu.com/img/gs.gif> </p> </div> </div> </div> </body> </html>\r\n",
      "\n"
     ]
    }
   ],
   "source": [
    "response =requests.get(\"http://www.baidu.com\")\n",
    "response.encoding=\"utf-8\"\n",
    "print(response.text)"
   ]
  },
  {
   "cell_type": "markdown",
   "metadata": {},
   "source": [
    "## 发起请求"
   ]
  },
  {
   "cell_type": "markdown",
   "metadata": {},
   "source": [
    "### 基本GET请求"
   ]
  },
  {
   "cell_type": "code",
   "execution_count": 2,
   "metadata": {},
   "outputs": [
    {
     "name": "stdout",
     "output_type": "stream",
     "text": [
      "{\n",
      "  \"args\": {}, \n",
      "  \"headers\": {\n",
      "    \"Accept\": \"*/*\", \n",
      "    \"Accept-Encoding\": \"gzip, deflate\", \n",
      "    \"Connection\": \"close\", \n",
      "    \"Host\": \"httpbin.org\", \n",
      "    \"User-Agent\": \"python-requests/2.18.4\"\n",
      "  }, \n",
      "  \"origin\": \"124.207.151.211\", \n",
      "  \"url\": \"http://httpbin.org/get\"\n",
      "}\n",
      "\n"
     ]
    }
   ],
   "source": [
    "import requests\n",
    "\n",
    "response = requests.get('http://httpbin.org/get')\n",
    "print(response.text)"
   ]
  },
  {
   "cell_type": "markdown",
   "metadata": {},
   "source": [
    "如果我们想要在URL查询字符串传递数据，通常我们会通过 httpbin.org/get?key=val 方式传递。Requests模块允许使用params关键字传递参数，以一个字典来传递这些参数，例子如下："
   ]
  },
  {
   "cell_type": "code",
   "execution_count": 17,
   "metadata": {},
   "outputs": [
    {
     "name": "stdout",
     "output_type": "stream",
     "text": [
      "http://httpbin.org/get?name=zhaofan&age=22\n",
      "{\n",
      "  \"args\": {\n",
      "    \"age\": \"22\", \n",
      "    \"name\": \"zhaofan\"\n",
      "  }, \n",
      "  \"headers\": {\n",
      "    \"Accept\": \"*/*\", \n",
      "    \"Accept-Encoding\": \"gzip, deflate\", \n",
      "    \"Connection\": \"close\", \n",
      "    \"Host\": \"httpbin.org\", \n",
      "    \"User-Agent\": \"python-requests/2.18.4\"\n",
      "  }, \n",
      "  \"origin\": \"124.207.151.165\", \n",
      "  \"url\": \"http://httpbin.org/get?name=zhaofan&age=22\"\n",
      "}\n",
      "\n"
     ]
    }
   ],
   "source": [
    "import requests\n",
    "data = {\n",
    "    \"name\":\"zhaofan\",\n",
    "    \"age\":22\n",
    "}\n",
    "response = requests.get(\"http://httpbin.org/get\",params=data)\n",
    "print(response.url)\n",
    "print(response.text)"
   ]
  },
  {
   "cell_type": "markdown",
   "metadata": {},
   "source": [
    "#### 解析json"
   ]
  },
  {
   "cell_type": "code",
   "execution_count": 5,
   "metadata": {},
   "outputs": [
    {
     "name": "stdout",
     "output_type": "stream",
     "text": [
      "{'args': {}, 'headers': {'Accept': '*/*', 'Accept-Encoding': 'gzip, deflate', 'Connection': 'close', 'Host': 'httpbin.org', 'User-Agent': 'python-requests/2.18.4'}, 'origin': '124.207.151.211', 'url': 'http://httpbin.org/get'}\n",
      "dict_keys(['args', 'headers', 'origin', 'url'])\n"
     ]
    }
   ],
   "source": [
    "import requests\n",
    "import json\n",
    "\n",
    "response = requests.get(\"http://httpbin.org/get\")\n",
    "print(response.json())\n",
    "res_dic=response.json()\n",
    "print(res_dic.keys())"
   ]
  },
  {
   "cell_type": "markdown",
   "metadata": {},
   "source": [
    "从结果可以看出requests里面集成的json其实就是执行了json.loads()方法，两者的结果是一样的"
   ]
  },
  {
   "cell_type": "markdown",
   "metadata": {},
   "source": [
    "#### 获取二进制数据"
   ]
  },
  {
   "cell_type": "markdown",
   "metadata": {},
   "source": [
    "在上面提到了response.content，这样获取的数据是二进制数据，同样的这个方法也可以用于下载图片以及\n",
    "视频资源"
   ]
  },
  {
   "cell_type": "markdown",
   "metadata": {},
   "source": [
    "#### 定制header"
   ]
  },
  {
   "cell_type": "markdown",
   "metadata": {},
   "source": [
    "我们可以定制headers的信息，如当我们直接通过requests请求知乎网站的时候，默认是无法访问的"
   ]
  },
  {
   "cell_type": "code",
   "execution_count": 10,
   "metadata": {},
   "outputs": [
    {
     "name": "stdout",
     "output_type": "stream",
     "text": [
      "<html><body><h1>500 Server Error</h1>\n",
      "An internal server error occured.\n",
      "</body></html>\n",
      "\n"
     ]
    }
   ],
   "source": [
    "import requests\n",
    "response =requests.get(\"https://www.zhihu.com\")\n",
    "print(response.text)"
   ]
  },
  {
   "cell_type": "code",
   "execution_count": null,
   "metadata": {},
   "outputs": [],
   "source": [
    "import requests\n",
    "headers = {\n",
    "\n",
    "    \"User-Agent\":\"Mozilla/5.0 (Macintosh; Intel Mac OS X 10_12_4) AppleWebKit/537.36 (KHTML, like Gecko) Chrome/58.0.3029.110 Safari/537.36\"\n",
    "}\n",
    "response =requests.get(\"https://www.zhihu.com\",headers=headers)\n",
    "response.encoding=\"utf-8\"\n",
    "print(response.text)"
   ]
  },
  {
   "cell_type": "markdown",
   "metadata": {},
   "source": [
    "### 基本POST请求"
   ]
  },
  {
   "cell_type": "markdown",
   "metadata": {},
   "source": [
    "通过在发送post请求时添加一个data参数，这个data参数可以通过字典构造成，这样\n",
    "对于发送post请求就非常方便"
   ]
  },
  {
   "cell_type": "code",
   "execution_count": null,
   "metadata": {},
   "outputs": [],
   "source": [
    "import requests\n",
    "\n",
    "data = {\n",
    "    \"name\":\"张三\",\n",
    "    \"age\":23\n",
    "}\n",
    "response = requests.post(\"http://httpbin.org/post\",data=data)\n",
    "print(response.text)\n"
   ]
  },
  {
   "cell_type": "markdown",
   "metadata": {},
   "source": [
    "##### 响应"
   ]
  },
  {
   "cell_type": "markdown",
   "metadata": {},
   "source": [
    "我们可以通过response获得很多属性，例子如下"
   ]
  },
  {
   "cell_type": "code",
   "execution_count": null,
   "metadata": {},
   "outputs": [],
   "source": [
    "import requests\n",
    "\n",
    "response = requests.post(\"http://www.baidu.com\")\n",
    "print(type(response.status_code),response.status_code)\n",
    "print(type(response.headers),response.headers)\n",
    "print(type(response.cookies),response.cookies)\n",
    "print(type(response.url),response.url)"
   ]
  },
  {
   "cell_type": "markdown",
   "metadata": {},
   "source": [
    "## 爬虫实例演示——爬取百度图片"
   ]
  },
  {
   "cell_type": "markdown",
   "metadata": {},
   "source": [
    "### 如何爬取？"
   ]
  },
  {
   "cell_type": "markdown",
   "metadata": {},
   "source": [
    "![img](http://on-img.com/chart_image/5ac47c33e4b09bf96adc48ed.png?_=1522826345876)"
   ]
  },
  {
   "cell_type": "markdown",
   "metadata": {},
   "source": [
    "### 定义头部信息"
   ]
  },
  {
   "cell_type": "code",
   "execution_count": 38,
   "metadata": {},
   "outputs": [],
   "source": [
    "import requests,json,time\n",
    "\n",
    "header={\n",
    "'Referer': 'http://image.baidu.com/',\n",
    "'Upgrade-Insecure-Requests': '1',\n",
    "'User-Agent': 'Mozilla/5.0 (Windows NT 10.0; WOW64) AppleWebKit/537.36 (KHTML, like Gecko) Chrome/65.0.3325.181 Safari/537.36'\n",
    "}\n"
   ]
  },
  {
   "cell_type": "markdown",
   "metadata": {},
   "source": [
    "### 获取网页"
   ]
  },
  {
   "cell_type": "code",
   "execution_count": 39,
   "metadata": {},
   "outputs": [],
   "source": [
    "def Get_Img(keyword,pages):\n",
    "    url='https://image.baidu.com/search/acjson?tn=resultjson_com&ipn=rj&ct=201326592&is=&fp=result&queryWord=%s&cl=2&lm=-1&ie=utf-8&oe=utf-8&adpicid=&st=-1&z=&ic=0&word=%s&s=&se=&tab=&width=&height=&face=0&istype=2&qc=&nc=1&fr=&pn=%s&rn=30&gsm=3c&1522746996904='%(keyword,keyword,pages)\n",
    "    response=requests.get(url,headers=header)\n",
    "    content=response.json()\n",
    "    print('已获取网页')\n",
    "    with open('get.json','w') as f:\n",
    "        f.write(json.dumps(content))\n",
    "    return content"
   ]
  },
  {
   "cell_type": "markdown",
   "metadata": {},
   "source": [
    "### 获取字典内的标题和图片链接，并保存到指定文件夹中"
   ]
  },
  {
   "cell_type": "code",
   "execution_count": 40,
   "metadata": {},
   "outputs": [],
   "source": [
    "def Get_Img_URL(content,store_path,pages):\n",
    "    url_dic={}\n",
    "    data=content['data']\n",
    "    for i in range(0, len(data)):\n",
    "        try:\n",
    "            url = data[i]['thumbURL']\n",
    "            title = str(i)\n",
    "        except Exception as e:\n",
    "            print('第%d个元素没有thumbUrl' % i, e)\n",
    "            continue\n",
    "        else:\n",
    "            url_dic[title] = url\n",
    "    for titles in url_dic:\n",
    "        img=requests.get(url_dic[titles],headers=header).content\n",
    "        with open(store_path+'\\\\'+'img%s.jpg'%titles, 'wb') as p:\n",
    "            p.write(img)\n",
    "        time.sleep(0.5)\n",
    "    return print('抓取结束')\n"
   ]
  },
  {
   "cell_type": "markdown",
   "metadata": {},
   "source": [
    "### 执行函数"
   ]
  },
  {
   "cell_type": "code",
   "execution_count": 41,
   "metadata": {},
   "outputs": [
    {
     "name": "stdout",
     "output_type": "stream",
     "text": [
      "请输入你想保存的图片：壁纸\n",
      "请输入你想保存的页码：2\n",
      "请输入你想保存到的地址：E:\\PycharmProjects\\JupyterFiles\\python\\img\n",
      "已获取网页\n"
     ]
    },
    {
     "ename": "TypeError",
     "evalue": "Get_Img_URL() takes 2 positional arguments but 3 were given",
     "output_type": "error",
     "traceback": [
      "\u001b[1;31m---------------------------------------------------------------------------\u001b[0m",
      "\u001b[1;31mTypeError\u001b[0m                                 Traceback (most recent call last)",
      "\u001b[1;32m<ipython-input-41-18312174c822>\u001b[0m in \u001b[0;36m<module>\u001b[1;34m()\u001b[0m\n\u001b[0;32m      5\u001b[0m     \u001b[1;32mfor\u001b[0m \u001b[0mi\u001b[0m \u001b[1;32min\u001b[0m \u001b[0mrange\u001b[0m\u001b[1;33m(\u001b[0m\u001b[1;36m1\u001b[0m\u001b[1;33m,\u001b[0m\u001b[0mint\u001b[0m\u001b[1;33m(\u001b[0m\u001b[0mpages\u001b[0m\u001b[1;33m)\u001b[0m\u001b[1;33m+\u001b[0m\u001b[1;36m1\u001b[0m\u001b[1;33m)\u001b[0m\u001b[1;33m:\u001b[0m\u001b[1;33m\u001b[0m\u001b[0m\n\u001b[0;32m      6\u001b[0m         \u001b[0mcon\u001b[0m\u001b[1;33m=\u001b[0m\u001b[0mGet_Img\u001b[0m\u001b[1;33m(\u001b[0m\u001b[0mkeyword\u001b[0m\u001b[1;33m,\u001b[0m\u001b[0mi\u001b[0m\u001b[1;33m*\u001b[0m\u001b[1;36m30\u001b[0m\u001b[1;33m)\u001b[0m\u001b[1;33m\u001b[0m\u001b[0m\n\u001b[1;32m----> 7\u001b[1;33m         \u001b[0mGet_Img_URL\u001b[0m\u001b[1;33m(\u001b[0m\u001b[0mcon\u001b[0m\u001b[1;33m,\u001b[0m \u001b[0mstore_path\u001b[0m\u001b[1;33m,\u001b[0m\u001b[0mi\u001b[0m\u001b[1;33m)\u001b[0m\u001b[1;33m\u001b[0m\u001b[0m\n\u001b[0m",
      "\u001b[1;31mTypeError\u001b[0m: Get_Img_URL() takes 2 positional arguments but 3 were given"
     ]
    }
   ],
   "source": [
    "if __name__=='__main__':\n",
    "    keyword=input('请输入你想保存的图片：')\n",
    "    pages = input('请输入你想保存的页码：')\n",
    "    store_path = input('请输入你想保存到的地址：')\n",
    "    for i in range(1,int(pages)+1):\n",
    "        con=Get_Img(keyword,i*30)\n",
    "        Get_Img_URL(con, store_path,i)\n"
   ]
  },
  {
   "cell_type": "markdown",
   "metadata": {},
   "source": [
    "# 更多的交流请关注公众号 "
   ]
  },
  {
   "cell_type": "markdown",
   "metadata": {},
   "source": [
    "<div style=\"margin-left:46%\">个人微信：</div>"
   ]
  },
  {
   "cell_type": "markdown",
   "metadata": {},
   "source": [
    "![](http://ww1.sinaimg.cn/large/699db930ly1fq7o5ieg3wj20by0bywfb.jpg)"
   ]
  },
  {
   "cell_type": "markdown",
   "metadata": {},
   "source": [
    "<div style=\"margin-left:50%\">党支部公众号：</div>"
   ]
  },
  {
   "cell_type": "code",
   "execution_count": 1,
   "metadata": {},
   "outputs": [],
   "source": [
    "import requests"
   ]
  },
  {
   "cell_type": "code",
   "execution_count": 2,
   "metadata": {},
   "outputs": [],
   "source": [
    "response=requests.get(\"http://2017.ip138.com/ic.asp\")"
   ]
  },
  {
   "cell_type": "code",
   "execution_count": 28,
   "metadata": {},
   "outputs": [
    {
     "name": "stdout",
     "output_type": "stream",
     "text": [
      "b'<html>\\r\\n<head>\\r\\n<meta http-equiv=\"content-type\" content=\"text/html; charset=gb2312\">\\r\\n<title> \\xc4\\xfa\\xb5\\xc4IP\\xb5\\xd8\\xd6\\xb7 </title>\\r\\n</head>\\r\\n<body style=\"margin:0px\"><center>\\xc4\\xfa\\xb5\\xc4IP\\xca\\xc7\\xa3\\xba[124.207.151.157] \\xc0\\xb4\\xd7\\xd4\\xa3\\xba\\xb1\\xb1\\xbe\\xa9\\xca\\xd0\\xb1\\xb1\\xbe\\xa9\\xca\\xd0 \\xc5\\xf4\\xb2\\xa9\\xca\\xbf\\xbf\\xed\\xb4\\xf8</center></body></html>'\n"
     ]
    }
   ],
   "source": [
    "re=response.content\n",
    "print(re)"
   ]
  },
  {
   "cell_type": "code",
   "execution_count": 12,
   "metadata": {},
   "outputs": [
    {
     "name": "stdout",
     "output_type": "stream",
     "text": [
      "<html>\r\n",
      "<head>\r\n",
      "<meta http-equiv=\"content-type\" content=\"text/html; charset=gb2312\">\r\n",
      "<title> 您的IP地址 </title>\r\n",
      "</head>\r\n",
      "<body style=\"margin:0px\"><center>您的IP是：[124.207.151.157] 来自：北京市北京市 鹏博士宽带</center></body></html>\n"
     ]
    }
   ],
   "source": [
    "print(re.decode(\"gb2312\",\"ignore\"))"
   ]
  },
  {
   "cell_type": "code",
   "execution_count": 13,
   "metadata": {},
   "outputs": [],
   "source": [
    "from stem import Signal\n",
    "from stem.control import Controller\n",
    "import socket\n",
    "import socks\n",
    "import requests\n",
    "import time,re"
   ]
  },
  {
   "cell_type": "code",
   "execution_count": 15,
   "metadata": {},
   "outputs": [
    {
     "ename": "IncorrectSocketType",
     "evalue": "unable to use the control socket",
     "output_type": "error",
     "traceback": [
      "\u001b[1;31m---------------------------------------------------------------------------\u001b[0m",
      "\u001b[1;31mProtocolError\u001b[0m                             Traceback (most recent call last)",
      "\u001b[1;32m~\\Anaconda3\\lib\\site-packages\\stem\\connection.py\u001b[0m in \u001b[0;36mauthenticate\u001b[1;34m(controller, password, chroot_path, protocolinfo_response)\u001b[0m\n\u001b[0;32m    529\u001b[0m     \u001b[1;32mtry\u001b[0m\u001b[1;33m:\u001b[0m\u001b[1;33m\u001b[0m\u001b[0m\n\u001b[1;32m--> 530\u001b[1;33m       \u001b[0mprotocolinfo_response\u001b[0m \u001b[1;33m=\u001b[0m \u001b[0mget_protocolinfo\u001b[0m\u001b[1;33m(\u001b[0m\u001b[0mcontroller\u001b[0m\u001b[1;33m)\u001b[0m\u001b[1;33m\u001b[0m\u001b[0m\n\u001b[0m\u001b[0;32m    531\u001b[0m     \u001b[1;32mexcept\u001b[0m \u001b[0mstem\u001b[0m\u001b[1;33m.\u001b[0m\u001b[0mProtocolError\u001b[0m\u001b[1;33m:\u001b[0m\u001b[1;33m\u001b[0m\u001b[0m\n",
      "\u001b[1;32m~\\Anaconda3\\lib\\site-packages\\stem\\connection.py\u001b[0m in \u001b[0;36mget_protocolinfo\u001b[1;34m(controller)\u001b[0m\n\u001b[0;32m   1017\u001b[0m     \u001b[1;32mtry\u001b[0m\u001b[1;33m:\u001b[0m\u001b[1;33m\u001b[0m\u001b[0m\n\u001b[1;32m-> 1018\u001b[1;33m       \u001b[0mprotocolinfo_response\u001b[0m \u001b[1;33m=\u001b[0m \u001b[0m_msg\u001b[0m\u001b[1;33m(\u001b[0m\u001b[0mcontroller\u001b[0m\u001b[1;33m,\u001b[0m \u001b[1;34m'PROTOCOLINFO 1'\u001b[0m\u001b[1;33m)\u001b[0m\u001b[1;33m\u001b[0m\u001b[0m\n\u001b[0m\u001b[0;32m   1019\u001b[0m     \u001b[1;32mexcept\u001b[0m \u001b[0mstem\u001b[0m\u001b[1;33m.\u001b[0m\u001b[0mSocketClosed\u001b[0m \u001b[1;32mas\u001b[0m \u001b[0mexc\u001b[0m\u001b[1;33m:\u001b[0m\u001b[1;33m\u001b[0m\u001b[0m\n",
      "\u001b[1;32m~\\Anaconda3\\lib\\site-packages\\stem\\connection.py\u001b[0m in \u001b[0;36m_msg\u001b[1;34m(controller, message)\u001b[0m\n\u001b[0;32m   1035\u001b[0m   \u001b[1;32melse\u001b[0m\u001b[1;33m:\u001b[0m\u001b[1;33m\u001b[0m\u001b[0m\n\u001b[1;32m-> 1036\u001b[1;33m     \u001b[1;32mreturn\u001b[0m \u001b[0mcontroller\u001b[0m\u001b[1;33m.\u001b[0m\u001b[0mmsg\u001b[0m\u001b[1;33m(\u001b[0m\u001b[0mmessage\u001b[0m\u001b[1;33m)\u001b[0m\u001b[1;33m\u001b[0m\u001b[0m\n\u001b[0m\u001b[0;32m   1037\u001b[0m \u001b[1;33m\u001b[0m\u001b[0m\n",
      "\u001b[1;32m~\\Anaconda3\\lib\\site-packages\\stem\\control.py\u001b[0m in \u001b[0;36mmsg\u001b[1;34m(self, message)\u001b[0m\n\u001b[0;32m    661\u001b[0m         \u001b[1;32mif\u001b[0m \u001b[0misinstance\u001b[0m\u001b[1;33m(\u001b[0m\u001b[0mresponse\u001b[0m\u001b[1;33m,\u001b[0m \u001b[0mstem\u001b[0m\u001b[1;33m.\u001b[0m\u001b[0mControllerError\u001b[0m\u001b[1;33m)\u001b[0m\u001b[1;33m:\u001b[0m\u001b[1;33m\u001b[0m\u001b[0m\n\u001b[1;32m--> 662\u001b[1;33m           \u001b[1;32mraise\u001b[0m \u001b[0mresponse\u001b[0m\u001b[1;33m\u001b[0m\u001b[0m\n\u001b[0m\u001b[0;32m    663\u001b[0m         \u001b[1;32melse\u001b[0m\u001b[1;33m:\u001b[0m\u001b[1;33m\u001b[0m\u001b[0m\n",
      "\u001b[1;32m~\\Anaconda3\\lib\\site-packages\\stem\\control.py\u001b[0m in \u001b[0;36m_reader_loop\u001b[1;34m(self)\u001b[0m\n\u001b[0;32m    941\u001b[0m       \u001b[1;32mtry\u001b[0m\u001b[1;33m:\u001b[0m\u001b[1;33m\u001b[0m\u001b[0m\n\u001b[1;32m--> 942\u001b[1;33m         \u001b[0mcontrol_message\u001b[0m \u001b[1;33m=\u001b[0m \u001b[0mself\u001b[0m\u001b[1;33m.\u001b[0m\u001b[0m_socket\u001b[0m\u001b[1;33m.\u001b[0m\u001b[0mrecv\u001b[0m\u001b[1;33m(\u001b[0m\u001b[1;33m)\u001b[0m\u001b[1;33m\u001b[0m\u001b[0m\n\u001b[0m\u001b[0;32m    943\u001b[0m         \u001b[0mself\u001b[0m\u001b[1;33m.\u001b[0m\u001b[0m_last_heartbeat\u001b[0m \u001b[1;33m=\u001b[0m \u001b[0mtime\u001b[0m\u001b[1;33m.\u001b[0m\u001b[0mtime\u001b[0m\u001b[1;33m(\u001b[0m\u001b[1;33m)\u001b[0m\u001b[1;33m\u001b[0m\u001b[0m\n",
      "\u001b[1;32m~\\Anaconda3\\lib\\site-packages\\stem\\socket.py\u001b[0m in \u001b[0;36mrecv\u001b[1;34m(self)\u001b[0m\n\u001b[0;32m    163\u001b[0m \u001b[1;33m\u001b[0m\u001b[0m\n\u001b[1;32m--> 164\u001b[1;33m         \u001b[1;32mreturn\u001b[0m \u001b[0mrecv_message\u001b[0m\u001b[1;33m(\u001b[0m\u001b[0msocket_file\u001b[0m\u001b[1;33m)\u001b[0m\u001b[1;33m\u001b[0m\u001b[0m\n\u001b[0m\u001b[0;32m    165\u001b[0m       \u001b[1;32mexcept\u001b[0m \u001b[0mstem\u001b[0m\u001b[1;33m.\u001b[0m\u001b[0mSocketClosed\u001b[0m\u001b[1;33m:\u001b[0m\u001b[1;33m\u001b[0m\u001b[0m\n",
      "\u001b[1;32m~\\Anaconda3\\lib\\site-packages\\stem\\socket.py\u001b[0m in \u001b[0;36mrecv_message\u001b[1;34m(control_file)\u001b[0m\n\u001b[0;32m    563\u001b[0m       \u001b[0mlog\u001b[0m\u001b[1;33m.\u001b[0m\u001b[0minfo\u001b[0m\u001b[1;33m(\u001b[0m\u001b[0mERROR_MSG\u001b[0m \u001b[1;33m%\u001b[0m \u001b[1;33m(\u001b[0m\u001b[1;34m'ProtocolError'\u001b[0m\u001b[1;33m,\u001b[0m \u001b[1;34m'malformed status code/divider, \"%s\"'\u001b[0m \u001b[1;33m%\u001b[0m \u001b[0mlog\u001b[0m\u001b[1;33m.\u001b[0m\u001b[0mescape\u001b[0m\u001b[1;33m(\u001b[0m\u001b[0mline\u001b[0m\u001b[1;33m)\u001b[0m\u001b[1;33m)\u001b[0m\u001b[1;33m)\u001b[0m\u001b[1;33m\u001b[0m\u001b[0m\n\u001b[1;32m--> 564\u001b[1;33m       \u001b[1;32mraise\u001b[0m \u001b[0mstem\u001b[0m\u001b[1;33m.\u001b[0m\u001b[0mProtocolError\u001b[0m\u001b[1;33m(\u001b[0m\u001b[1;34m'Badly formatted reply line: beginning is malformed'\u001b[0m\u001b[1;33m)\u001b[0m\u001b[1;33m\u001b[0m\u001b[0m\n\u001b[0m\u001b[0;32m    565\u001b[0m     \u001b[1;32melif\u001b[0m \u001b[1;32mnot\u001b[0m \u001b[0mline\u001b[0m\u001b[1;33m.\u001b[0m\u001b[0mendswith\u001b[0m\u001b[1;33m(\u001b[0m\u001b[1;34mb'\\r\\n'\u001b[0m\u001b[1;33m)\u001b[0m\u001b[1;33m:\u001b[0m\u001b[1;33m\u001b[0m\u001b[0m\n",
      "\u001b[1;31mProtocolError\u001b[0m: Badly formatted reply line: beginning is malformed",
      "\nDuring handling of the above exception, another exception occurred:\n",
      "\u001b[1;31mIncorrectSocketType\u001b[0m                       Traceback (most recent call last)",
      "\u001b[1;32m<ipython-input-15-c8f6a7f2f858>\u001b[0m in \u001b[0;36m<module>\u001b[1;34m()\u001b[0m\n\u001b[0;32m      1\u001b[0m \u001b[0mcontroller\u001b[0m\u001b[1;33m=\u001b[0m\u001b[0mController\u001b[0m\u001b[1;33m.\u001b[0m\u001b[0mfrom_port\u001b[0m\u001b[1;33m(\u001b[0m\u001b[0mport\u001b[0m\u001b[1;33m=\u001b[0m\u001b[1;36m9150\u001b[0m\u001b[1;33m)\u001b[0m \u001b[1;31m#默认端口是9151，这里是新建一个tor连接\u001b[0m\u001b[1;33m\u001b[0m\u001b[0m\n\u001b[1;32m----> 2\u001b[1;33m \u001b[0mcontroller\u001b[0m\u001b[1;33m.\u001b[0m\u001b[0mauthenticate\u001b[0m\u001b[1;33m(\u001b[0m\u001b[1;33m)\u001b[0m \u001b[1;31m#tor验证\u001b[0m\u001b[1;33m\u001b[0m\u001b[0m\n\u001b[0m\u001b[0;32m      3\u001b[0m \u001b[0msocks\u001b[0m\u001b[1;33m.\u001b[0m\u001b[0mset_default_proxy\u001b[0m\u001b[1;33m(\u001b[0m\u001b[0msocks\u001b[0m\u001b[1;33m.\u001b[0m\u001b[0mSOCKS5\u001b[0m\u001b[1;33m,\u001b[0m\u001b[1;34m'127.0.0.1'\u001b[0m\u001b[1;33m,\u001b[0m\u001b[1;34m'9150'\u001b[0m\u001b[1;33m)\u001b[0m \u001b[1;31m# 设置与tor的socket连接代理\u001b[0m\u001b[1;33m\u001b[0m\u001b[0m\n\u001b[0;32m      4\u001b[0m \u001b[0msocket\u001b[0m\u001b[1;33m.\u001b[0m\u001b[0msocket\u001b[0m\u001b[1;33m=\u001b[0m\u001b[0msocks\u001b[0m\u001b[1;33m.\u001b[0m\u001b[0msocksocket\u001b[0m \u001b[1;31m# 建立与tor的socket连接\u001b[0m\u001b[1;33m\u001b[0m\u001b[0m\n\u001b[0;32m      5\u001b[0m \u001b[1;33m\u001b[0m\u001b[0m\n",
      "\u001b[1;32m~\\Anaconda3\\lib\\site-packages\\stem\\control.py\u001b[0m in \u001b[0;36mauthenticate\u001b[1;34m(self, *args, **kwargs)\u001b[0m\n\u001b[0;32m   1090\u001b[0m \u001b[1;33m\u001b[0m\u001b[0m\n\u001b[0;32m   1091\u001b[0m     \u001b[1;32mimport\u001b[0m \u001b[0mstem\u001b[0m\u001b[1;33m.\u001b[0m\u001b[0mconnection\u001b[0m\u001b[1;33m\u001b[0m\u001b[0m\n\u001b[1;32m-> 1092\u001b[1;33m     \u001b[0mstem\u001b[0m\u001b[1;33m.\u001b[0m\u001b[0mconnection\u001b[0m\u001b[1;33m.\u001b[0m\u001b[0mauthenticate\u001b[0m\u001b[1;33m(\u001b[0m\u001b[0mself\u001b[0m\u001b[1;33m,\u001b[0m \u001b[1;33m*\u001b[0m\u001b[0margs\u001b[0m\u001b[1;33m,\u001b[0m \u001b[1;33m**\u001b[0m\u001b[0mkwargs\u001b[0m\u001b[1;33m)\u001b[0m\u001b[1;33m\u001b[0m\u001b[0m\n\u001b[0m\u001b[0;32m   1093\u001b[0m \u001b[1;33m\u001b[0m\u001b[0m\n\u001b[0;32m   1094\u001b[0m   \u001b[1;32mdef\u001b[0m \u001b[0mreconnect\u001b[0m\u001b[1;33m(\u001b[0m\u001b[0mself\u001b[0m\u001b[1;33m,\u001b[0m \u001b[1;33m*\u001b[0m\u001b[0margs\u001b[0m\u001b[1;33m,\u001b[0m \u001b[1;33m**\u001b[0m\u001b[0mkwargs\u001b[0m\u001b[1;33m)\u001b[0m\u001b[1;33m:\u001b[0m\u001b[1;33m\u001b[0m\u001b[0m\n",
      "\u001b[1;32m~\\Anaconda3\\lib\\site-packages\\stem\\connection.py\u001b[0m in \u001b[0;36mauthenticate\u001b[1;34m(controller, password, chroot_path, protocolinfo_response)\u001b[0m\n\u001b[0;32m    530\u001b[0m       \u001b[0mprotocolinfo_response\u001b[0m \u001b[1;33m=\u001b[0m \u001b[0mget_protocolinfo\u001b[0m\u001b[1;33m(\u001b[0m\u001b[0mcontroller\u001b[0m\u001b[1;33m)\u001b[0m\u001b[1;33m\u001b[0m\u001b[0m\n\u001b[0;32m    531\u001b[0m     \u001b[1;32mexcept\u001b[0m \u001b[0mstem\u001b[0m\u001b[1;33m.\u001b[0m\u001b[0mProtocolError\u001b[0m\u001b[1;33m:\u001b[0m\u001b[1;33m\u001b[0m\u001b[0m\n\u001b[1;32m--> 532\u001b[1;33m       \u001b[1;32mraise\u001b[0m \u001b[0mIncorrectSocketType\u001b[0m\u001b[1;33m(\u001b[0m\u001b[1;34m'unable to use the control socket'\u001b[0m\u001b[1;33m)\u001b[0m\u001b[1;33m\u001b[0m\u001b[0m\n\u001b[0m\u001b[0;32m    533\u001b[0m     \u001b[1;32mexcept\u001b[0m \u001b[0mstem\u001b[0m\u001b[1;33m.\u001b[0m\u001b[0mSocketError\u001b[0m \u001b[1;32mas\u001b[0m \u001b[0mexc\u001b[0m\u001b[1;33m:\u001b[0m\u001b[1;33m\u001b[0m\u001b[0m\n\u001b[0;32m    534\u001b[0m       \u001b[1;32mraise\u001b[0m \u001b[0mAuthenticationFailure\u001b[0m\u001b[1;33m(\u001b[0m\u001b[1;34m'socket connection failed (%s)'\u001b[0m \u001b[1;33m%\u001b[0m \u001b[0mexc\u001b[0m\u001b[1;33m)\u001b[0m\u001b[1;33m\u001b[0m\u001b[0m\n",
      "\u001b[1;31mIncorrectSocketType\u001b[0m: unable to use the control socket"
     ]
    }
   ],
   "source": [
    "controller=Controller.from_port(port=9150) #默认端口是9151，这里是新建一个tor连接\n",
    "controller.authenticate() #tor验证\n",
    "socks.set_default_proxy(socks.SOCKS5,'127.0.0.1','9150') # 设置与tor的socket连接代理\n",
    "socket.socket=socks.socksocket # 建立与tor的socket连接\n",
    "\n",
    "total_time=0\n",
    "total_changeIP_time=0\n"
   ]
  },
  {
   "cell_type": "code",
   "execution_count": null,
   "metadata": {},
   "outputs": [],
   "source": []
  }
 ],
 "metadata": {
  "kernelspec": {
   "display_name": "Python 3",
   "language": "python",
   "name": "python3"
  },
  "language_info": {
   "codemirror_mode": {
    "name": "ipython",
    "version": 3
   },
   "file_extension": ".py",
   "mimetype": "text/x-python",
   "name": "python",
   "nbconvert_exporter": "python",
   "pygments_lexer": "ipython3",
   "version": "3.6.3"
  },
  "toc": {
   "base_numbering": 1,
   "nav_menu": {},
   "number_sections": true,
   "sideBar": true,
   "skip_h1_title": false,
   "title_cell": "Table of Contents",
   "title_sidebar": "Contents",
   "toc_cell": false,
   "toc_position": {
    "height": "calc(100% - 180px)",
    "left": "10px",
    "top": "150px",
    "width": "303px"
   },
   "toc_section_display": true,
   "toc_window_display": false
  }
 },
 "nbformat": 4,
 "nbformat_minor": 2
}
